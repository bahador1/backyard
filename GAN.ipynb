{
  "nbformat": 4,
  "nbformat_minor": 0,
  "metadata": {
    "colab": {
      "name": "GAN.ipynb",
      "provenance": [],
      "collapsed_sections": [],
      "toc_visible": true
    },
    "kernelspec": {
      "name": "python3",
      "display_name": "Python 3"
    }
  },
  "cells": [
    {
      "cell_type": "markdown",
      "metadata": {
        "id": "4zTZi9L09f6r",
        "colab_type": "text"
      },
      "source": [
        "#### https://skymind.ai/wiki/generative-adversarial-network-gan"
      ]
    },
    {
      "cell_type": "code",
      "metadata": {
        "id": "bFOrs5JI9szT",
        "colab_type": "code",
        "colab": {
          "base_uri": "https://localhost:8080/",
          "height": 82
        },
        "outputId": "1b1fc05a-eb99-4ac7-b22f-00d07df5fbf5"
      },
      "source": [
        "from __future__ import print_function, division\n",
        "\n",
        "from keras.datasets import mnist\n",
        "from keras.layers import Input, Dense, Reshape, Flatten, Dropout\n",
        "from keras.layers import BatchNormalization, Activation, ZeroPadding2D\n",
        "from keras.layers.advanced_activations import LeakyReLU\n",
        "from keras.layers.convolutional import UpSampling2D, Conv2D\n",
        "from keras.models import Sequential, Model\n",
        "from keras.optimizers import Adam\n",
        "\n",
        "import matplotlib.pyplot as plt\n",
        "\n",
        "import sys\n",
        "\n",
        "import numpy as np"
      ],
      "execution_count": 1,
      "outputs": [
        {
          "output_type": "stream",
          "text": [
            "Using TensorFlow backend.\n"
          ],
          "name": "stderr"
        },
        {
          "output_type": "display_data",
          "data": {
            "text/html": [
              "<p style=\"color: red;\">\n",
              "The default version of TensorFlow in Colab will soon switch to TensorFlow 2.x.<br>\n",
              "We recommend you <a href=\"https://www.tensorflow.org/guide/migrate\" target=\"_blank\">upgrade</a> now \n",
              "or ensure your notebook will continue to use TensorFlow 1.x via the <code>%tensorflow_version 1.x</code> magic:\n",
              "<a href=\"https://colab.research.google.com/notebooks/tensorflow_version.ipynb\" target=\"_blank\">more info</a>.</p>\n"
            ],
            "text/plain": [
              "<IPython.core.display.HTML object>"
            ]
          },
          "metadata": {
            "tags": []
          }
        }
      ]
    },
    {
      "cell_type": "code",
      "metadata": {
        "id": "_zIF5AIZ9dhI",
        "colab_type": "code",
        "colab": {
          "base_uri": "https://localhost:8080/",
          "height": 1000
        },
        "outputId": "106bf908-152e-4659-812e-d5f476170461"
      },
      "source": [
        "class GAN():\n",
        "    def __init__(self):\n",
        "        self.img_rows = 28\n",
        "        self.img_cols = 28\n",
        "        self.channels = 1\n",
        "        self.img_shape = (self.img_rows, self.img_cols, self.channels)\n",
        "\n",
        "        optimizer = Adam(0.0002, 0.5)\n",
        "\n",
        "        # Build and compile the discriminator\n",
        "        self.discriminator = self.build_discriminator()\n",
        "        self.discriminator.compile(loss='binary_crossentropy',\n",
        "            optimizer=optimizer,\n",
        "            metrics=['accuracy'])\n",
        "\n",
        "        # Build and compile the generator\n",
        "        self.generator = self.build_generator()\n",
        "        self.generator.compile(loss='binary_crossentropy', optimizer=optimizer)\n",
        "\n",
        "        # The generator takes noise as input and generated imgs\n",
        "        z = Input(shape=(100,))\n",
        "        img = self.generator(z)\n",
        "\n",
        "        # For the combined model we will only train the generator\n",
        "        self.discriminator.trainable = False\n",
        "\n",
        "        # The valid takes generated images as input and determines validity\n",
        "        valid = self.discriminator(img)\n",
        "\n",
        "        # The combined model  (stacked generator and discriminator) takes\n",
        "        # noise as input => generates images => determines validity\n",
        "        self.combined = Model(z, valid)\n",
        "        self.combined.compile(loss='binary_crossentropy', optimizer=optimizer)\n",
        "\n",
        "    def build_generator(self):\n",
        "\n",
        "        noise_shape = (100,)\n",
        "\n",
        "        model = Sequential()\n",
        "\n",
        "        model.add(Dense(256, input_shape=noise_shape))\n",
        "        model.add(LeakyReLU(alpha=0.2))\n",
        "        model.add(BatchNormalization(momentum=0.8))\n",
        "        model.add(Dense(512))\n",
        "        model.add(LeakyReLU(alpha=0.2))\n",
        "        model.add(BatchNormalization(momentum=0.8))\n",
        "        model.add(Dense(1024))\n",
        "        model.add(LeakyReLU(alpha=0.2))\n",
        "        model.add(BatchNormalization(momentum=0.8))\n",
        "        model.add(Dense(np.prod(self.img_shape), activation='tanh'))\n",
        "        model.add(Reshape(self.img_shape))\n",
        "\n",
        "        model.summary()\n",
        "\n",
        "        noise = Input(shape=noise_shape)\n",
        "        img = model(noise)\n",
        "\n",
        "        return Model(noise, img)\n",
        "\n",
        "    def build_discriminator(self):\n",
        "\n",
        "        img_shape = (self.img_rows, self.img_cols, self.channels)\n",
        "\n",
        "        model = Sequential()\n",
        "\n",
        "        model.add(Flatten(input_shape=img_shape))\n",
        "        model.add(Dense(512))\n",
        "        model.add(LeakyReLU(alpha=0.2))\n",
        "        model.add(Dense(256))\n",
        "        model.add(LeakyReLU(alpha=0.2))\n",
        "        model.add(Dense(1, activation='sigmoid'))\n",
        "        model.summary()\n",
        "\n",
        "        img = Input(shape=img_shape)\n",
        "        validity = model(img)\n",
        "\n",
        "        return Model(img, validity)\n",
        "\n",
        "    def train(self, epochs, batch_size=128, save_interval=50):\n",
        "\n",
        "        # Load the dataset\n",
        "        (X_train, _), (_, _) = mnist.load_data()\n",
        "\n",
        "        # Rescale -1 to 1\n",
        "        X_train = (X_train.astype(np.float32) - 127.5) / 127.5\n",
        "        X_train = np.expand_dims(X_train, axis=3)\n",
        "\n",
        "        half_batch = int(batch_size / 2)\n",
        "\n",
        "        for epoch in range(epochs):\n",
        "\n",
        "            # ---------------------\n",
        "            #  Train Discriminator\n",
        "            # ---------------------\n",
        "\n",
        "            # Select a random half batch of images\n",
        "            idx = np.random.randint(0, X_train.shape[0], half_batch)\n",
        "            imgs = X_train[idx]\n",
        "\n",
        "            noise = np.random.normal(0, 1, (half_batch, 100))\n",
        "\n",
        "            # Generate a half batch of new images\n",
        "            gen_imgs = self.generator.predict(noise)\n",
        "\n",
        "            # Train the discriminator\n",
        "            d_loss_real = self.discriminator.train_on_batch(imgs, np.ones((half_batch, 1)))\n",
        "            d_loss_fake = self.discriminator.train_on_batch(gen_imgs, np.zeros((half_batch, 1)))\n",
        "            d_loss = 0.5 * np.add(d_loss_real, d_loss_fake)\n",
        "\n",
        "\n",
        "            # ---------------------\n",
        "            #  Train Generator\n",
        "            # ---------------------\n",
        "\n",
        "            noise = np.random.normal(0, 1, (batch_size, 100))\n",
        "\n",
        "            # The generator wants the discriminator to label the generated samples\n",
        "            # as valid (ones)\n",
        "            valid_y = np.array([1] * batch_size)\n",
        "\n",
        "            # Train the generator\n",
        "            g_loss = self.combined.train_on_batch(noise, valid_y)\n",
        "\n",
        "            # Plot the progress\n",
        "            if epoch % 1000 == 0:\n",
        "                print (\"%d [D loss: %f, acc.: %.2f%%] [G loss: %f]\" % (epoch, d_loss[0], 100*d_loss[1], g_loss))\n",
        "\n",
        "            # If at save interval => save generated image samples\n",
        "            if epoch % save_interval == 0:\n",
        "                self.save_imgs(epoch)\n",
        "\n",
        "    def save_imgs(self, epoch):\n",
        "        r, c = 5, 5\n",
        "        noise = np.random.normal(0, 1, (r * c, 100))\n",
        "        gen_imgs = self.generator.predict(noise)\n",
        "\n",
        "        # Rescale images 0 - 1\n",
        "        gen_imgs = 0.5 * gen_imgs + 0.5\n",
        "\n",
        "        fig, axs = plt.subplots(r, c)\n",
        "        cnt = 0\n",
        "        for i in range(r):\n",
        "            for j in range(c):\n",
        "                axs[i,j].imshow(gen_imgs[cnt, :,:,0], cmap='gray')\n",
        "                axs[i,j].axis('off')\n",
        "                cnt += 1\n",
        "        fig.savefig(\"mnist_%d.png\" % epoch)\n",
        "        plt.close()\n",
        "\n",
        "\n",
        "if __name__ == '__main__':\n",
        "    gan = GAN()\n",
        "    gan.train(epochs=30000, batch_size=32, save_interval=200)"
      ],
      "execution_count": 2,
      "outputs": [
        {
          "output_type": "stream",
          "text": [
            "WARNING:tensorflow:From /usr/local/lib/python3.6/dist-packages/keras/backend/tensorflow_backend.py:66: The name tf.get_default_graph is deprecated. Please use tf.compat.v1.get_default_graph instead.\n",
            "\n",
            "WARNING:tensorflow:From /usr/local/lib/python3.6/dist-packages/keras/backend/tensorflow_backend.py:541: The name tf.placeholder is deprecated. Please use tf.compat.v1.placeholder instead.\n",
            "\n",
            "WARNING:tensorflow:From /usr/local/lib/python3.6/dist-packages/keras/backend/tensorflow_backend.py:4432: The name tf.random_uniform is deprecated. Please use tf.random.uniform instead.\n",
            "\n",
            "Model: \"sequential_1\"\n",
            "_________________________________________________________________\n",
            "Layer (type)                 Output Shape              Param #   \n",
            "=================================================================\n",
            "flatten_1 (Flatten)          (None, 784)               0         \n",
            "_________________________________________________________________\n",
            "dense_1 (Dense)              (None, 512)               401920    \n",
            "_________________________________________________________________\n",
            "leaky_re_lu_1 (LeakyReLU)    (None, 512)               0         \n",
            "_________________________________________________________________\n",
            "dense_2 (Dense)              (None, 256)               131328    \n",
            "_________________________________________________________________\n",
            "leaky_re_lu_2 (LeakyReLU)    (None, 256)               0         \n",
            "_________________________________________________________________\n",
            "dense_3 (Dense)              (None, 1)                 257       \n",
            "=================================================================\n",
            "Total params: 533,505\n",
            "Trainable params: 533,505\n",
            "Non-trainable params: 0\n",
            "_________________________________________________________________\n",
            "WARNING:tensorflow:From /usr/local/lib/python3.6/dist-packages/keras/optimizers.py:793: The name tf.train.Optimizer is deprecated. Please use tf.compat.v1.train.Optimizer instead.\n",
            "\n",
            "WARNING:tensorflow:From /usr/local/lib/python3.6/dist-packages/keras/backend/tensorflow_backend.py:3657: The name tf.log is deprecated. Please use tf.math.log instead.\n",
            "\n",
            "WARNING:tensorflow:From /usr/local/lib/python3.6/dist-packages/tensorflow_core/python/ops/nn_impl.py:183: where (from tensorflow.python.ops.array_ops) is deprecated and will be removed in a future version.\n",
            "Instructions for updating:\n",
            "Use tf.where in 2.0, which has the same broadcast rule as np.where\n",
            "WARNING:tensorflow:From /usr/local/lib/python3.6/dist-packages/keras/backend/tensorflow_backend.py:148: The name tf.placeholder_with_default is deprecated. Please use tf.compat.v1.placeholder_with_default instead.\n",
            "\n",
            "Model: \"sequential_2\"\n",
            "_________________________________________________________________\n",
            "Layer (type)                 Output Shape              Param #   \n",
            "=================================================================\n",
            "dense_4 (Dense)              (None, 256)               25856     \n",
            "_________________________________________________________________\n",
            "leaky_re_lu_3 (LeakyReLU)    (None, 256)               0         \n",
            "_________________________________________________________________\n",
            "batch_normalization_1 (Batch (None, 256)               1024      \n",
            "_________________________________________________________________\n",
            "dense_5 (Dense)              (None, 512)               131584    \n",
            "_________________________________________________________________\n",
            "leaky_re_lu_4 (LeakyReLU)    (None, 512)               0         \n",
            "_________________________________________________________________\n",
            "batch_normalization_2 (Batch (None, 512)               2048      \n",
            "_________________________________________________________________\n",
            "dense_6 (Dense)              (None, 1024)              525312    \n",
            "_________________________________________________________________\n",
            "leaky_re_lu_5 (LeakyReLU)    (None, 1024)              0         \n",
            "_________________________________________________________________\n",
            "batch_normalization_3 (Batch (None, 1024)              4096      \n",
            "_________________________________________________________________\n",
            "dense_7 (Dense)              (None, 784)               803600    \n",
            "_________________________________________________________________\n",
            "reshape_1 (Reshape)          (None, 28, 28, 1)         0         \n",
            "=================================================================\n",
            "Total params: 1,493,520\n",
            "Trainable params: 1,489,936\n",
            "Non-trainable params: 3,584\n",
            "_________________________________________________________________\n",
            "WARNING:tensorflow:From /usr/local/lib/python3.6/dist-packages/keras/backend/tensorflow_backend.py:3005: The name tf.Session is deprecated. Please use tf.compat.v1.Session instead.\n",
            "\n",
            "WARNING:tensorflow:From /usr/local/lib/python3.6/dist-packages/keras/backend/tensorflow_backend.py:190: The name tf.get_default_session is deprecated. Please use tf.compat.v1.get_default_session instead.\n",
            "\n",
            "WARNING:tensorflow:From /usr/local/lib/python3.6/dist-packages/keras/backend/tensorflow_backend.py:197: The name tf.ConfigProto is deprecated. Please use tf.compat.v1.ConfigProto instead.\n",
            "\n",
            "WARNING:tensorflow:From /usr/local/lib/python3.6/dist-packages/keras/backend/tensorflow_backend.py:207: The name tf.global_variables is deprecated. Please use tf.compat.v1.global_variables instead.\n",
            "\n",
            "WARNING:tensorflow:From /usr/local/lib/python3.6/dist-packages/keras/backend/tensorflow_backend.py:216: The name tf.is_variable_initialized is deprecated. Please use tf.compat.v1.is_variable_initialized instead.\n",
            "\n",
            "WARNING:tensorflow:From /usr/local/lib/python3.6/dist-packages/keras/backend/tensorflow_backend.py:223: The name tf.variables_initializer is deprecated. Please use tf.compat.v1.variables_initializer instead.\n",
            "\n",
            "WARNING:tensorflow:From /usr/local/lib/python3.6/dist-packages/keras/backend/tensorflow_backend.py:1033: The name tf.assign_add is deprecated. Please use tf.compat.v1.assign_add instead.\n",
            "\n",
            "WARNING:tensorflow:From /usr/local/lib/python3.6/dist-packages/keras/backend/tensorflow_backend.py:1020: The name tf.assign is deprecated. Please use tf.compat.v1.assign instead.\n",
            "\n"
          ],
          "name": "stdout"
        },
        {
          "output_type": "stream",
          "text": [
            "/usr/local/lib/python3.6/dist-packages/keras/engine/training.py:493: UserWarning: Discrepancy between trainable weights and collected trainable weights, did you set `model.trainable` without calling `model.compile` after ?\n",
            "  'Discrepancy between trainable weights and collected trainable'\n"
          ],
          "name": "stderr"
        },
        {
          "output_type": "stream",
          "text": [
            "0 [D loss: 0.816018, acc.: 53.12%] [G loss: 0.926807]\n"
          ],
          "name": "stdout"
        },
        {
          "output_type": "stream",
          "text": [
            "/usr/local/lib/python3.6/dist-packages/keras/engine/training.py:493: UserWarning: Discrepancy between trainable weights and collected trainable weights, did you set `model.trainable` without calling `model.compile` after ?\n",
            "  'Discrepancy between trainable weights and collected trainable'\n"
          ],
          "name": "stderr"
        },
        {
          "output_type": "stream",
          "text": [
            "1000 [D loss: 0.535702, acc.: 84.38%] [G loss: 0.833196]\n",
            "2000 [D loss: 0.572787, acc.: 75.00%] [G loss: 0.916670]\n",
            "3000 [D loss: 0.603893, acc.: 75.00%] [G loss: 0.898414]\n",
            "4000 [D loss: 0.723199, acc.: 59.38%] [G loss: 0.882854]\n",
            "5000 [D loss: 0.651632, acc.: 68.75%] [G loss: 0.953309]\n",
            "6000 [D loss: 0.607249, acc.: 59.38%] [G loss: 0.865180]\n",
            "7000 [D loss: 0.528763, acc.: 78.12%] [G loss: 0.822246]\n",
            "8000 [D loss: 0.675180, acc.: 62.50%] [G loss: 0.872396]\n",
            "9000 [D loss: 0.757370, acc.: 56.25%] [G loss: 0.809089]\n",
            "10000 [D loss: 0.702131, acc.: 68.75%] [G loss: 0.876641]\n",
            "11000 [D loss: 0.732733, acc.: 56.25%] [G loss: 0.868623]\n",
            "12000 [D loss: 0.700178, acc.: 56.25%] [G loss: 0.909348]\n",
            "13000 [D loss: 0.625108, acc.: 56.25%] [G loss: 0.928051]\n",
            "14000 [D loss: 0.664243, acc.: 59.38%] [G loss: 0.852565]\n",
            "15000 [D loss: 0.654538, acc.: 65.62%] [G loss: 0.842156]\n",
            "16000 [D loss: 0.719456, acc.: 53.12%] [G loss: 0.917211]\n",
            "17000 [D loss: 0.721724, acc.: 59.38%] [G loss: 0.877341]\n",
            "18000 [D loss: 0.667405, acc.: 59.38%] [G loss: 0.860342]\n",
            "19000 [D loss: 0.619498, acc.: 75.00%] [G loss: 0.831920]\n",
            "20000 [D loss: 0.649898, acc.: 68.75%] [G loss: 0.879648]\n",
            "21000 [D loss: 0.685026, acc.: 50.00%] [G loss: 0.864847]\n",
            "22000 [D loss: 0.717678, acc.: 50.00%] [G loss: 0.859968]\n",
            "23000 [D loss: 0.688672, acc.: 68.75%] [G loss: 0.875234]\n",
            "24000 [D loss: 0.622307, acc.: 62.50%] [G loss: 0.845745]\n",
            "25000 [D loss: 0.726449, acc.: 56.25%] [G loss: 0.810021]\n",
            "26000 [D loss: 0.615909, acc.: 56.25%] [G loss: 0.798995]\n",
            "27000 [D loss: 0.608228, acc.: 65.62%] [G loss: 0.879489]\n",
            "28000 [D loss: 0.703685, acc.: 34.38%] [G loss: 0.879749]\n",
            "29000 [D loss: 0.733923, acc.: 34.38%] [G loss: 0.900198]\n"
          ],
          "name": "stdout"
        }
      ]
    },
    {
      "cell_type": "code",
      "metadata": {
        "id": "FMCdE4o8E8cm",
        "colab_type": "code",
        "colab": {}
      },
      "source": [
        "import cv2\n",
        "import matplotlib.pyplot as plt"
      ],
      "execution_count": 0,
      "outputs": []
    },
    {
      "cell_type": "code",
      "metadata": {
        "id": "ItP8t2CjFgOV",
        "colab_type": "code",
        "colab": {
          "base_uri": "https://localhost:8080/",
          "height": 701
        },
        "outputId": "96d813c7-23ba-4183-f401-4ad027bca707"
      },
      "source": [
        "ls"
      ],
      "execution_count": 10,
      "outputs": [
        {
          "output_type": "stream",
          "text": [
            "mnist_0.png      mnist_16600.png  mnist_23400.png  mnist_3400.png\n",
            "mnist_10000.png  mnist_16800.png  mnist_23600.png  mnist_3600.png\n",
            "mnist_1000.png   mnist_17000.png  mnist_23800.png  mnist_3800.png\n",
            "mnist_10200.png  mnist_17200.png  mnist_24000.png  mnist_4000.png\n",
            "mnist_10400.png  mnist_17400.png  mnist_2400.png   mnist_400.png\n",
            "mnist_10600.png  mnist_17600.png  mnist_24200.png  mnist_4200.png\n",
            "mnist_10800.png  mnist_17800.png  mnist_24400.png  mnist_4400.png\n",
            "mnist_11000.png  mnist_18000.png  mnist_24600.png  mnist_4600.png\n",
            "mnist_11200.png  mnist_1800.png   mnist_24800.png  mnist_4800.png\n",
            "mnist_11400.png  mnist_18200.png  mnist_25000.png  mnist_5000.png\n",
            "mnist_11600.png  mnist_18400.png  mnist_25200.png  mnist_5200.png\n",
            "mnist_11800.png  mnist_18600.png  mnist_25400.png  mnist_5400.png\n",
            "mnist_12000.png  mnist_18800.png  mnist_25600.png  mnist_5600.png\n",
            "mnist_1200.png   mnist_19000.png  mnist_25800.png  mnist_5800.png\n",
            "mnist_12200.png  mnist_19200.png  mnist_26000.png  mnist_6000.png\n",
            "mnist_12400.png  mnist_19400.png  mnist_2600.png   mnist_600.png\n",
            "mnist_12600.png  mnist_19600.png  mnist_26200.png  mnist_6200.png\n",
            "mnist_12800.png  mnist_19800.png  mnist_26400.png  mnist_6400.png\n",
            "mnist_13000.png  mnist_20000.png  mnist_26600.png  mnist_6600.png\n",
            "mnist_13200.png  mnist_2000.png   mnist_26800.png  mnist_6800.png\n",
            "mnist_13400.png  mnist_200.png    mnist_27000.png  mnist_7000.png\n",
            "mnist_13600.png  mnist_20200.png  mnist_27200.png  mnist_7200.png\n",
            "mnist_13800.png  mnist_20400.png  mnist_27400.png  mnist_7400.png\n",
            "mnist_14000.png  mnist_20600.png  mnist_27600.png  mnist_7600.png\n",
            "mnist_1400.png   mnist_20800.png  mnist_27800.png  mnist_7800.png\n",
            "mnist_14200.png  mnist_21000.png  mnist_28000.png  mnist_8000.png\n",
            "mnist_14400.png  mnist_21200.png  mnist_2800.png   mnist_800.png\n",
            "mnist_14600.png  mnist_21400.png  mnist_28200.png  mnist_8200.png\n",
            "mnist_14800.png  mnist_21600.png  mnist_28400.png  mnist_8400.png\n",
            "mnist_15000.png  mnist_21800.png  mnist_28600.png  mnist_8600.png\n",
            "mnist_15200.png  mnist_22000.png  mnist_28800.png  mnist_8800.png\n",
            "mnist_15400.png  mnist_2200.png   mnist_29000.png  mnist_9000.png\n",
            "mnist_15600.png  mnist_22200.png  mnist_29200.png  mnist_9200.png\n",
            "mnist_15800.png  mnist_22400.png  mnist_29400.png  mnist_9400.png\n",
            "mnist_16000.png  mnist_22600.png  mnist_29600.png  mnist_9600.png\n",
            "mnist_1600.png   mnist_22800.png  mnist_29800.png  mnist_9800.png\n",
            "mnist_16200.png  mnist_23000.png  mnist_3000.png   \u001b[0m\u001b[01;34msample_data\u001b[0m/\n",
            "mnist_16400.png  mnist_23200.png  mnist_3200.png\n"
          ],
          "name": "stdout"
        }
      ]
    },
    {
      "cell_type": "code",
      "metadata": {
        "id": "VN5l3lgyFJSd",
        "colab_type": "code",
        "colab": {
          "base_uri": "https://localhost:8080/",
          "height": 35
        },
        "outputId": "7ec63c25-68a4-4603-bb96-c01ea933a873"
      },
      "source": [
        "res = cv2.imread('mnist_29800.png');res.shape"
      ],
      "execution_count": 11,
      "outputs": [
        {
          "output_type": "execute_result",
          "data": {
            "text/plain": [
              "(288, 432, 3)"
            ]
          },
          "metadata": {
            "tags": []
          },
          "execution_count": 11
        }
      ]
    },
    {
      "cell_type": "code",
      "metadata": {
        "id": "Yd22J2B4FDXS",
        "colab_type": "code",
        "colab": {
          "base_uri": "https://localhost:8080/",
          "height": 287
        },
        "outputId": "90ec0280-3bd1-425b-917c-86c20e50b789"
      },
      "source": [
        "plt.imshow(res)"
      ],
      "execution_count": 12,
      "outputs": [
        {
          "output_type": "execute_result",
          "data": {
            "text/plain": [
              "<matplotlib.image.AxesImage at 0x7fae65f6c668>"
            ]
          },
          "metadata": {
            "tags": []
          },
          "execution_count": 12
        },
        {
          "output_type": "display_data",
          "data": {
            "image/png": "[encoded data removed]",
            "text/plain": [
              "<Figure size 432x288 with 1 Axes>"
            ]
          },
          "metadata": {
            "tags": []
          }
        }
      ]
    },
    {
      "cell_type": "code",
      "metadata": {
        "id": "ejMF8I9nFTUL",
        "colab_type": "code",
        "colab": {}
      },
      "source": [
        ""
      ],
      "execution_count": 0,
      "outputs": []
    }
  ]
}