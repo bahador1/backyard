{
 "cells": [
  {
   "cell_type": "code",
   "execution_count": 1,
   "metadata": {
    "collapsed": true
   },
   "outputs": [],
   "source": [
    "import torch\n",
    "import torch.nn as nn\n",
    "from torch.autograd import Variable\n",
    "import torch.utils.data as Data\n",
    "import torchvision\n",
    "import matplotlib.pyplot as plt\n",
    "import sklearn"
   ]
  },
  {
   "cell_type": "code",
   "execution_count": 51,
   "metadata": {},
   "outputs": [
    {
     "name": "stdout",
     "output_type": "stream",
     "text": [
      "torch.Size([60000, 28, 28])\n",
      "torch.Size([60000])\n"
     ]
    },
    {
     "data": {
      "image/png": "[encoded data removed]",
      "text/plain": [
       "<matplotlib.figure.Figure at 0x11a9672c470>"
      ]
     },
     "metadata": {},
     "output_type": "display_data"
    }
   ],
   "source": [
    "torch.manual_seed(1)    # reproducible\n",
    "\n",
    "# Hyper Parameters\n",
    "EPOCH = 1               # train the training data n times, to save time, we just train 1 epoch\n",
    "BATCH_SIZE = 50\n",
    "LR = 0.001              # learning rate\n",
    "DOWNLOAD_MNIST = True   # set to False if you have downloaded\n",
    "\n",
    "\n",
    "# Mnist digits dataset\n",
    "train_data = torchvision.datasets.MNIST(\n",
    "    root='./mnist/',\n",
    "    train=True,                                     # this is training data\n",
    "    transform=torchvision.transforms.ToTensor(),    # Converts a PIL.Image or numpy.ndarray to\n",
    "                                                    # torch.FloatTensor of shape (C x H x W) and normalize in the range [0.0, 1.0]\n",
    "    download=DOWNLOAD_MNIST,                        # download it if you don't have it\n",
    ")\n",
    "\n",
    "# plot one example\n",
    "print(train_data.train_data.size())                 # (60000, 28, 28)\n",
    "print(train_data.train_labels.size())               # (60000)\n",
    "plt.imshow(train_data.train_data[0].numpy(), cmap='gray')\n",
    "plt.title('%i' % train_data.train_labels[0])\n",
    "plt.show()\n",
    "\n",
    "# Data Loader for easy mini-batch return in training, the image batch shape will be (50, 1, 28, 28)\n",
    "train_loader = Data.DataLoader(dataset=train_data, batch_size=BATCH_SIZE, shuffle=True)\n",
    "\n",
    "# convert test data into Variable, pick 2000 samples to speed up testing\n",
    "test_data = torchvision.datasets.MNIST(root='./mnist/', train=False)\n",
    "test_x = Variable(torch.unsqueeze(test_data.test_data, dim=1), volatile=True).type(torch.FloatTensor)[:2000]/255.   # shape from (2000, 28, 28) to (2000, 1, 28, 28), value in range(0,1)\n",
    "test_y = test_data.test_labels[:2000]\n",
    "#test_y = Variable(test_y)"
   ]
  },
  {
   "cell_type": "code",
   "execution_count": 5,
   "metadata": {},
   "outputs": [],
   "source": [
    "class CNN(nn.Module):\n",
    "    def __init__(self):\n",
    "        super(CNN, self).__init__()\n",
    "        self.conv1 = nn.Sequential(         # input shape (1, 28, 28)\n",
    "            nn.Conv2d(\n",
    "                in_channels=1,              # input height\n",
    "                out_channels=16,            # n_filters\n",
    "                kernel_size=5,              # filter size\n",
    "                stride=1,                   # filter movement/step\n",
    "                padding=2,                  # if want same width and length of this image after con2d, padding=(kernel_size-1)/2 if stride=1\n",
    "            ),                              # output shape (16, 28, 28)\n",
    "            nn.PReLU(),                      # activation\n",
    "            nn.MaxPool2d(kernel_size=2),    # choose max value in 2x2 area, output shape (16, 14, 14)\n",
    "        )\n",
    "        self.conv2 = nn.Sequential(         # input shape (1, 28, 28)\n",
    "            nn.Conv2d(16, 32, 5, 1, 2),     # output shape (32, 14, 14)\n",
    "            nn.PReLU(),                      # activation\n",
    "            nn.MaxPool2d(2),                # output shape (32, 7, 7)\n",
    "        )\n",
    "        self.out = nn.Linear(32 * 7 * 7, 10)   # fully connected layer, output 10 classes\n",
    "\n",
    "    def forward(self, x):\n",
    "        x = self.conv1(x)\n",
    "        x = self.conv2(x)\n",
    "        x = x.view(x.size(0), -1)           # flatten the output of conv2 to (batch_size, 32 * 7 * 7)\n",
    "        output = self.out(x)\n",
    "        return output, x    # return x for visualization"
   ]
  },
  {
   "cell_type": "code",
   "execution_count": 13,
   "metadata": {},
   "outputs": [],
   "source": [
    "def train():\n",
    "    \n",
    "    cnn = CNN()\n",
    "    print(cnn)  # net architecture\n",
    "\n",
    "    optimizer = torch.optim.Adam(cnn.parameters(), lr=LR)   # optimize all cnn parameters\n",
    "    loss_func = nn.CrossEntropyLoss()                       # the target label is not one-hotted\n",
    "\n",
    "    # following function (plot_with_labels) is for visualization, can be ignored if not interested\n",
    "\n",
    "    # training and testing\n",
    "    for epoch in range(EPOCH):\n",
    "        for step, (x, y) in enumerate(train_loader):   # gives batch data, normalize x when iterate train_loader\n",
    "            b_x = Variable(x)   # batch x\n",
    "            b_y = Variable(y)   # batch y\n",
    "\n",
    "            output = cnn(b_x)[0]               # cnn output\n",
    "            loss = loss_func(output, b_y)   # cross entropy loss\n",
    "            optimizer.zero_grad()           # clear gradients for this training step\n",
    "            loss.backward()                 # backpropagation, compute gradients\n",
    "            optimizer.step()                # apply gradients\n",
    "\n",
    "            if step % 50 == 0:\n",
    "                test_output, last_layer = cnn(test_x)\n",
    "                pred_y = torch.max(test_output, 1)[1].data.squeeze()\n",
    "                accuracy = sum(pred_y == test_y) / float(test_y.size(0))\n",
    "                print('Epoch: ', epoch, '| train loss: %.4f' % loss.data[0], '| test accuracy: %.2f' % accuracy)\n",
    "\n",
    "\n",
    "    # print 10 predictions from test data\n",
    "    test_output, _ = cnn(test_x[:10])\n",
    "    pred_y = torch.max(test_output, 1)[1].data.numpy().squeeze()\n",
    "    print(pred_y, 'prediction number')\n",
    "    print(test_y[:10].numpy(), 'real number')"
   ]
  },
  {
   "cell_type": "code",
   "execution_count": 7,
   "metadata": {},
   "outputs": [
    {
     "name": "stdout",
     "output_type": "stream",
     "text": [
      "CNN (\n",
      "  (conv1): Sequential (\n",
      "    (0): Conv2d(1, 16, kernel_size=(5, 5), stride=(1, 1), padding=(2, 2))\n",
      "    (1): PReLU (1)\n",
      "    (2): MaxPool2d (size=(2, 2), stride=(2, 2), dilation=(1, 1))\n",
      "  )\n",
      "  (conv2): Sequential (\n",
      "    (0): Conv2d(16, 32, kernel_size=(5, 5), stride=(1, 1), padding=(2, 2))\n",
      "    (1): PReLU (1)\n",
      "    (2): MaxPool2d (size=(2, 2), stride=(2, 2), dilation=(1, 1))\n",
      "  )\n",
      "  (out): Linear (1568 -> 10)\n",
      ")\n",
      "Epoch:  0 | train loss: 2.3001 | test accuracy: 0.12\n",
      "Epoch:  0 | train loss: 0.4401 | test accuracy: 0.82\n",
      "Epoch:  0 | train loss: 0.3700 | test accuracy: 0.89\n",
      "Epoch:  0 | train loss: 0.2937 | test accuracy: 0.91\n",
      "Epoch:  0 | train loss: 0.1163 | test accuracy: 0.93\n",
      "Epoch:  0 | train loss: 0.0666 | test accuracy: 0.94\n",
      "Epoch:  0 | train loss: 0.2306 | test accuracy: 0.95\n",
      "Epoch:  0 | train loss: 0.0614 | test accuracy: 0.95\n",
      "Epoch:  0 | train loss: 0.2692 | test accuracy: 0.96\n",
      "Epoch:  0 | train loss: 0.1826 | test accuracy: 0.95\n",
      "Epoch:  0 | train loss: 0.0961 | test accuracy: 0.96\n",
      "Epoch:  0 | train loss: 0.1585 | test accuracy: 0.96\n",
      "Epoch:  0 | train loss: 0.0524 | test accuracy: 0.96\n",
      "Epoch:  0 | train loss: 0.2617 | test accuracy: 0.96\n",
      "Epoch:  0 | train loss: 0.1896 | test accuracy: 0.97\n",
      "Epoch:  0 | train loss: 0.0552 | test accuracy: 0.97\n",
      "Epoch:  0 | train loss: 0.1068 | test accuracy: 0.96\n",
      "Epoch:  0 | train loss: 0.0669 | test accuracy: 0.97\n",
      "Epoch:  0 | train loss: 0.0280 | test accuracy: 0.97\n",
      "Epoch:  0 | train loss: 0.1371 | test accuracy: 0.97\n",
      "Epoch:  0 | train loss: 0.1887 | test accuracy: 0.97\n",
      "Epoch:  0 | train loss: 0.0418 | test accuracy: 0.98\n",
      "Epoch:  0 | train loss: 0.1621 | test accuracy: 0.97\n",
      "Epoch:  0 | train loss: 0.0904 | test accuracy: 0.98\n",
      "[7 2 1 0 4 1 4 9 5 9] prediction number\n",
      "[7 2 1 0 4 1 4 9 5 9] real number\n"
     ]
    }
   ],
   "source": [
    "train()"
   ]
  },
  {
   "cell_type": "code",
   "execution_count": 8,
   "metadata": {},
   "outputs": [],
   "source": [
    "#save model params\n",
    "torch.save(cnn.state_dict(), 'params.pkl')"
   ]
  },
  {
   "cell_type": "code",
   "execution_count": 14,
   "metadata": {},
   "outputs": [
    {
     "name": "stdout",
     "output_type": "stream",
     "text": [
      "[7 2 1 ..., 3 9 5] prediction number\n",
      "[7 2 1 0 4 1 4 9 5 9 0 6 9 0 1 5 9 7 3 4] real number\n"
     ]
    }
   ],
   "source": [
    "#load model\n",
    "model = CNN()\n",
    "model.load_state_dict(torch.load('params.pkl'))\n",
    "\n",
    "\n",
    "test_output, _ = model(test_x[:2000])\n",
    "pred_y = torch.max(test_output, 1)[1].data.numpy().squeeze()\n",
    "print(pred_y, 'prediction number')\n",
    "print(test_y[:20].numpy(), 'real number')"
   ]
  },
  {
   "cell_type": "code",
   "execution_count": 55,
   "metadata": {
    "collapsed": true
   },
   "outputs": [
    {
     "name": "stdout",
     "output_type": "stream",
     "text": [
      "precision: [ 0.99  1.    0.96  0.98  0.98  0.97  0.96  1.    0.98  0.97]\n",
      "recall: [ 0.99  0.99  1.    1.    0.96  0.98  0.99  0.96  0.97  0.96]\n",
      "fscore: [ 0.99  0.99  0.98  0.99  0.97  0.97  0.98  0.98  0.98  0.97]\n",
      "support: [175 234 219 207 217 179 178 205 192 194]\n"
     ]
    }
   ],
   "source": [
    "#precision recall fscore support\n",
    "from sklearn.metrics import precision_recall_fscore_support as score\n",
    "\n",
    "predicted = list(pred_y)\n",
    "y_test = list(test_y)\n",
    "\n",
    "precision, recall, fscore, support = score(y_test, predicted)\n",
    "\n",
    "print('precision: {}'.format(precision))\n",
    "print('recall: {}'.format(recall))\n",
    "print('fscore: {}'.format(fscore))\n",
    "print('support: {}'.format(support))"
   ]
  },
  {
   "cell_type": "code",
   "execution_count": 53,
   "metadata": {},
   "outputs": [
    {
     "name": "stdout",
     "output_type": "stream",
     "text": [
      "Automatically created module for IPython interactive environment\n",
      "Confusion matrix, without normalization\n",
      "[[173   0   0   0   0   0   2   0   0   0]\n",
      " [  0 232   0   0   0   0   1   0   1   0]\n",
      " [  0   0 219   0   0   0   0   0   0   0]\n",
      " [  0   0   0 206   0   1   0   0   0   0]\n",
      " [  0   1   0   0 209   0   4   0   0   3]\n",
      " [  0   0   1   2   0 175   0   0   1   0]\n",
      " [  0   0   0   0   0   2 176   0   0   0]\n",
      " [  0   0   5   2   0   0   0 196   0   2]\n",
      " [  1   0   2   0   1   0   0   0 187   1]\n",
      " [  0   0   0   0   3   2   0   0   2 187]]\n",
      "Normalized confusion matrix\n",
      "[[ 0.99  0.    0.    0.    0.    0.    0.01  0.    0.    0.  ]\n",
      " [ 0.    0.99  0.    0.    0.    0.    0.    0.    0.    0.  ]\n",
      " [ 0.    0.    1.    0.    0.    0.    0.    0.    0.    0.  ]\n",
      " [ 0.    0.    0.    1.    0.    0.    0.    0.    0.    0.  ]\n",
      " [ 0.    0.    0.    0.    0.96  0.    0.02  0.    0.    0.01]\n",
      " [ 0.    0.    0.01  0.01  0.    0.98  0.    0.    0.01  0.  ]\n",
      " [ 0.    0.    0.    0.    0.    0.01  0.99  0.    0.    0.  ]\n",
      " [ 0.    0.    0.02  0.01  0.    0.    0.    0.96  0.    0.01]\n",
      " [ 0.01  0.    0.01  0.    0.01  0.    0.    0.    0.97  0.01]\n",
      " [ 0.    0.    0.    0.    0.02  0.01  0.    0.    0.01  0.96]]\n"
     ]
    },
    {
     "data": {
      "image/png": "[encoded data removed]",
      "text/plain": [
       "<matplotlib.figure.Figure at 0x11a94208d30>"
      ]
     },
     "metadata": {},
     "output_type": "display_data"
    },
    {
     "data": {
      "image/png": "[encoded data removed]",
      "text/plain": [
       "<matplotlib.figure.Figure at 0x11a91c85a90>"
      ]
     },
     "metadata": {},
     "output_type": "display_data"
    }
   ],
   "source": [
    "print(__doc__)\n",
    "\n",
    "import itertools\n",
    "import numpy as np\n",
    "import matplotlib.pyplot as plt\n",
    "\n",
    "from sklearn import svm, datasets\n",
    "from sklearn.model_selection import train_test_split\n",
    "from sklearn.metrics import confusion_matrix\n",
    "\n",
    "class_names = [0,1,2,3,4,5,6,7,8,9]\n",
    "\n",
    "model = CNN()\n",
    "model.load_state_dict(torch.load('params.pkl'))\n",
    "test_output, _ = model(test_x[:2000])\n",
    "y_pred = torch.max(test_output, 1)[1].data.numpy().squeeze()\n",
    "test_y = test_y.numpy()\n",
    "# Run classifier, using a model that is too regularized (C too low) to see\n",
    "# the impact on the results\n",
    "\n",
    "\n",
    "def plot_confusion_matrix(cm, classes,\n",
    "                          normalize=False,\n",
    "                          title='Confusion matrix',\n",
    "                          cmap=plt.cm.Blues):\n",
    "    \"\"\"\n",
    "    This function prints and plots the confusion matrix.\n",
    "    Normalization can be applied by setting `normalize=True`.\n",
    "    \"\"\"\n",
    "    if normalize:\n",
    "        cm = cm.astype('float') / cm.sum(axis=1)[:, np.newaxis]\n",
    "        print(\"Normalized confusion matrix\")\n",
    "    else:\n",
    "        print('Confusion matrix, without normalization')\n",
    "\n",
    "    print(cm)\n",
    "\n",
    "    plt.imshow(cm, interpolation='nearest', cmap=cmap)\n",
    "    plt.title(title)\n",
    "    plt.colorbar()\n",
    "    tick_marks = np.arange(len(classes))\n",
    "    plt.xticks(tick_marks, classes, rotation=45)\n",
    "    plt.yticks(tick_marks, classes)\n",
    "\n",
    "    fmt = '.2f' if normalize else 'd'\n",
    "    thresh = cm.max() / 2.\n",
    "    for i, j in itertools.product(range(cm.shape[0]), range(cm.shape[1])):\n",
    "        plt.text(j, i, format(cm[i, j], fmt),\n",
    "                 horizontalalignment=\"center\",\n",
    "                 color=\"white\" if cm[i, j] > thresh else \"black\")\n",
    "\n",
    "    plt.tight_layout()\n",
    "    plt.ylabel('True label')\n",
    "    plt.xlabel('Predicted label')\n",
    "\n",
    "# Compute confusion matrix\n",
    "cnf_matrix = confusion_matrix(test_y, y_pred)\n",
    "np.set_printoptions(precision=2)\n",
    "\n",
    "# Plot non-normalized confusion matrix\n",
    "plt.figure()\n",
    "plot_confusion_matrix(cnf_matrix, classes=class_names,\n",
    "                      title='Confusion matrix, without normalization')\n",
    "\n",
    "# Plot normalized confusion matrix\n",
    "plt.figure()\n",
    "plot_confusion_matrix(cnf_matrix, classes=class_names, normalize=True,\n",
    "                      title='Normalized confusion matrix')\n",
    "\n",
    "plt.show()"
   ]
  }
 ],
 "metadata": {
  "kernelspec": {
   "display_name": "Python 3",
   "language": "python",
   "name": "python3"
  },
  "language_info": {
   "codemirror_mode": {
    "name": "ipython",
    "version": 3
   },
   "file_extension": ".py",
   "mimetype": "text/x-python",
   "name": "python",
   "nbconvert_exporter": "python",
   "pygments_lexer": "ipython3",
   "version": "3.6.1"
  }
 },
 "nbformat": 4,
 "nbformat_minor": 2
}
