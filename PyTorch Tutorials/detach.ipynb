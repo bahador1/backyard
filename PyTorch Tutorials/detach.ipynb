{
  "nbformat": 4,
  "nbformat_minor": 0,
  "metadata": {
    "colab": {
      "name": "detach.ipynb",
      "version": "0.3.2",
      "provenance": [],
      "collapsed_sections": []
    },
    "kernelspec": {
      "name": "python3",
      "display_name": "Python 3"
    }
  },
  "cells": [
    {
      "cell_type": "code",
      "metadata": {
        "id": "otbHjiypcX-K",
        "colab_type": "code",
        "colab": {}
      },
      "source": [
        "import torch"
      ],
      "execution_count": 0,
      "outputs": []
    },
    {
      "cell_type": "markdown",
      "metadata": {
        "id": "Li0bWk6Dlt9R",
        "colab_type": "text"
      },
      "source": [
        "### deatch():  https://discuss.pytorch.org/t/clone-and-detach-in-v0-4-0/16861\n",
        "#### tensor.detach() creates a tensor that shares storage with tensor that does not require grad. "
      ]
    },
    {
      "cell_type": "code",
      "metadata": {
        "id": "Ra2IUaOylKxk",
        "colab_type": "code",
        "colab": {
          "base_uri": "https://localhost:8080/",
          "height": 35
        },
        "outputId": "63d9b8aa-d63a-4657-c274-eee971df091a"
      },
      "source": [
        "# a is a tensor with require grad\n",
        "a = torch.tensor(2., requires_grad=True);a"
      ],
      "execution_count": 24,
      "outputs": [
        {
          "output_type": "execute_result",
          "data": {
            "text/plain": [
              "tensor(2., requires_grad=True)"
            ]
          },
          "metadata": {
            "tags": []
          },
          "execution_count": 24
        }
      ]
    },
    {
      "cell_type": "code",
      "metadata": {
        "id": "VGAeHGaOlMy3",
        "colab_type": "code",
        "colab": {
          "base_uri": "https://localhost:8080/",
          "height": 35
        },
        "outputId": "c9e2e5d8-7b29-47a5-a800-9c574f4b1ec6"
      },
      "source": [
        "b = a.detach();b # with deatch() no grad. "
      ],
      "execution_count": 25,
      "outputs": [
        {
          "output_type": "execute_result",
          "data": {
            "text/plain": [
              "tensor(2.)"
            ]
          },
          "metadata": {
            "tags": []
          },
          "execution_count": 25
        }
      ]
    },
    {
      "cell_type": "markdown",
      "metadata": {
        "id": "61Rf4wSMmaIs",
        "colab_type": "text"
      },
      "source": [
        "### tensor.data returns a new tensor that shares storage with tensor. However, it always has requires_grad=False (even if the original tensor had requires_grad=True"
      ]
    },
    {
      "cell_type": "code",
      "metadata": {
        "id": "QuNtCT00laMU",
        "colab_type": "code",
        "colab": {
          "base_uri": "https://localhost:8080/",
          "height": 35
        },
        "outputId": "e08c9bde-e1c7-42bf-f943-1c2fad6ebb3d"
      },
      "source": [
        "c = a.data;c"
      ],
      "execution_count": 26,
      "outputs": [
        {
          "output_type": "execute_result",
          "data": {
            "text/plain": [
              "tensor(2.)"
            ]
          },
          "metadata": {
            "tags": []
          },
          "execution_count": 26
        }
      ]
    },
    {
      "cell_type": "code",
      "metadata": {
        "id": "8gDygLCQlav2",
        "colab_type": "code",
        "colab": {
          "base_uri": "https://localhost:8080/",
          "height": 35
        },
        "outputId": "98b2857d-c23b-41f9-aa95-65cca4d1b63a"
      },
      "source": [
        "d = a.item();d"
      ],
      "execution_count": 27,
      "outputs": [
        {
          "output_type": "execute_result",
          "data": {
            "text/plain": [
              "2.0"
            ]
          },
          "metadata": {
            "tags": []
          },
          "execution_count": 27
        }
      ]
    },
    {
      "cell_type": "code",
      "metadata": {
        "id": "Kl46iSqEmkbk",
        "colab_type": "code",
        "colab": {}
      },
      "source": [
        ""
      ],
      "execution_count": 0,
      "outputs": []
    }
  ]
}