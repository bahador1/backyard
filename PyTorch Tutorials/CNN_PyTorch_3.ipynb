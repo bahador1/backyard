{
  "nbformat": 4,
  "nbformat_minor": 0,
  "metadata": {
    "colab": {
      "name": "CNN_PyTorch_3.ipynb",
      "version": "0.3.2",
      "provenance": [],
      "collapsed_sections": []
    },
    "kernelspec": {
      "name": "python3",
      "display_name": "Python 3"
    },
    "accelerator": "GPU"
  },
  "cells": [
    {
      "metadata": {
        "id": "vRJgODwUlLHl",
        "colab_type": "text"
      },
      "cell_type": "markdown",
      "source": [
        "由于pytorch更新版本，CNN_PyTorch_2.ipynb 已经不再适用。\n",
        "CNN_PyTorch_3.ipynb  2019.3.20"
      ]
    },
    {
      "metadata": {
        "id": "xrvGt384x4iW",
        "colab_type": "code",
        "colab": {}
      },
      "cell_type": "code",
      "source": [
        "import torch\n",
        "import torch.nn as nn\n",
        "from torch.autograd import Variable\n",
        "import torch.utils.data as Data\n",
        "import torchvision\n",
        "import matplotlib.pyplot as plt\n",
        "import sklearn"
      ],
      "execution_count": 0,
      "outputs": []
    },
    {
      "metadata": {
        "id": "b-kGNc1Cx6th",
        "colab_type": "code",
        "colab": {}
      },
      "cell_type": "code",
      "source": [
        "torch.manual_seed(1)    # reproducible\n",
        "\n",
        "# Hyper Parameters\n",
        "EPOCH = 2               # train the training data n times, to save time, we just train 1 epoch\n",
        "BATCH_SIZE = 50\n",
        "LR = 0.001              # learning rate\n",
        "DOWNLOAD_MNIST = True   # set to False if you have downloaded"
      ],
      "execution_count": 0,
      "outputs": []
    },
    {
      "metadata": {
        "id": "eH8mxsS_yHbv",
        "colab_type": "code",
        "outputId": "1382f843-8b40-4c81-b8be-4b6652431ab0",
        "colab": {
          "base_uri": "https://localhost:8080/",
          "height": 269
        }
      },
      "cell_type": "code",
      "source": [
        "# Mnist digits dataset\n",
        "train_data = torchvision.datasets.MNIST(\n",
        "    root='./mnist/',\n",
        "    train=True,                                     # this is training data\n",
        "    transform=torchvision.transforms.ToTensor(),    # Converts a PIL.Image or numpy.ndarray to\n",
        "                                                    # torch.FloatTensor of shape (C x H x W) and normalize in the range [0.0, 1.0]\n",
        "    download=DOWNLOAD_MNIST,                        # download it if you don't have it\n",
        ")"
      ],
      "execution_count": 3,
      "outputs": [
        {
          "output_type": "stream",
          "text": [
            "  0%|          | 16384/9912422 [00:00<01:31, 108686.06it/s]"
          ],
          "name": "stderr"
        },
        {
          "output_type": "stream",
          "text": [
            "Downloading http://yann.lecun.com/exdb/mnist/train-images-idx3-ubyte.gz to ./mnist/MNIST/raw/train-images-idx3-ubyte.gz\n"
          ],
          "name": "stdout"
        },
        {
          "output_type": "stream",
          "text": [
            "9920512it [00:00, 27642075.02it/s]                           \n"
          ],
          "name": "stderr"
        },
        {
          "output_type": "stream",
          "text": [
            "Extracting ./mnist/MNIST/raw/train-images-idx3-ubyte.gz\n"
          ],
          "name": "stdout"
        },
        {
          "output_type": "stream",
          "text": [
            "32768it [00:00, 439458.71it/s]\n",
            "  1%|          | 16384/1648877 [00:00<00:11, 147202.61it/s]"
          ],
          "name": "stderr"
        },
        {
          "output_type": "stream",
          "text": [
            "Downloading http://yann.lecun.com/exdb/mnist/train-labels-idx1-ubyte.gz to ./mnist/MNIST/raw/train-labels-idx1-ubyte.gz\n",
            "Extracting ./mnist/MNIST/raw/train-labels-idx1-ubyte.gz\n",
            "Downloading http://yann.lecun.com/exdb/mnist/t10k-images-idx3-ubyte.gz to ./mnist/MNIST/raw/t10k-images-idx3-ubyte.gz\n"
          ],
          "name": "stdout"
        },
        {
          "output_type": "stream",
          "text": [
            "1654784it [00:00, 7634002.53it/s]                            \n",
            "8192it [00:00, 179690.71it/s]\n"
          ],
          "name": "stderr"
        },
        {
          "output_type": "stream",
          "text": [
            "Extracting ./mnist/MNIST/raw/t10k-images-idx3-ubyte.gz\n",
            "Downloading http://yann.lecun.com/exdb/mnist/t10k-labels-idx1-ubyte.gz to ./mnist/MNIST/raw/t10k-labels-idx1-ubyte.gz\n",
            "Extracting ./mnist/MNIST/raw/t10k-labels-idx1-ubyte.gz\n",
            "Processing...\n",
            "Done!\n"
          ],
          "name": "stdout"
        }
      ]
    },
    {
      "metadata": {
        "id": "vI7smL8DyKmP",
        "colab_type": "code",
        "outputId": "5188d843-fac8-4606-cea2-118000ce2fdf",
        "colab": {
          "base_uri": "https://localhost:8080/",
          "height": 470
        }
      },
      "cell_type": "code",
      "source": [
        "# plot one example\n",
        "print(train_data.train_data.size())                 # (60000, 28, 28)\n",
        "print(train_data.train_labels.size())               # (60000)\n",
        "plt.imshow(train_data.train_data[0].numpy(), cmap='gray')\n",
        "plt.title('%i' % train_data.train_labels[0])\n",
        "plt.show()"
      ],
      "execution_count": 4,
      "outputs": [
        {
          "output_type": "stream",
          "text": [
            "/usr/local/lib/python3.6/dist-packages/torchvision/datasets/mnist.py:53: UserWarning: train_data has been renamed data\n",
            "  warnings.warn(\"train_data has been renamed data\")\n",
            "/usr/local/lib/python3.6/dist-packages/torchvision/datasets/mnist.py:43: UserWarning: train_labels has been renamed targets\n",
            "  warnings.warn(\"train_labels has been renamed targets\")\n"
          ],
          "name": "stderr"
        },
        {
          "output_type": "stream",
          "text": [
            "torch.Size([60000, 28, 28])\n",
            "torch.Size([60000])\n"
          ],
          "name": "stdout"
        },
        {
          "output_type": "display_data",
          "data": {
            "image/png": "[encoded data removed]",
            "text/plain": [
              "<Figure size 576x396 with 1 Axes>"
            ]
          },
          "metadata": {
            "tags": []
          }
        }
      ]
    },
    {
      "metadata": {
        "id": "lTPNhWI-yOKf",
        "colab_type": "code",
        "outputId": "851f544b-d62b-4e75-9405-1ba987dc9bd7",
        "colab": {
          "base_uri": "https://localhost:8080/",
          "height": 125
        }
      },
      "cell_type": "code",
      "source": [
        "# Data Loader for easy mini-batch return in training, the image batch shape will be (50, 1, 28, 28)\n",
        "train_loader = Data.DataLoader(dataset=train_data, batch_size=BATCH_SIZE, shuffle=True)\n",
        "\n",
        "# convert test data into Variable, pick 2000 samples to speed up testing\n",
        "test_data = torchvision.datasets.MNIST(root='./mnist/', train=False)\n",
        "test_x = Variable(torch.unsqueeze(test_data.test_data, dim=1), volatile=True).type(torch.FloatTensor)[:2000]/255.   # shape from (2000, 28, 28) to (2000, 1, 28, 28), value in range(0,1)\n",
        "test_y = test_data.test_labels[:2000]\n",
        "#test_y = Variable(test_y)"
      ],
      "execution_count": 5,
      "outputs": [
        {
          "output_type": "stream",
          "text": [
            "/usr/local/lib/python3.6/dist-packages/torchvision/datasets/mnist.py:58: UserWarning: test_data has been renamed data\n",
            "  warnings.warn(\"test_data has been renamed data\")\n",
            "/usr/local/lib/python3.6/dist-packages/ipykernel_launcher.py:5: UserWarning: volatile was removed and now has no effect. Use `with torch.no_grad():` instead.\n",
            "  \"\"\"\n",
            "/usr/local/lib/python3.6/dist-packages/torchvision/datasets/mnist.py:48: UserWarning: test_labels has been renamed targets\n",
            "  warnings.warn(\"test_labels has been renamed targets\")\n"
          ],
          "name": "stderr"
        }
      ]
    },
    {
      "metadata": {
        "id": "vD0p2aerySkv",
        "colab_type": "code",
        "colab": {}
      },
      "cell_type": "code",
      "source": [
        "class CNN(nn.Module):\n",
        "    def __init__(self):\n",
        "        super(CNN, self).__init__()\n",
        "        self.conv1 = nn.Sequential(         # input shape (1, 28, 28)\n",
        "            nn.Conv2d(\n",
        "                in_channels=1,              # input height\n",
        "                out_channels=16,            # n_filters\n",
        "                kernel_size=5,              # filter size\n",
        "                stride=1,                   # filter movement/step\n",
        "                padding=2,                  # if want same width and length of this image after con2d, padding=(kernel_size-1)/2 if stride=1\n",
        "            ),                              # output shape (16, 28, 28)\n",
        "            nn.PReLU(),                      # activation\n",
        "            nn.MaxPool2d(kernel_size=2),    # choose max value in 2x2 area, output shape (16, 14, 14)\n",
        "        )\n",
        "        self.conv2 = nn.Sequential(         # input shape (1, 28, 28)\n",
        "            nn.Conv2d(16, 32, 5, 1, 2),     # output shape (32, 14, 14)\n",
        "            nn.PReLU(),                      # activation\n",
        "            nn.MaxPool2d(2),                # output shape (32, 7, 7)\n",
        "        )\n",
        "        self.out = nn.Linear(32 * 7 * 7, 10)   # fully connected layer, output 10 classes\n",
        "\n",
        "    def forward(self, x):\n",
        "        x = self.conv1(x)\n",
        "        x = self.conv2(x)\n",
        "        x = x.view(x.size(0), -1)           # flatten the output of conv2 to (batch_size, 32 * 7 * 7)\n",
        "        output = self.out(x)\n",
        "        return output, x    # return x for visualization"
      ],
      "execution_count": 0,
      "outputs": []
    },
    {
      "metadata": {
        "id": "Y6B6UAdyyaip",
        "colab_type": "code",
        "outputId": "cf581cf5-21f3-4afb-b912-3887447de926",
        "colab": {
          "base_uri": "https://localhost:8080/",
          "height": 233
        }
      },
      "cell_type": "code",
      "source": [
        "cnn = CNN()\n",
        "#print(cnn)  # net architecture\n",
        "cnn = cnn.cuda()\n",
        "\n",
        "optimizer = torch.optim.Adam(cnn.parameters(), lr=LR)   # optimize all cnn parameters\n",
        "loss_func = nn.CrossEntropyLoss()                       # the target label is not one-hotted\n",
        "\n",
        "# following function (plot_with_labels) is for visualization, can be ignored if not interested\n",
        "\n",
        "# training and testing\n",
        "for epoch in range(EPOCH):\n",
        "    for step, (x, y) in enumerate(train_loader):   # gives batch data, normalize x when iterate train_loader\n",
        "        b_x = x.cuda()   # batch x\n",
        "        b_y = y.cuda()   # batch y\n",
        "\n",
        "        output = cnn(b_x)[0]               # cnn output\n",
        "        loss = loss_func(output, b_y)   # cross entropy loss\n",
        "        optimizer.zero_grad()           # clear gradients for this training step\n",
        "        loss.backward()                 # backpropagation, compute gradients\n",
        "        optimizer.step()                # apply gradients\n",
        "\n",
        "        if step % 200 == 0:\n",
        "            test_output, last_layer = cnn(test_x.cuda())\n",
        "            pred_y = torch.max(test_output, 1)[1].data.squeeze()\n",
        "            accuracy = torch.sum(pred_y == test_y.cuda()).float() / float(test_y.size(0))\n",
        "            print('Epoch: ', epoch, '| train loss: %.4f' % loss.item(), '| test accuracy: %.2f' % accuracy)\n"
      ],
      "execution_count": 7,
      "outputs": [
        {
          "output_type": "stream",
          "text": [
            "Epoch:  0 | train loss: 2.3130 | test accuracy: 0.08\n",
            "Epoch:  0 | train loss: 0.4235 | test accuracy: 0.92\n",
            "Epoch:  0 | train loss: 0.1404 | test accuracy: 0.96\n",
            "Epoch:  0 | train loss: 0.0369 | test accuracy: 0.97\n",
            "Epoch:  0 | train loss: 0.0362 | test accuracy: 0.97\n",
            "Epoch:  0 | train loss: 0.0334 | test accuracy: 0.98\n",
            "Epoch:  1 | train loss: 0.0143 | test accuracy: 0.98\n",
            "Epoch:  1 | train loss: 0.0076 | test accuracy: 0.98\n",
            "Epoch:  1 | train loss: 0.2393 | test accuracy: 0.98\n",
            "Epoch:  1 | train loss: 0.0427 | test accuracy: 0.98\n",
            "Epoch:  1 | train loss: 0.0018 | test accuracy: 0.98\n",
            "Epoch:  1 | train loss: 0.0021 | test accuracy: 0.98\n"
          ],
          "name": "stdout"
        }
      ]
    },
    {
      "metadata": {
        "id": "tQYOtEDkyeXw",
        "colab_type": "code",
        "outputId": "604ddb0b-cbf8-49b7-fcbf-1a19138584d8",
        "colab": {
          "base_uri": "https://localhost:8080/",
          "height": 53
        }
      },
      "cell_type": "code",
      "source": [
        "# print 10 predictions from test data\n",
        "test_output, _ = cnn(test_x[:20].cuda())\n",
        "pred_y = torch.max(test_output.cpu(), 1)[1].data.numpy().squeeze()\n",
        "print(pred_y, 'prediction number')\n",
        "print(test_y[:20].numpy(), 'real number')"
      ],
      "execution_count": 8,
      "outputs": [
        {
          "output_type": "stream",
          "text": [
            "[7 2 1 0 4 1 4 9 5 9 0 6 9 0 1 5 9 7 3 4] prediction number\n",
            "[7 2 1 0 4 1 4 9 5 9 0 6 9 0 1 5 9 7 3 4] real number\n"
          ],
          "name": "stdout"
        }
      ]
    },
    {
      "metadata": {
        "id": "aBRWN9cH0L7e",
        "colab_type": "code",
        "outputId": "ae1f6745-1bef-47df-de9f-103b3ea4573f",
        "colab": {
          "base_uri": "https://localhost:8080/",
          "height": 53
        }
      },
      "cell_type": "code",
      "source": [
        "test_output, _ = cnn(test_x[:2000].cuda())\n",
        "pred_y = torch.max(test_output.cpu(), 1)[1].data.numpy().squeeze()\n",
        "print(pred_y, 'prediction number')\n",
        "print(test_y[:20].numpy(), 'real number')"
      ],
      "execution_count": 10,
      "outputs": [
        {
          "output_type": "stream",
          "text": [
            "[7 2 1 ... 3 9 5] prediction number\n",
            "[7 2 1 0 4 1 4 9 5 9 0 6 9 0 1 5 9 7 3 4] real number\n"
          ],
          "name": "stdout"
        }
      ]
    },
    {
      "metadata": {
        "id": "4pD3qleZzVOw",
        "colab_type": "code",
        "outputId": "609d9779-9c00-4803-8b82-4829ea15931a",
        "colab": {
          "base_uri": "https://localhost:8080/",
          "height": 143
        }
      },
      "cell_type": "code",
      "source": [
        "#precision recall fscore support\n",
        "from sklearn.metrics import precision_recall_fscore_support as score\n",
        "\n",
        "predicted = list(pred_y)\n",
        "y_test = list(test_y)\n",
        "\n",
        "precision, recall, fscore, support = score(y_test, predicted)\n",
        "\n",
        "print('precision: {}'.format(precision))\n",
        "print('recall: {}'.format(recall))\n",
        "print('fscore: {}'.format(fscore))\n",
        "print('support: {}'.format(support))"
      ],
      "execution_count": 11,
      "outputs": [
        {
          "output_type": "stream",
          "text": [
            "precision: [0.98314607 0.99145299 0.96460177 0.99514563 0.98617512 0.98342541\n",
            " 0.98876404 1.         0.99470899 0.96954315]\n",
            "recall: [1.         0.99145299 0.99543379 0.99033816 0.98617512 0.99441341\n",
            " 0.98876404 0.94634146 0.97916667 0.98453608]\n",
            "fscore: [0.99150142 0.99145299 0.97977528 0.99273608 0.98617512 0.98888889\n",
            " 0.98876404 0.97243108 0.98687664 0.9769821 ]\n",
            "support: [175 234 219 207 217 179 178 205 192 194]\n"
          ],
          "name": "stdout"
        }
      ]
    },
    {
      "metadata": {
        "id": "Eqzr9Z200TOu",
        "colab_type": "code",
        "outputId": "f4e41ed3-d50e-4368-f865-434b9776e1a6",
        "colab": {
          "base_uri": "https://localhost:8080/",
          "height": 1227
        }
      },
      "cell_type": "code",
      "source": [
        "print(__doc__)\n",
        "\n",
        "import itertools\n",
        "import numpy as np\n",
        "import matplotlib.pyplot as plt\n",
        "\n",
        "from sklearn import svm, datasets\n",
        "from sklearn.model_selection import train_test_split\n",
        "from sklearn.metrics import confusion_matrix\n",
        "\n",
        "class_names = [0,1,2,3,4,5,6,7,8,9]\n",
        "\n",
        "#model = CNN()\n",
        "#model.load_state_dict(torch.load('params.pkl'))\n",
        "test_output, _ = cnn(test_x[:2000].cuda())\n",
        "y_pred = torch.max(test_output.cpu(), 1)[1].data.numpy().squeeze()\n",
        "test_y = test_y.numpy()\n",
        "# Run classifier, using a model that is too regularized (C too low) to see\n",
        "# the impact on the results\n",
        "\n",
        "\n",
        "def plot_confusion_matrix(cm, classes,\n",
        "                          normalize=False,\n",
        "                          title='Confusion matrix',\n",
        "                          cmap=plt.cm.Blues):\n",
        "    \"\"\"\n",
        "    This function prints and plots the confusion matrix.\n",
        "    Normalization can be applied by setting `normalize=True`.\n",
        "    \"\"\"\n",
        "    if normalize:\n",
        "        cm = cm.astype('float') / cm.sum(axis=1)[:, np.newaxis]\n",
        "        print(\"Normalized confusion matrix\")\n",
        "    else:\n",
        "        print('Confusion matrix, without normalization')\n",
        "\n",
        "    print(cm)\n",
        "\n",
        "    plt.imshow(cm, interpolation='nearest', cmap=cmap)\n",
        "    plt.title(title)\n",
        "    plt.colorbar()\n",
        "    tick_marks = np.arange(len(classes))\n",
        "    plt.xticks(tick_marks, classes, rotation=45)\n",
        "    plt.yticks(tick_marks, classes)\n",
        "\n",
        "    fmt = '.2f' if normalize else 'd'\n",
        "    thresh = cm.max() / 2.\n",
        "    for i, j in itertools.product(range(cm.shape[0]), range(cm.shape[1])):\n",
        "        plt.text(j, i, format(cm[i, j], fmt),\n",
        "                 horizontalalignment=\"center\",\n",
        "                 color=\"white\" if cm[i, j] > thresh else \"black\")\n",
        "\n",
        "    plt.tight_layout()\n",
        "    plt.ylabel('True label')\n",
        "    plt.xlabel('Predicted label')\n",
        "\n",
        "# Compute confusion matrix\n",
        "cnf_matrix = confusion_matrix(test_y, y_pred)\n",
        "np.set_printoptions(precision=2)\n",
        "\n",
        "# Plot non-normalized confusion matrix\n",
        "plt.figure()\n",
        "plot_confusion_matrix(cnf_matrix, classes=class_names,\n",
        "                      title='Confusion matrix, without normalization')\n",
        "\n",
        "# Plot normalized confusion matrix\n",
        "plt.figure()\n",
        "plot_confusion_matrix(cnf_matrix, classes=class_names, normalize=True,\n",
        "                      title='Normalized confusion matrix')\n",
        "\n",
        "plt.show()"
      ],
      "execution_count": 13,
      "outputs": [
        {
          "output_type": "stream",
          "text": [
            "Automatically created module for IPython interactive environment\n",
            "Confusion matrix, without normalization\n",
            "[[175   0   0   0   0   0   0   0   0   0]\n",
            " [  0 232   0   0   0   0   1   0   1   0]\n",
            " [  0   1 218   0   0   0   0   0   0   0]\n",
            " [  0   0   0 205   0   2   0   0   0   0]\n",
            " [  0   0   0   0 214   0   1   0   0   2]\n",
            " [  0   0   0   1   0 178   0   0   0   0]\n",
            " [  2   0   0   0   0   0 176   0   0   0]\n",
            " [  0   1   6   0   1   0   0 194   0   3]\n",
            " [  1   0   2   0   0   0   0   0 188   1]\n",
            " [  0   0   0   0   2   1   0   0   0 191]]\n",
            "Normalized confusion matrix\n",
            "[[1.   0.   0.   0.   0.   0.   0.   0.   0.   0.  ]\n",
            " [0.   0.99 0.   0.   0.   0.   0.   0.   0.   0.  ]\n",
            " [0.   0.   1.   0.   0.   0.   0.   0.   0.   0.  ]\n",
            " [0.   0.   0.   0.99 0.   0.01 0.   0.   0.   0.  ]\n",
            " [0.   0.   0.   0.   0.99 0.   0.   0.   0.   0.01]\n",
            " [0.   0.   0.   0.01 0.   0.99 0.   0.   0.   0.  ]\n",
            " [0.01 0.   0.   0.   0.   0.   0.99 0.   0.   0.  ]\n",
            " [0.   0.   0.03 0.   0.   0.   0.   0.95 0.   0.01]\n",
            " [0.01 0.   0.01 0.   0.   0.   0.   0.   0.98 0.01]\n",
            " [0.   0.   0.   0.   0.01 0.01 0.   0.   0.   0.98]]\n"
          ],
          "name": "stdout"
        },
        {
          "output_type": "display_data",
          "data": {
            "image/png": "[encoded data removed]",
            "text/plain": [
              "<Figure size 576x396 with 2 Axes>"
            ]
          },
          "metadata": {
            "tags": []
          }
        },
        {
          "output_type": "display_data",
          "data": {
            "image/png": "[encoded data removed]",
            "text/plain": [
              "<Figure size 576x396 with 2 Axes>"
            ]
          },
          "metadata": {
            "tags": []
          }
        }
      ]
    }
  ]
}