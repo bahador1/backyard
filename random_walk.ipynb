{
 "cells": [
  {
   "cell_type": "code",
   "execution_count": 1,
   "metadata": {},
   "outputs": [],
   "source": [
    "# random walk \n",
    "# https://www.youtube.com/watch?v=BfS2H1y6tzQ&list=PLi01XoE8jYohWFPpC17Z-wWhPOSuh8Er-&index=22&t=0s"
   ]
  },
  {
   "cell_type": "code",
   "execution_count": 2,
   "metadata": {},
   "outputs": [],
   "source": [
    "import random"
   ]
  },
  {
   "cell_type": "code",
   "execution_count": 3,
   "metadata": {},
   "outputs": [],
   "source": [
    "def random_walk(n):\n",
    "    \"\"\"return coordinates after 'n' block random walk.\"\"\"\n",
    "    x = 0\n",
    "    y = 0\n",
    "    \n",
    "    for i in range(n):\n",
    "        step = random.choice(['N', 'S', 'E', 'W'])\n",
    "        if step == 'N':\n",
    "            y = y + 1\n",
    "        elif step == 'S':\n",
    "            y = y - 1\n",
    "        elif step == 'E':\n",
    "            x = x + 1\n",
    "        elif step == 'W':\n",
    "            x = x - 1\n",
    "    return (x, y)"
   ]
  },
  {
   "cell_type": "code",
   "execution_count": 6,
   "metadata": {},
   "outputs": [
    {
     "name": "stdout",
     "output_type": "stream",
     "text": [
      "(0, -4) distance from home = 4\n",
      "(0, 2) distance from home = 2\n",
      "(2, 2) distance from home = 4\n",
      "(-3, -1) distance from home = 4\n",
      "(-3, 1) distance from home = 4\n",
      "(1, -1) distance from home = 2\n",
      "(-3, -5) distance from home = 8\n",
      "(1, 1) distance from home = 2\n",
      "(4, 2) distance from home = 6\n",
      "(2, 0) distance from home = 2\n",
      "(-2, 4) distance from home = 6\n",
      "(-1, -1) distance from home = 2\n",
      "(-1, -3) distance from home = 4\n",
      "(2, 0) distance from home = 2\n",
      "(-4, 2) distance from home = 6\n",
      "(2, 4) distance from home = 6\n",
      "(4, 0) distance from home = 4\n",
      "(1, 1) distance from home = 2\n",
      "(1, -1) distance from home = 2\n",
      "(-3, 1) distance from home = 4\n",
      "(0, 2) distance from home = 2\n",
      "(2, 0) distance from home = 2\n",
      "(2, -2) distance from home = 4\n",
      "(-2, 2) distance from home = 4\n",
      "(-3, 3) distance from home = 6\n"
     ]
    }
   ],
   "source": [
    "for i in range(25):\n",
    "    walk = random_walk(10)\n",
    "    print(walk, 'distance from home = {}'.format(abs(walk[0]) + abs(walk[1])))"
   ]
  },
  {
   "cell_type": "code",
   "execution_count": 7,
   "metadata": {},
   "outputs": [],
   "source": [
    "# version 2"
   ]
  },
  {
   "cell_type": "code",
   "execution_count": 8,
   "metadata": {},
   "outputs": [],
   "source": [
    "def random_walk_2(n):\n",
    "    \"\"\"return coordinates after 'n' block random walk.\"\"\"\n",
    "    x, y = 0, 0\n",
    "    for i in range(n):\n",
    "        (dx, dy) = random.choice([(0, 1), (0, -1), (1, 0), (-1, 0)])\n",
    "        x += dx\n",
    "        y += dy\n",
    "    return (x,y)"
   ]
  },
  {
   "cell_type": "code",
   "execution_count": 9,
   "metadata": {},
   "outputs": [
    {
     "name": "stdout",
     "output_type": "stream",
     "text": [
      "(1, 3) distance from home = 4\n",
      "(2, 0) distance from home = 2\n",
      "(-2, -2) distance from home = 4\n",
      "(3, 1) distance from home = 4\n",
      "(-3, 1) distance from home = 4\n",
      "(2, 0) distance from home = 2\n",
      "(-1, -1) distance from home = 2\n",
      "(4, 2) distance from home = 6\n",
      "(-1, 1) distance from home = 2\n",
      "(-4, 0) distance from home = 4\n",
      "(1, 1) distance from home = 2\n",
      "(0, 0) distance from home = 0\n",
      "(2, 0) distance from home = 2\n",
      "(-1, -3) distance from home = 4\n",
      "(0, 0) distance from home = 0\n",
      "(-2, 0) distance from home = 2\n",
      "(-5, 3) distance from home = 8\n",
      "(-1, 1) distance from home = 2\n",
      "(1, -1) distance from home = 2\n",
      "(4, -4) distance from home = 8\n",
      "(1, 1) distance from home = 2\n",
      "(0, -2) distance from home = 2\n",
      "(1, -1) distance from home = 2\n",
      "(-2, 0) distance from home = 2\n",
      "(2, 0) distance from home = 2\n"
     ]
    }
   ],
   "source": [
    "for i in range(25):\n",
    "    walk = random_walk(10)\n",
    "    print(walk, 'distance from home = {}'.format(abs(walk[0]) + abs(walk[1])))"
   ]
  },
  {
   "cell_type": "code",
   "execution_count": 10,
   "metadata": {},
   "outputs": [],
   "source": [
    "## Monte Carlo Simulation"
   ]
  },
  {
   "cell_type": "code",
   "execution_count": 15,
   "metadata": {},
   "outputs": [
    {
     "name": "stdout",
     "output_type": "stream",
     "text": [
      "walk size =  1  / % of no transpoart =  0.0\n",
      "walk size =  2  / % of no transpoart =  0.0\n",
      "walk size =  3  / % of no transpoart =  0.0\n",
      "walk size =  4  / % of no transpoart =  0.0\n",
      "walk size =  5  / % of no transpoart =  0.0\n",
      "walk size =  6  / % of no transpoart =  0.0\n",
      "walk size =  7  / % of no transpoart =  0.0\n",
      "walk size =  8  / % of no transpoart =  0.0\n",
      "walk size =  9  / % of no transpoart =  0.0\n",
      "walk size =  10  / % of no transpoart =  0.0\n",
      "walk size =  11  / % of no transpoart =  0.0\n",
      "walk size =  12  / % of no transpoart =  0.0\n",
      "walk size =  13  / % of no transpoart =  0.0\n",
      "walk size =  14  / % of no transpoart =  0.0\n",
      "walk size =  15  / % of no transpoart =  0.0\n",
      "walk size =  16  / % of no transpoart =  0.0\n",
      "walk size =  17  / % of no transpoart =  0.0\n",
      "walk size =  18  / % of no transpoart =  0.0\n",
      "walk size =  19  / % of no transpoart =  0.0\n",
      "walk size =  20  / % of no transpoart =  0.0\n",
      "walk size =  21  / % of no transpoart =  0.0\n",
      "walk size =  22  / % of no transpoart =  0.0\n",
      "walk size =  23  / % of no transpoart =  0.0\n",
      "walk size =  24  / % of no transpoart =  0.0\n",
      "walk size =  25  / % of no transpoart =  0.0\n",
      "walk size =  26  / % of no transpoart =  0.0\n",
      "walk size =  27  / % of no transpoart =  0.0\n",
      "walk size =  28  / % of no transpoart =  0.0\n",
      "walk size =  29  / % of no transpoart =  0.0\n",
      "walk size =  30  / % of no transpoart =  0.0\n"
     ]
    }
   ],
   "source": [
    "number_of_walks = 10000\n",
    "\n",
    "for walk_length in range(1, 31):\n",
    "    no_transport = 0 # number of walks 4 or fewer blocks from home\n",
    "    for i in range(number_of_walks):\n",
    "        (x, y) = random_walk_2(walk_length)\n",
    "        distance = abs(x) + abs(y)\n",
    "        if distance <= 4:\n",
    "            no_transpoart += 1\n",
    "    no_transport_percentage = float(no_transport) / number_of_walks\n",
    "    print(\"walk size = \", walk_length, \" / % of no transpoart = \", 100*no_transport_percentage)"
   ]
  },
  {
   "cell_type": "code",
   "execution_count": null,
   "metadata": {},
   "outputs": [],
   "source": []
  }
 ],
 "metadata": {
  "kernelspec": {
   "display_name": "Python 3",
   "language": "python",
   "name": "python3"
  },
  "language_info": {
   "codemirror_mode": {
    "name": "ipython",
    "version": 3
   },
   "file_extension": ".py",
   "mimetype": "text/x-python",
   "name": "python",
   "nbconvert_exporter": "python",
   "pygments_lexer": "ipython3",
   "version": "3.5.6"
  }
 },
 "nbformat": 4,
 "nbformat_minor": 2
}
