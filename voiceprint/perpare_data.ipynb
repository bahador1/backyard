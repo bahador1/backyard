{
 "cells": [
  {
   "cell_type": "markdown",
   "metadata": {},
   "source": [
    "### Dataset statistics"
   ]
  },
  {
   "cell_type": "code",
   "execution_count": 41,
   "metadata": {},
   "outputs": [],
   "source": [
    "import numpy as np\n",
    "import pandas as pd\n",
    "import librosa\n",
    "from tqdm import tqdm"
   ]
  },
  {
   "cell_type": "code",
   "execution_count": 42,
   "metadata": {},
   "outputs": [],
   "source": [
    "wavlist = '/data/hktxt/AISHELL-2/iOS/data/wav.scp'  # wav files list\n",
    "trans = '/data/hktxt/AISHELL-2/iOS/data/trans.txt'  # transition\n",
    "spk_info = '/data/hktxt/AISHELL-2/iOS/data/spk_info.txt' #speaker info"
   ]
  },
  {
   "cell_type": "code",
   "execution_count": 43,
   "metadata": {},
   "outputs": [],
   "source": [
    "wav = pd.read_csv(wavlist, header=None, sep=\"\\s+\", names=[\"folder\",\"file\"])"
   ]
  },
  {
   "cell_type": "code",
   "execution_count": 44,
   "metadata": {},
   "outputs": [
    {
     "data": {
      "text/html": [
       "<div>\n",
       "<style scoped>\n",
       "    .dataframe tbody tr th:only-of-type {\n",
       "        vertical-align: middle;\n",
       "    }\n",
       "\n",
       "    .dataframe tbody tr th {\n",
       "        vertical-align: top;\n",
       "    }\n",
       "\n",
       "    .dataframe thead th {\n",
       "        text-align: right;\n",
       "    }\n",
       "</style>\n",
       "<table border=\"1\" class=\"dataframe\">\n",
       "  <thead>\n",
       "    <tr style=\"text-align: right;\">\n",
       "      <th></th>\n",
       "      <th>folder</th>\n",
       "      <th>file</th>\n",
       "    </tr>\n",
       "  </thead>\n",
       "  <tbody>\n",
       "    <tr>\n",
       "      <th>0</th>\n",
       "      <td>IC0001W0001</td>\n",
       "      <td>wav/C0001/IC0001W0001.wav</td>\n",
       "    </tr>\n",
       "    <tr>\n",
       "      <th>1</th>\n",
       "      <td>IC0001W0002</td>\n",
       "      <td>wav/C0001/IC0001W0002.wav</td>\n",
       "    </tr>\n",
       "    <tr>\n",
       "      <th>2</th>\n",
       "      <td>IC0001W0003</td>\n",
       "      <td>wav/C0001/IC0001W0003.wav</td>\n",
       "    </tr>\n",
       "    <tr>\n",
       "      <th>3</th>\n",
       "      <td>IC0001W0004</td>\n",
       "      <td>wav/C0001/IC0001W0004.wav</td>\n",
       "    </tr>\n",
       "    <tr>\n",
       "      <th>4</th>\n",
       "      <td>IC0001W0005</td>\n",
       "      <td>wav/C0001/IC0001W0005.wav</td>\n",
       "    </tr>\n",
       "    <tr>\n",
       "      <th>5</th>\n",
       "      <td>IC0001W0006</td>\n",
       "      <td>wav/C0001/IC0001W0006.wav</td>\n",
       "    </tr>\n",
       "    <tr>\n",
       "      <th>6</th>\n",
       "      <td>IC0001W0007</td>\n",
       "      <td>wav/C0001/IC0001W0007.wav</td>\n",
       "    </tr>\n",
       "    <tr>\n",
       "      <th>7</th>\n",
       "      <td>IC0001W0008</td>\n",
       "      <td>wav/C0001/IC0001W0008.wav</td>\n",
       "    </tr>\n",
       "    <tr>\n",
       "      <th>8</th>\n",
       "      <td>IC0001W0009</td>\n",
       "      <td>wav/C0001/IC0001W0009.wav</td>\n",
       "    </tr>\n",
       "    <tr>\n",
       "      <th>9</th>\n",
       "      <td>IC0001W0010</td>\n",
       "      <td>wav/C0001/IC0001W0010.wav</td>\n",
       "    </tr>\n",
       "    <tr>\n",
       "      <th>10</th>\n",
       "      <td>IC0001W0011</td>\n",
       "      <td>wav/C0001/IC0001W0011.wav</td>\n",
       "    </tr>\n",
       "    <tr>\n",
       "      <th>11</th>\n",
       "      <td>IC0001W0012</td>\n",
       "      <td>wav/C0001/IC0001W0012.wav</td>\n",
       "    </tr>\n",
       "    <tr>\n",
       "      <th>12</th>\n",
       "      <td>IC0001W0013</td>\n",
       "      <td>wav/C0001/IC0001W0013.wav</td>\n",
       "    </tr>\n",
       "    <tr>\n",
       "      <th>13</th>\n",
       "      <td>IC0001W0014</td>\n",
       "      <td>wav/C0001/IC0001W0014.wav</td>\n",
       "    </tr>\n",
       "    <tr>\n",
       "      <th>14</th>\n",
       "      <td>IC0001W0015</td>\n",
       "      <td>wav/C0001/IC0001W0015.wav</td>\n",
       "    </tr>\n",
       "    <tr>\n",
       "      <th>15</th>\n",
       "      <td>IC0001W0016</td>\n",
       "      <td>wav/C0001/IC0001W0016.wav</td>\n",
       "    </tr>\n",
       "    <tr>\n",
       "      <th>16</th>\n",
       "      <td>IC0001W0017</td>\n",
       "      <td>wav/C0001/IC0001W0017.wav</td>\n",
       "    </tr>\n",
       "    <tr>\n",
       "      <th>17</th>\n",
       "      <td>IC0001W0018</td>\n",
       "      <td>wav/C0001/IC0001W0018.wav</td>\n",
       "    </tr>\n",
       "    <tr>\n",
       "      <th>18</th>\n",
       "      <td>IC0001W0019</td>\n",
       "      <td>wav/C0001/IC0001W0019.wav</td>\n",
       "    </tr>\n",
       "    <tr>\n",
       "      <th>19</th>\n",
       "      <td>IC0001W0020</td>\n",
       "      <td>wav/C0001/IC0001W0020.wav</td>\n",
       "    </tr>\n",
       "    <tr>\n",
       "      <th>20</th>\n",
       "      <td>IC0001W0021</td>\n",
       "      <td>wav/C0001/IC0001W0021.wav</td>\n",
       "    </tr>\n",
       "    <tr>\n",
       "      <th>21</th>\n",
       "      <td>IC0001W0022</td>\n",
       "      <td>wav/C0001/IC0001W0022.wav</td>\n",
       "    </tr>\n",
       "    <tr>\n",
       "      <th>22</th>\n",
       "      <td>IC0001W0023</td>\n",
       "      <td>wav/C0001/IC0001W0023.wav</td>\n",
       "    </tr>\n",
       "    <tr>\n",
       "      <th>23</th>\n",
       "      <td>IC0001W0024</td>\n",
       "      <td>wav/C0001/IC0001W0024.wav</td>\n",
       "    </tr>\n",
       "    <tr>\n",
       "      <th>24</th>\n",
       "      <td>IC0001W0025</td>\n",
       "      <td>wav/C0001/IC0001W0025.wav</td>\n",
       "    </tr>\n",
       "    <tr>\n",
       "      <th>25</th>\n",
       "      <td>IC0001W0026</td>\n",
       "      <td>wav/C0001/IC0001W0026.wav</td>\n",
       "    </tr>\n",
       "    <tr>\n",
       "      <th>26</th>\n",
       "      <td>IC0001W0027</td>\n",
       "      <td>wav/C0001/IC0001W0027.wav</td>\n",
       "    </tr>\n",
       "    <tr>\n",
       "      <th>27</th>\n",
       "      <td>IC0001W0028</td>\n",
       "      <td>wav/C0001/IC0001W0028.wav</td>\n",
       "    </tr>\n",
       "    <tr>\n",
       "      <th>28</th>\n",
       "      <td>IC0001W0029</td>\n",
       "      <td>wav/C0001/IC0001W0029.wav</td>\n",
       "    </tr>\n",
       "    <tr>\n",
       "      <th>29</th>\n",
       "      <td>IC0001W0030</td>\n",
       "      <td>wav/C0001/IC0001W0030.wav</td>\n",
       "    </tr>\n",
       "    <tr>\n",
       "      <th>...</th>\n",
       "      <td>...</td>\n",
       "      <td>...</td>\n",
       "    </tr>\n",
       "    <tr>\n",
       "      <th>1009193</th>\n",
       "      <td>ID2166W0491</td>\n",
       "      <td>wav/D2166/ID2166W0491.wav</td>\n",
       "    </tr>\n",
       "    <tr>\n",
       "      <th>1009194</th>\n",
       "      <td>ID2166W0492</td>\n",
       "      <td>wav/D2166/ID2166W0492.wav</td>\n",
       "    </tr>\n",
       "    <tr>\n",
       "      <th>1009195</th>\n",
       "      <td>ID2166W0493</td>\n",
       "      <td>wav/D2166/ID2166W0493.wav</td>\n",
       "    </tr>\n",
       "    <tr>\n",
       "      <th>1009196</th>\n",
       "      <td>ID2166W0494</td>\n",
       "      <td>wav/D2166/ID2166W0494.wav</td>\n",
       "    </tr>\n",
       "    <tr>\n",
       "      <th>1009197</th>\n",
       "      <td>ID2166W0495</td>\n",
       "      <td>wav/D2166/ID2166W0495.wav</td>\n",
       "    </tr>\n",
       "    <tr>\n",
       "      <th>1009198</th>\n",
       "      <td>ID2166W0496</td>\n",
       "      <td>wav/D2166/ID2166W0496.wav</td>\n",
       "    </tr>\n",
       "    <tr>\n",
       "      <th>1009199</th>\n",
       "      <td>ID2166W0497</td>\n",
       "      <td>wav/D2166/ID2166W0497.wav</td>\n",
       "    </tr>\n",
       "    <tr>\n",
       "      <th>1009200</th>\n",
       "      <td>ID2166W0498</td>\n",
       "      <td>wav/D2166/ID2166W0498.wav</td>\n",
       "    </tr>\n",
       "    <tr>\n",
       "      <th>1009201</th>\n",
       "      <td>ID2166W0499</td>\n",
       "      <td>wav/D2166/ID2166W0499.wav</td>\n",
       "    </tr>\n",
       "    <tr>\n",
       "      <th>1009202</th>\n",
       "      <td>ID2166W0500</td>\n",
       "      <td>wav/D2166/ID2166W0500.wav</td>\n",
       "    </tr>\n",
       "    <tr>\n",
       "      <th>1009203</th>\n",
       "      <td>ID2166W0501</td>\n",
       "      <td>wav/D2166/ID2166W0501.wav</td>\n",
       "    </tr>\n",
       "    <tr>\n",
       "      <th>1009204</th>\n",
       "      <td>ID2166W0502</td>\n",
       "      <td>wav/D2166/ID2166W0502.wav</td>\n",
       "    </tr>\n",
       "    <tr>\n",
       "      <th>1009205</th>\n",
       "      <td>ID2166W0503</td>\n",
       "      <td>wav/D2166/ID2166W0503.wav</td>\n",
       "    </tr>\n",
       "    <tr>\n",
       "      <th>1009206</th>\n",
       "      <td>ID2166W0504</td>\n",
       "      <td>wav/D2166/ID2166W0504.wav</td>\n",
       "    </tr>\n",
       "    <tr>\n",
       "      <th>1009207</th>\n",
       "      <td>ID2166W0505</td>\n",
       "      <td>wav/D2166/ID2166W0505.wav</td>\n",
       "    </tr>\n",
       "    <tr>\n",
       "      <th>1009208</th>\n",
       "      <td>ID2166W0506</td>\n",
       "      <td>wav/D2166/ID2166W0506.wav</td>\n",
       "    </tr>\n",
       "    <tr>\n",
       "      <th>1009209</th>\n",
       "      <td>ID2166W0507</td>\n",
       "      <td>wav/D2166/ID2166W0507.wav</td>\n",
       "    </tr>\n",
       "    <tr>\n",
       "      <th>1009210</th>\n",
       "      <td>ID2166W0508</td>\n",
       "      <td>wav/D2166/ID2166W0508.wav</td>\n",
       "    </tr>\n",
       "    <tr>\n",
       "      <th>1009211</th>\n",
       "      <td>ID2166W0509</td>\n",
       "      <td>wav/D2166/ID2166W0509.wav</td>\n",
       "    </tr>\n",
       "    <tr>\n",
       "      <th>1009212</th>\n",
       "      <td>ID2166W0510</td>\n",
       "      <td>wav/D2166/ID2166W0510.wav</td>\n",
       "    </tr>\n",
       "    <tr>\n",
       "      <th>1009213</th>\n",
       "      <td>ID2166W0511</td>\n",
       "      <td>wav/D2166/ID2166W0511.wav</td>\n",
       "    </tr>\n",
       "    <tr>\n",
       "      <th>1009214</th>\n",
       "      <td>ID2166W0512</td>\n",
       "      <td>wav/D2166/ID2166W0512.wav</td>\n",
       "    </tr>\n",
       "    <tr>\n",
       "      <th>1009215</th>\n",
       "      <td>ID2166W0513</td>\n",
       "      <td>wav/D2166/ID2166W0513.wav</td>\n",
       "    </tr>\n",
       "    <tr>\n",
       "      <th>1009216</th>\n",
       "      <td>ID2166W0514</td>\n",
       "      <td>wav/D2166/ID2166W0514.wav</td>\n",
       "    </tr>\n",
       "    <tr>\n",
       "      <th>1009217</th>\n",
       "      <td>ID2166W0515</td>\n",
       "      <td>wav/D2166/ID2166W0515.wav</td>\n",
       "    </tr>\n",
       "    <tr>\n",
       "      <th>1009218</th>\n",
       "      <td>ID2166W0516</td>\n",
       "      <td>wav/D2166/ID2166W0516.wav</td>\n",
       "    </tr>\n",
       "    <tr>\n",
       "      <th>1009219</th>\n",
       "      <td>ID2166W0517</td>\n",
       "      <td>wav/D2166/ID2166W0517.wav</td>\n",
       "    </tr>\n",
       "    <tr>\n",
       "      <th>1009220</th>\n",
       "      <td>ID2166W0518</td>\n",
       "      <td>wav/D2166/ID2166W0518.wav</td>\n",
       "    </tr>\n",
       "    <tr>\n",
       "      <th>1009221</th>\n",
       "      <td>ID2166W0519</td>\n",
       "      <td>wav/D2166/ID2166W0519.wav</td>\n",
       "    </tr>\n",
       "    <tr>\n",
       "      <th>1009222</th>\n",
       "      <td>ID2166W0520</td>\n",
       "      <td>wav/D2166/ID2166W0520.wav</td>\n",
       "    </tr>\n",
       "  </tbody>\n",
       "</table>\n",
       "<p>1009223 rows × 2 columns</p>\n",
       "</div>"
      ],
      "text/plain": [
       "              folder                       file\n",
       "0        IC0001W0001  wav/C0001/IC0001W0001.wav\n",
       "1        IC0001W0002  wav/C0001/IC0001W0002.wav\n",
       "2        IC0001W0003  wav/C0001/IC0001W0003.wav\n",
       "3        IC0001W0004  wav/C0001/IC0001W0004.wav\n",
       "4        IC0001W0005  wav/C0001/IC0001W0005.wav\n",
       "5        IC0001W0006  wav/C0001/IC0001W0006.wav\n",
       "6        IC0001W0007  wav/C0001/IC0001W0007.wav\n",
       "7        IC0001W0008  wav/C0001/IC0001W0008.wav\n",
       "8        IC0001W0009  wav/C0001/IC0001W0009.wav\n",
       "9        IC0001W0010  wav/C0001/IC0001W0010.wav\n",
       "10       IC0001W0011  wav/C0001/IC0001W0011.wav\n",
       "11       IC0001W0012  wav/C0001/IC0001W0012.wav\n",
       "12       IC0001W0013  wav/C0001/IC0001W0013.wav\n",
       "13       IC0001W0014  wav/C0001/IC0001W0014.wav\n",
       "14       IC0001W0015  wav/C0001/IC0001W0015.wav\n",
       "15       IC0001W0016  wav/C0001/IC0001W0016.wav\n",
       "16       IC0001W0017  wav/C0001/IC0001W0017.wav\n",
       "17       IC0001W0018  wav/C0001/IC0001W0018.wav\n",
       "18       IC0001W0019  wav/C0001/IC0001W0019.wav\n",
       "19       IC0001W0020  wav/C0001/IC0001W0020.wav\n",
       "20       IC0001W0021  wav/C0001/IC0001W0021.wav\n",
       "21       IC0001W0022  wav/C0001/IC0001W0022.wav\n",
       "22       IC0001W0023  wav/C0001/IC0001W0023.wav\n",
       "23       IC0001W0024  wav/C0001/IC0001W0024.wav\n",
       "24       IC0001W0025  wav/C0001/IC0001W0025.wav\n",
       "25       IC0001W0026  wav/C0001/IC0001W0026.wav\n",
       "26       IC0001W0027  wav/C0001/IC0001W0027.wav\n",
       "27       IC0001W0028  wav/C0001/IC0001W0028.wav\n",
       "28       IC0001W0029  wav/C0001/IC0001W0029.wav\n",
       "29       IC0001W0030  wav/C0001/IC0001W0030.wav\n",
       "...              ...                        ...\n",
       "1009193  ID2166W0491  wav/D2166/ID2166W0491.wav\n",
       "1009194  ID2166W0492  wav/D2166/ID2166W0492.wav\n",
       "1009195  ID2166W0493  wav/D2166/ID2166W0493.wav\n",
       "1009196  ID2166W0494  wav/D2166/ID2166W0494.wav\n",
       "1009197  ID2166W0495  wav/D2166/ID2166W0495.wav\n",
       "1009198  ID2166W0496  wav/D2166/ID2166W0496.wav\n",
       "1009199  ID2166W0497  wav/D2166/ID2166W0497.wav\n",
       "1009200  ID2166W0498  wav/D2166/ID2166W0498.wav\n",
       "1009201  ID2166W0499  wav/D2166/ID2166W0499.wav\n",
       "1009202  ID2166W0500  wav/D2166/ID2166W0500.wav\n",
       "1009203  ID2166W0501  wav/D2166/ID2166W0501.wav\n",
       "1009204  ID2166W0502  wav/D2166/ID2166W0502.wav\n",
       "1009205  ID2166W0503  wav/D2166/ID2166W0503.wav\n",
       "1009206  ID2166W0504  wav/D2166/ID2166W0504.wav\n",
       "1009207  ID2166W0505  wav/D2166/ID2166W0505.wav\n",
       "1009208  ID2166W0506  wav/D2166/ID2166W0506.wav\n",
       "1009209  ID2166W0507  wav/D2166/ID2166W0507.wav\n",
       "1009210  ID2166W0508  wav/D2166/ID2166W0508.wav\n",
       "1009211  ID2166W0509  wav/D2166/ID2166W0509.wav\n",
       "1009212  ID2166W0510  wav/D2166/ID2166W0510.wav\n",
       "1009213  ID2166W0511  wav/D2166/ID2166W0511.wav\n",
       "1009214  ID2166W0512  wav/D2166/ID2166W0512.wav\n",
       "1009215  ID2166W0513  wav/D2166/ID2166W0513.wav\n",
       "1009216  ID2166W0514  wav/D2166/ID2166W0514.wav\n",
       "1009217  ID2166W0515  wav/D2166/ID2166W0515.wav\n",
       "1009218  ID2166W0516  wav/D2166/ID2166W0516.wav\n",
       "1009219  ID2166W0517  wav/D2166/ID2166W0517.wav\n",
       "1009220  ID2166W0518  wav/D2166/ID2166W0518.wav\n",
       "1009221  ID2166W0519  wav/D2166/ID2166W0519.wav\n",
       "1009222  ID2166W0520  wav/D2166/ID2166W0520.wav\n",
       "\n",
       "[1009223 rows x 2 columns]"
      ]
     },
     "execution_count": 44,
     "metadata": {},
     "output_type": "execute_result"
    }
   ],
   "source": [
    "wav"
   ]
  },
  {
   "cell_type": "code",
   "execution_count": 45,
   "metadata": {},
   "outputs": [
    {
     "data": {
      "text/plain": [
       "1009223"
      ]
     },
     "execution_count": 45,
     "metadata": {},
     "output_type": "execute_result"
    }
   ],
   "source": [
    "len(wav) # total wav files 1009223"
   ]
  },
  {
   "cell_type": "markdown",
   "metadata": {},
   "source": [
    "### wav duration statistics"
   ]
  },
  {
   "cell_type": "code",
   "execution_count": 46,
   "metadata": {},
   "outputs": [
    {
     "data": {
      "text/plain": [
       "'IC0001W0002'"
      ]
     },
     "execution_count": 46,
     "metadata": {},
     "output_type": "execute_result"
    }
   ],
   "source": [
    "wav.folder[1]"
   ]
  },
  {
   "cell_type": "code",
   "execution_count": 47,
   "metadata": {},
   "outputs": [
    {
     "data": {
      "text/plain": [
       "1    IC0001W0002\n",
       "2    IC0001W0003\n",
       "3    IC0001W0004\n",
       "4    IC0001W0005\n",
       "5    IC0001W0006\n",
       "6    IC0001W0007\n",
       "7    IC0001W0008\n",
       "8    IC0001W0009\n",
       "Name: folder, dtype: object"
      ]
     },
     "execution_count": 47,
     "metadata": {},
     "output_type": "execute_result"
    }
   ],
   "source": [
    "wav.folder[1:9]"
   ]
  },
  {
   "cell_type": "code",
   "execution_count": 48,
   "metadata": {},
   "outputs": [
    {
     "data": {
      "text/plain": [
       "'C0001'"
      ]
     },
     "execution_count": 48,
     "metadata": {},
     "output_type": "execute_result"
    }
   ],
   "source": [
    "wav.folder[1][1:6]"
   ]
  },
  {
   "cell_type": "code",
   "execution_count": 49,
   "metadata": {},
   "outputs": [
    {
     "data": {
      "text/plain": [
       "1    IC0001W0002\n",
       "2    IC0001W0003\n",
       "Name: folder, dtype: object"
      ]
     },
     "execution_count": 49,
     "metadata": {},
     "output_type": "execute_result"
    }
   ],
   "source": [
    "wav.folder[1:3]"
   ]
  },
  {
   "cell_type": "markdown",
   "metadata": {},
   "source": [
    "### read wav.label to l"
   ]
  },
  {
   "cell_type": "code",
   "execution_count": 50,
   "metadata": {},
   "outputs": [
    {
     "name": "stderr",
     "output_type": "stream",
     "text": [
      "100%|██████████| 1009223/1009223 [00:44<00:00, 22473.61it/s]\n"
     ]
    }
   ],
   "source": [
    "l = []\n",
    "for i in tqdm(range(len(wav))):\n",
    "    l.append(wav.folder[i][1:6])"
   ]
  },
  {
   "cell_type": "code",
   "execution_count": 51,
   "metadata": {},
   "outputs": [
    {
     "data": {
      "text/plain": [
       "1009223"
      ]
     },
     "execution_count": 51,
     "metadata": {},
     "output_type": "execute_result"
    }
   ],
   "source": [
    "len(l)"
   ]
  },
  {
   "cell_type": "markdown",
   "metadata": {},
   "source": [
    "### erase the repeating elements, 2 method: unique and set, after erase repeating elems, total elems = 1991"
   ]
  },
  {
   "cell_type": "code",
   "execution_count": 52,
   "metadata": {},
   "outputs": [],
   "source": [
    "l1 = np.unique(l) #shun xu bu bian"
   ]
  },
  {
   "cell_type": "code",
   "execution_count": 53,
   "metadata": {},
   "outputs": [
    {
     "data": {
      "text/plain": [
       "1991"
      ]
     },
     "execution_count": 53,
     "metadata": {},
     "output_type": "execute_result"
    }
   ],
   "source": [
    "len(l1)"
   ]
  },
  {
   "cell_type": "code",
   "execution_count": 54,
   "metadata": {},
   "outputs": [],
   "source": [
    "l2 = list(set(l))#gai bian le shun xu"
   ]
  },
  {
   "cell_type": "code",
   "execution_count": 55,
   "metadata": {},
   "outputs": [
    {
     "data": {
      "text/plain": [
       "1991"
      ]
     },
     "execution_count": 55,
     "metadata": {},
     "output_type": "execute_result"
    }
   ],
   "source": [
    "len(l2)"
   ]
  },
  {
   "cell_type": "code",
   "execution_count": 56,
   "metadata": {},
   "outputs": [
    {
     "data": {
      "text/plain": [
       "array(['C0001', 'C0002', 'C0003', ..., 'D2164', 'D2165', 'D2166'],\n",
       "      dtype='<U5')"
      ]
     },
     "execution_count": 56,
     "metadata": {},
     "output_type": "execute_result"
    }
   ],
   "source": [
    "l1"
   ]
  },
  {
   "cell_type": "code",
   "execution_count": 57,
   "metadata": {},
   "outputs": [
    {
     "data": {
      "text/plain": [
       "['D0093',\n",
       " 'C0448',\n",
       " 'D0177',\n",
       " 'C0094',\n",
       " 'C0872',\n",
       " 'C9108',\n",
       " 'C0576',\n",
       " 'D0390',\n",
       " 'C9001',\n",
       " 'D0245']"
      ]
     },
     "execution_count": 57,
     "metadata": {},
     "output_type": "execute_result"
    }
   ],
   "source": [
    "l2[:10]"
   ]
  },
  {
   "cell_type": "code",
   "execution_count": 58,
   "metadata": {},
   "outputs": [],
   "source": [
    "l2.sort()"
   ]
  },
  {
   "cell_type": "code",
   "execution_count": 59,
   "metadata": {},
   "outputs": [
    {
     "data": {
      "text/plain": [
       "['C0001',\n",
       " 'C0002',\n",
       " 'C0003',\n",
       " 'C0004',\n",
       " 'C0005',\n",
       " 'C0006',\n",
       " 'C0007',\n",
       " 'C0008',\n",
       " 'C0009',\n",
       " 'C0010']"
      ]
     },
     "execution_count": 59,
     "metadata": {},
     "output_type": "execute_result"
    }
   ],
   "source": [
    "l2[:10]"
   ]
  },
  {
   "cell_type": "markdown",
   "metadata": {},
   "source": [
    "#### use a dic relabeling label, C0001->0, C0002->1, ... , D2166->1990"
   ]
  },
  {
   "cell_type": "code",
   "execution_count": 60,
   "metadata": {},
   "outputs": [
    {
     "name": "stderr",
     "output_type": "stream",
     "text": [
      "100%|██████████| 1991/1991 [00:00<00:00, 583894.51it/s]\n"
     ]
    }
   ],
   "source": [
    "label = {}\n",
    "for i in tqdm(range(len(l2))):\n",
    "    label[l2[i]] = i"
   ]
  },
  {
   "cell_type": "code",
   "execution_count": 100,
   "metadata": {},
   "outputs": [
    {
     "data": {
      "text/plain": [
       "0"
      ]
     },
     "execution_count": 100,
     "metadata": {},
     "output_type": "execute_result"
    }
   ],
   "source": [
    "label['C0001'] #the first one"
   ]
  },
  {
   "cell_type": "code",
   "execution_count": 101,
   "metadata": {},
   "outputs": [
    {
     "data": {
      "text/plain": [
       "1990"
      ]
     },
     "execution_count": 101,
     "metadata": {},
     "output_type": "execute_result"
    }
   ],
   "source": [
    "label['D2166'] #the last one"
   ]
  },
  {
   "cell_type": "code",
   "execution_count": 102,
   "metadata": {},
   "outputs": [
    {
     "data": {
      "text/plain": [
       "751"
      ]
     },
     "execution_count": 102,
     "metadata": {},
     "output_type": "execute_result"
    }
   ],
   "source": [
    "label['C0754']"
   ]
  },
  {
   "cell_type": "markdown",
   "metadata": {},
   "source": [
    "### save label to csv file"
   ]
  },
  {
   "cell_type": "code",
   "execution_count": 63,
   "metadata": {},
   "outputs": [],
   "source": [
    "dataframe = pd.DataFrame({'name':list(label.keys()),'label':list(label.values())})\n",
    "dataframe.to_csv(\"label.csv\", index = False, sep=',')"
   ]
  },
  {
   "cell_type": "markdown",
   "metadata": {},
   "source": [
    "### read csv file to dict, which is used for training"
   ]
  },
  {
   "cell_type": "code",
   "execution_count": 64,
   "metadata": {},
   "outputs": [],
   "source": [
    "###check\n",
    "t = pd.read_csv('label.csv', sep=',')"
   ]
  },
  {
   "cell_type": "code",
   "execution_count": 65,
   "metadata": {},
   "outputs": [
    {
     "data": {
      "text/html": [
       "<div>\n",
       "<style scoped>\n",
       "    .dataframe tbody tr th:only-of-type {\n",
       "        vertical-align: middle;\n",
       "    }\n",
       "\n",
       "    .dataframe tbody tr th {\n",
       "        vertical-align: top;\n",
       "    }\n",
       "\n",
       "    .dataframe thead th {\n",
       "        text-align: right;\n",
       "    }\n",
       "</style>\n",
       "<table border=\"1\" class=\"dataframe\">\n",
       "  <thead>\n",
       "    <tr style=\"text-align: right;\">\n",
       "      <th></th>\n",
       "      <th>name</th>\n",
       "      <th>label</th>\n",
       "    </tr>\n",
       "  </thead>\n",
       "  <tbody>\n",
       "    <tr>\n",
       "      <th>0</th>\n",
       "      <td>C0001</td>\n",
       "      <td>0</td>\n",
       "    </tr>\n",
       "    <tr>\n",
       "      <th>1</th>\n",
       "      <td>C0002</td>\n",
       "      <td>1</td>\n",
       "    </tr>\n",
       "    <tr>\n",
       "      <th>2</th>\n",
       "      <td>C0003</td>\n",
       "      <td>2</td>\n",
       "    </tr>\n",
       "    <tr>\n",
       "      <th>3</th>\n",
       "      <td>C0004</td>\n",
       "      <td>3</td>\n",
       "    </tr>\n",
       "    <tr>\n",
       "      <th>4</th>\n",
       "      <td>C0005</td>\n",
       "      <td>4</td>\n",
       "    </tr>\n",
       "    <tr>\n",
       "      <th>5</th>\n",
       "      <td>C0006</td>\n",
       "      <td>5</td>\n",
       "    </tr>\n",
       "    <tr>\n",
       "      <th>6</th>\n",
       "      <td>C0007</td>\n",
       "      <td>6</td>\n",
       "    </tr>\n",
       "    <tr>\n",
       "      <th>7</th>\n",
       "      <td>C0008</td>\n",
       "      <td>7</td>\n",
       "    </tr>\n",
       "    <tr>\n",
       "      <th>8</th>\n",
       "      <td>C0009</td>\n",
       "      <td>8</td>\n",
       "    </tr>\n",
       "    <tr>\n",
       "      <th>9</th>\n",
       "      <td>C0010</td>\n",
       "      <td>9</td>\n",
       "    </tr>\n",
       "  </tbody>\n",
       "</table>\n",
       "</div>"
      ],
      "text/plain": [
       "    name  label\n",
       "0  C0001      0\n",
       "1  C0002      1\n",
       "2  C0003      2\n",
       "3  C0004      3\n",
       "4  C0005      4\n",
       "5  C0006      5\n",
       "6  C0007      6\n",
       "7  C0008      7\n",
       "8  C0009      8\n",
       "9  C0010      9"
      ]
     },
     "execution_count": 65,
     "metadata": {},
     "output_type": "execute_result"
    }
   ],
   "source": [
    "t[:10]"
   ]
  },
  {
   "cell_type": "code",
   "execution_count": 66,
   "metadata": {},
   "outputs": [],
   "source": [
    "lt = dict(zip(t.name, t.label))"
   ]
  },
  {
   "cell_type": "code",
   "execution_count": 67,
   "metadata": {},
   "outputs": [
    {
     "name": "stdout",
     "output_type": "stream",
     "text": [
      "[('C0001', 0), ('C0002', 1), ('C0003', 2), ('C0004', 3), ('C0005', 4)]\n"
     ]
    }
   ],
   "source": [
    "#print first 5 elems\n",
    "print([item for item in lt.items()][:5])"
   ]
  },
  {
   "cell_type": "code",
   "execution_count": 68,
   "metadata": {},
   "outputs": [],
   "source": [
    "#split dataset into train and test\n",
    "from sklearn.model_selection import train_test_split\n",
    "\n",
    "train, test = train_test_split(wav, test_size=0.2)"
   ]
  },
  {
   "cell_type": "code",
   "execution_count": 69,
   "metadata": {},
   "outputs": [
    {
     "data": {
      "text/plain": [
       "807378"
      ]
     },
     "execution_count": 69,
     "metadata": {},
     "output_type": "execute_result"
    }
   ],
   "source": [
    "len(train)"
   ]
  },
  {
   "cell_type": "code",
   "execution_count": 70,
   "metadata": {},
   "outputs": [
    {
     "data": {
      "text/plain": [
       "201845"
      ]
     },
     "execution_count": 70,
     "metadata": {},
     "output_type": "execute_result"
    }
   ],
   "source": [
    "len(test)"
   ]
  },
  {
   "cell_type": "code",
   "execution_count": 71,
   "metadata": {},
   "outputs": [
    {
     "data": {
      "text/html": [
       "<div>\n",
       "<style scoped>\n",
       "    .dataframe tbody tr th:only-of-type {\n",
       "        vertical-align: middle;\n",
       "    }\n",
       "\n",
       "    .dataframe tbody tr th {\n",
       "        vertical-align: top;\n",
       "    }\n",
       "\n",
       "    .dataframe thead th {\n",
       "        text-align: right;\n",
       "    }\n",
       "</style>\n",
       "<table border=\"1\" class=\"dataframe\">\n",
       "  <thead>\n",
       "    <tr style=\"text-align: right;\">\n",
       "      <th></th>\n",
       "      <th>folder</th>\n",
       "      <th>file</th>\n",
       "    </tr>\n",
       "  </thead>\n",
       "  <tbody>\n",
       "    <tr>\n",
       "      <th>1</th>\n",
       "      <td>IC0001W0002</td>\n",
       "      <td>wav/C0001/IC0001W0002.wav</td>\n",
       "    </tr>\n",
       "    <tr>\n",
       "      <th>2</th>\n",
       "      <td>IC0001W0003</td>\n",
       "      <td>wav/C0001/IC0001W0003.wav</td>\n",
       "    </tr>\n",
       "    <tr>\n",
       "      <th>3</th>\n",
       "      <td>IC0001W0004</td>\n",
       "      <td>wav/C0001/IC0001W0004.wav</td>\n",
       "    </tr>\n",
       "    <tr>\n",
       "      <th>4</th>\n",
       "      <td>IC0001W0005</td>\n",
       "      <td>wav/C0001/IC0001W0005.wav</td>\n",
       "    </tr>\n",
       "    <tr>\n",
       "      <th>5</th>\n",
       "      <td>IC0001W0006</td>\n",
       "      <td>wav/C0001/IC0001W0006.wav</td>\n",
       "    </tr>\n",
       "    <tr>\n",
       "      <th>6</th>\n",
       "      <td>IC0001W0007</td>\n",
       "      <td>wav/C0001/IC0001W0007.wav</td>\n",
       "    </tr>\n",
       "    <tr>\n",
       "      <th>7</th>\n",
       "      <td>IC0001W0008</td>\n",
       "      <td>wav/C0001/IC0001W0008.wav</td>\n",
       "    </tr>\n",
       "    <tr>\n",
       "      <th>8</th>\n",
       "      <td>IC0001W0009</td>\n",
       "      <td>wav/C0001/IC0001W0009.wav</td>\n",
       "    </tr>\n",
       "    <tr>\n",
       "      <th>9</th>\n",
       "      <td>IC0001W0010</td>\n",
       "      <td>wav/C0001/IC0001W0010.wav</td>\n",
       "    </tr>\n",
       "  </tbody>\n",
       "</table>\n",
       "</div>"
      ],
      "text/plain": [
       "        folder                       file\n",
       "1  IC0001W0002  wav/C0001/IC0001W0002.wav\n",
       "2  IC0001W0003  wav/C0001/IC0001W0003.wav\n",
       "3  IC0001W0004  wav/C0001/IC0001W0004.wav\n",
       "4  IC0001W0005  wav/C0001/IC0001W0005.wav\n",
       "5  IC0001W0006  wav/C0001/IC0001W0006.wav\n",
       "6  IC0001W0007  wav/C0001/IC0001W0007.wav\n",
       "7  IC0001W0008  wav/C0001/IC0001W0008.wav\n",
       "8  IC0001W0009  wav/C0001/IC0001W0009.wav\n",
       "9  IC0001W0010  wav/C0001/IC0001W0010.wav"
      ]
     },
     "execution_count": 71,
     "metadata": {},
     "output_type": "execute_result"
    }
   ],
   "source": [
    "wav[1:10]"
   ]
  },
  {
   "cell_type": "code",
   "execution_count": 72,
   "metadata": {},
   "outputs": [],
   "source": [
    "ll =  [lt[x[1:6]] for x in wav.folder]"
   ]
  },
  {
   "cell_type": "code",
   "execution_count": 73,
   "metadata": {},
   "outputs": [
    {
     "data": {
      "text/plain": [
       "1009223"
      ]
     },
     "execution_count": 73,
     "metadata": {},
     "output_type": "execute_result"
    }
   ],
   "source": [
    "len(ll)"
   ]
  },
  {
   "cell_type": "code",
   "execution_count": 74,
   "metadata": {},
   "outputs": [
    {
     "data": {
      "text/plain": [
       "1990"
      ]
     },
     "execution_count": 74,
     "metadata": {},
     "output_type": "execute_result"
    }
   ],
   "source": [
    "max(ll)"
   ]
  },
  {
   "cell_type": "code",
   "execution_count": 75,
   "metadata": {},
   "outputs": [
    {
     "data": {
      "text/plain": [
       "0"
      ]
     },
     "execution_count": 75,
     "metadata": {},
     "output_type": "execute_result"
    }
   ],
   "source": [
    "min(ll)"
   ]
  },
  {
   "cell_type": "code",
   "execution_count": 76,
   "metadata": {},
   "outputs": [
    {
     "data": {
      "text/plain": [
       "0"
      ]
     },
     "execution_count": 76,
     "metadata": {},
     "output_type": "execute_result"
    }
   ],
   "source": [
    "ll[499]"
   ]
  },
  {
   "cell_type": "code",
   "execution_count": 77,
   "metadata": {},
   "outputs": [
    {
     "data": {
      "text/plain": [
       "1"
      ]
     },
     "execution_count": 77,
     "metadata": {},
     "output_type": "execute_result"
    }
   ],
   "source": [
    "ll[500]"
   ]
  },
  {
   "cell_type": "code",
   "execution_count": 78,
   "metadata": {},
   "outputs": [
    {
     "data": {
      "text/plain": [
       "'IC0001W0500'"
      ]
     },
     "execution_count": 78,
     "metadata": {},
     "output_type": "execute_result"
    }
   ],
   "source": [
    "wav.folder[499]"
   ]
  },
  {
   "cell_type": "code",
   "execution_count": 79,
   "metadata": {},
   "outputs": [
    {
     "data": {
      "text/plain": [
       "'IC0002W0001'"
      ]
     },
     "execution_count": 79,
     "metadata": {},
     "output_type": "execute_result"
    }
   ],
   "source": [
    "wav.folder[500]"
   ]
  },
  {
   "cell_type": "code",
   "execution_count": 80,
   "metadata": {},
   "outputs": [],
   "source": [
    "wav.insert(0,'label',[lt[x[1:6]] for x in wav.folder])"
   ]
  },
  {
   "cell_type": "code",
   "execution_count": 81,
   "metadata": {},
   "outputs": [
    {
     "data": {
      "text/html": [
       "<div>\n",
       "<style scoped>\n",
       "    .dataframe tbody tr th:only-of-type {\n",
       "        vertical-align: middle;\n",
       "    }\n",
       "\n",
       "    .dataframe tbody tr th {\n",
       "        vertical-align: top;\n",
       "    }\n",
       "\n",
       "    .dataframe thead th {\n",
       "        text-align: right;\n",
       "    }\n",
       "</style>\n",
       "<table border=\"1\" class=\"dataframe\">\n",
       "  <thead>\n",
       "    <tr style=\"text-align: right;\">\n",
       "      <th></th>\n",
       "      <th>label</th>\n",
       "      <th>folder</th>\n",
       "      <th>file</th>\n",
       "    </tr>\n",
       "  </thead>\n",
       "  <tbody>\n",
       "    <tr>\n",
       "      <th>495</th>\n",
       "      <td>0</td>\n",
       "      <td>IC0001W0496</td>\n",
       "      <td>wav/C0001/IC0001W0496.wav</td>\n",
       "    </tr>\n",
       "    <tr>\n",
       "      <th>496</th>\n",
       "      <td>0</td>\n",
       "      <td>IC0001W0497</td>\n",
       "      <td>wav/C0001/IC0001W0497.wav</td>\n",
       "    </tr>\n",
       "    <tr>\n",
       "      <th>497</th>\n",
       "      <td>0</td>\n",
       "      <td>IC0001W0498</td>\n",
       "      <td>wav/C0001/IC0001W0498.wav</td>\n",
       "    </tr>\n",
       "    <tr>\n",
       "      <th>498</th>\n",
       "      <td>0</td>\n",
       "      <td>IC0001W0499</td>\n",
       "      <td>wav/C0001/IC0001W0499.wav</td>\n",
       "    </tr>\n",
       "    <tr>\n",
       "      <th>499</th>\n",
       "      <td>0</td>\n",
       "      <td>IC0001W0500</td>\n",
       "      <td>wav/C0001/IC0001W0500.wav</td>\n",
       "    </tr>\n",
       "    <tr>\n",
       "      <th>500</th>\n",
       "      <td>1</td>\n",
       "      <td>IC0002W0001</td>\n",
       "      <td>wav/C0002/IC0002W0001.wav</td>\n",
       "    </tr>\n",
       "    <tr>\n",
       "      <th>501</th>\n",
       "      <td>1</td>\n",
       "      <td>IC0002W0002</td>\n",
       "      <td>wav/C0002/IC0002W0002.wav</td>\n",
       "    </tr>\n",
       "    <tr>\n",
       "      <th>502</th>\n",
       "      <td>1</td>\n",
       "      <td>IC0002W0003</td>\n",
       "      <td>wav/C0002/IC0002W0003.wav</td>\n",
       "    </tr>\n",
       "    <tr>\n",
       "      <th>503</th>\n",
       "      <td>1</td>\n",
       "      <td>IC0002W0004</td>\n",
       "      <td>wav/C0002/IC0002W0004.wav</td>\n",
       "    </tr>\n",
       "    <tr>\n",
       "      <th>504</th>\n",
       "      <td>1</td>\n",
       "      <td>IC0002W0005</td>\n",
       "      <td>wav/C0002/IC0002W0005.wav</td>\n",
       "    </tr>\n",
       "  </tbody>\n",
       "</table>\n",
       "</div>"
      ],
      "text/plain": [
       "     label       folder                       file\n",
       "495      0  IC0001W0496  wav/C0001/IC0001W0496.wav\n",
       "496      0  IC0001W0497  wav/C0001/IC0001W0497.wav\n",
       "497      0  IC0001W0498  wav/C0001/IC0001W0498.wav\n",
       "498      0  IC0001W0499  wav/C0001/IC0001W0499.wav\n",
       "499      0  IC0001W0500  wav/C0001/IC0001W0500.wav\n",
       "500      1  IC0002W0001  wav/C0002/IC0002W0001.wav\n",
       "501      1  IC0002W0002  wav/C0002/IC0002W0002.wav\n",
       "502      1  IC0002W0003  wav/C0002/IC0002W0003.wav\n",
       "503      1  IC0002W0004  wav/C0002/IC0002W0004.wav\n",
       "504      1  IC0002W0005  wav/C0002/IC0002W0005.wav"
      ]
     },
     "execution_count": 81,
     "metadata": {},
     "output_type": "execute_result"
    }
   ],
   "source": [
    "wav[495:505]"
   ]
  },
  {
   "cell_type": "code",
   "execution_count": 82,
   "metadata": {},
   "outputs": [
    {
     "data": {
      "text/html": [
       "<div>\n",
       "<style scoped>\n",
       "    .dataframe tbody tr th:only-of-type {\n",
       "        vertical-align: middle;\n",
       "    }\n",
       "\n",
       "    .dataframe tbody tr th {\n",
       "        vertical-align: top;\n",
       "    }\n",
       "\n",
       "    .dataframe thead th {\n",
       "        text-align: right;\n",
       "    }\n",
       "</style>\n",
       "<table border=\"1\" class=\"dataframe\">\n",
       "  <thead>\n",
       "    <tr style=\"text-align: right;\">\n",
       "      <th></th>\n",
       "      <th>label</th>\n",
       "      <th>folder</th>\n",
       "      <th>file</th>\n",
       "    </tr>\n",
       "  </thead>\n",
       "  <tbody>\n",
       "    <tr>\n",
       "      <th>995</th>\n",
       "      <td>1</td>\n",
       "      <td>IC0002W0497</td>\n",
       "      <td>wav/C0002/IC0002W0497.wav</td>\n",
       "    </tr>\n",
       "    <tr>\n",
       "      <th>996</th>\n",
       "      <td>1</td>\n",
       "      <td>IC0002W0498</td>\n",
       "      <td>wav/C0002/IC0002W0498.wav</td>\n",
       "    </tr>\n",
       "    <tr>\n",
       "      <th>997</th>\n",
       "      <td>1</td>\n",
       "      <td>IC0002W0499</td>\n",
       "      <td>wav/C0002/IC0002W0499.wav</td>\n",
       "    </tr>\n",
       "    <tr>\n",
       "      <th>998</th>\n",
       "      <td>2</td>\n",
       "      <td>IC0003W0001</td>\n",
       "      <td>wav/C0003/IC0003W0001.wav</td>\n",
       "    </tr>\n",
       "    <tr>\n",
       "      <th>999</th>\n",
       "      <td>2</td>\n",
       "      <td>IC0003W0002</td>\n",
       "      <td>wav/C0003/IC0003W0002.wav</td>\n",
       "    </tr>\n",
       "    <tr>\n",
       "      <th>1000</th>\n",
       "      <td>2</td>\n",
       "      <td>IC0003W0003</td>\n",
       "      <td>wav/C0003/IC0003W0003.wav</td>\n",
       "    </tr>\n",
       "    <tr>\n",
       "      <th>1001</th>\n",
       "      <td>2</td>\n",
       "      <td>IC0003W0004</td>\n",
       "      <td>wav/C0003/IC0003W0004.wav</td>\n",
       "    </tr>\n",
       "    <tr>\n",
       "      <th>1002</th>\n",
       "      <td>2</td>\n",
       "      <td>IC0003W0005</td>\n",
       "      <td>wav/C0003/IC0003W0005.wav</td>\n",
       "    </tr>\n",
       "    <tr>\n",
       "      <th>1003</th>\n",
       "      <td>2</td>\n",
       "      <td>IC0003W0006</td>\n",
       "      <td>wav/C0003/IC0003W0006.wav</td>\n",
       "    </tr>\n",
       "    <tr>\n",
       "      <th>1004</th>\n",
       "      <td>2</td>\n",
       "      <td>IC0003W0007</td>\n",
       "      <td>wav/C0003/IC0003W0007.wav</td>\n",
       "    </tr>\n",
       "  </tbody>\n",
       "</table>\n",
       "</div>"
      ],
      "text/plain": [
       "      label       folder                       file\n",
       "995       1  IC0002W0497  wav/C0002/IC0002W0497.wav\n",
       "996       1  IC0002W0498  wav/C0002/IC0002W0498.wav\n",
       "997       1  IC0002W0499  wav/C0002/IC0002W0499.wav\n",
       "998       2  IC0003W0001  wav/C0003/IC0003W0001.wav\n",
       "999       2  IC0003W0002  wav/C0003/IC0003W0002.wav\n",
       "1000      2  IC0003W0003  wav/C0003/IC0003W0003.wav\n",
       "1001      2  IC0003W0004  wav/C0003/IC0003W0004.wav\n",
       "1002      2  IC0003W0005  wav/C0003/IC0003W0005.wav\n",
       "1003      2  IC0003W0006  wav/C0003/IC0003W0006.wav\n",
       "1004      2  IC0003W0007  wav/C0003/IC0003W0007.wav"
      ]
     },
     "execution_count": 82,
     "metadata": {},
     "output_type": "execute_result"
    }
   ],
   "source": [
    "wav[995:1005]"
   ]
  },
  {
   "cell_type": "code",
   "execution_count": 83,
   "metadata": {},
   "outputs": [],
   "source": [
    "from sklearn.model_selection import train_test_split\n",
    "\n",
    "train, test = train_test_split(wav.folder, test_size=0.2) #split data into 0.8 train and 0.2 test\n",
    "train, valid = train_test_split(train, test_size=0.25) #split train(0.8) into 0.6 train and 0.2 valid"
   ]
  },
  {
   "cell_type": "code",
   "execution_count": 84,
   "metadata": {},
   "outputs": [
    {
     "data": {
      "text/plain": [
       "605533"
      ]
     },
     "execution_count": 84,
     "metadata": {},
     "output_type": "execute_result"
    }
   ],
   "source": [
    "len(train)"
   ]
  },
  {
   "cell_type": "code",
   "execution_count": 85,
   "metadata": {},
   "outputs": [
    {
     "data": {
      "text/plain": [
       "201845"
      ]
     },
     "execution_count": 85,
     "metadata": {},
     "output_type": "execute_result"
    }
   ],
   "source": [
    "len(test)"
   ]
  },
  {
   "cell_type": "code",
   "execution_count": 86,
   "metadata": {},
   "outputs": [
    {
     "data": {
      "text/plain": [
       "201845"
      ]
     },
     "execution_count": 86,
     "metadata": {},
     "output_type": "execute_result"
    }
   ],
   "source": [
    "len(valid)"
   ]
  },
  {
   "cell_type": "code",
   "execution_count": 87,
   "metadata": {},
   "outputs": [
    {
     "data": {
      "text/plain": [
       "0.5999992073109709"
      ]
     },
     "execution_count": 87,
     "metadata": {},
     "output_type": "execute_result"
    }
   ],
   "source": [
    "len(train)/len(wav)"
   ]
  },
  {
   "cell_type": "code",
   "execution_count": 88,
   "metadata": {},
   "outputs": [
    {
     "data": {
      "text/plain": [
       "0.20000039634451455"
      ]
     },
     "execution_count": 88,
     "metadata": {},
     "output_type": "execute_result"
    }
   ],
   "source": [
    "len(test)/len(wav)"
   ]
  },
  {
   "cell_type": "code",
   "execution_count": 89,
   "metadata": {},
   "outputs": [
    {
     "data": {
      "text/plain": [
       "0.20000039634451455"
      ]
     },
     "execution_count": 89,
     "metadata": {},
     "output_type": "execute_result"
    }
   ],
   "source": [
    "len(valid)/len(wav)"
   ]
  },
  {
   "cell_type": "code",
   "execution_count": 90,
   "metadata": {},
   "outputs": [],
   "source": [
    "phase = np.random.choice([1, 2, 3], size=len(wav), p=[.9, .05, .05])"
   ]
  },
  {
   "cell_type": "code",
   "execution_count": 91,
   "metadata": {},
   "outputs": [
    {
     "data": {
      "text/plain": [
       "1009223"
      ]
     },
     "execution_count": 91,
     "metadata": {},
     "output_type": "execute_result"
    }
   ],
   "source": [
    "len(phase)"
   ]
  },
  {
   "cell_type": "code",
   "execution_count": 92,
   "metadata": {},
   "outputs": [
    {
     "data": {
      "text/plain": [
       "908789"
      ]
     },
     "execution_count": 92,
     "metadata": {},
     "output_type": "execute_result"
    }
   ],
   "source": [
    "list(phase).count(1) #0.9"
   ]
  },
  {
   "cell_type": "code",
   "execution_count": 93,
   "metadata": {},
   "outputs": [
    {
     "data": {
      "text/plain": [
       "50250"
      ]
     },
     "execution_count": 93,
     "metadata": {},
     "output_type": "execute_result"
    }
   ],
   "source": [
    "list(phase).count(2) #0.05"
   ]
  },
  {
   "cell_type": "code",
   "execution_count": 94,
   "metadata": {},
   "outputs": [
    {
     "data": {
      "text/plain": [
       "50184"
      ]
     },
     "execution_count": 94,
     "metadata": {},
     "output_type": "execute_result"
    }
   ],
   "source": [
    "list(phase).count(3) #0.05"
   ]
  },
  {
   "cell_type": "code",
   "execution_count": 96,
   "metadata": {},
   "outputs": [],
   "source": [
    "shuffered_wav = wav.sample(frac=1) #shuffer row"
   ]
  },
  {
   "cell_type": "code",
   "execution_count": 97,
   "metadata": {},
   "outputs": [
    {
     "data": {
      "text/plain": [
       "1009223"
      ]
     },
     "execution_count": 97,
     "metadata": {},
     "output_type": "execute_result"
    }
   ],
   "source": [
    "len(shuffered_wav)"
   ]
  },
  {
   "cell_type": "code",
   "execution_count": 103,
   "metadata": {},
   "outputs": [
    {
     "data": {
      "text/html": [
       "<div>\n",
       "<style scoped>\n",
       "    .dataframe tbody tr th:only-of-type {\n",
       "        vertical-align: middle;\n",
       "    }\n",
       "\n",
       "    .dataframe tbody tr th {\n",
       "        vertical-align: top;\n",
       "    }\n",
       "\n",
       "    .dataframe thead th {\n",
       "        text-align: right;\n",
       "    }\n",
       "</style>\n",
       "<table border=\"1\" class=\"dataframe\">\n",
       "  <thead>\n",
       "    <tr style=\"text-align: right;\">\n",
       "      <th></th>\n",
       "      <th>label</th>\n",
       "      <th>folder</th>\n",
       "      <th>file</th>\n",
       "    </tr>\n",
       "  </thead>\n",
       "  <tbody>\n",
       "    <tr>\n",
       "      <th>373742</th>\n",
       "      <td>751</td>\n",
       "      <td>IC0754W0215</td>\n",
       "      <td>wav/C0754/IC0754W0215.wav</td>\n",
       "    </tr>\n",
       "    <tr>\n",
       "      <th>369257</th>\n",
       "      <td>742</td>\n",
       "      <td>IC0745W0215</td>\n",
       "      <td>wav/C0745/IC0745W0215.wav</td>\n",
       "    </tr>\n",
       "    <tr>\n",
       "      <th>277018</th>\n",
       "      <td>556</td>\n",
       "      <td>IC0559W0105</td>\n",
       "      <td>wav/C0559/IC0559W0105.wav</td>\n",
       "    </tr>\n",
       "    <tr>\n",
       "      <th>644178</th>\n",
       "      <td>1283</td>\n",
       "      <td>IC9316W0031</td>\n",
       "      <td>wav/C9316/IC9316W0031.wav</td>\n",
       "    </tr>\n",
       "    <tr>\n",
       "      <th>401453</th>\n",
       "      <td>806</td>\n",
       "      <td>IC0810W0471</td>\n",
       "      <td>wav/C0810/IC0810W0471.wav</td>\n",
       "    </tr>\n",
       "    <tr>\n",
       "      <th>639720</th>\n",
       "      <td>1274</td>\n",
       "      <td>IC9307W0242</td>\n",
       "      <td>wav/C9307/IC9307W0242.wav</td>\n",
       "    </tr>\n",
       "    <tr>\n",
       "      <th>906602</th>\n",
       "      <td>1791</td>\n",
       "      <td>ID0446W0250</td>\n",
       "      <td>wav/D0446/ID0446W0250.wav</td>\n",
       "    </tr>\n",
       "    <tr>\n",
       "      <th>381361</th>\n",
       "      <td>766</td>\n",
       "      <td>IC0769W0345</td>\n",
       "      <td>wav/C0769/IC0769W0345.wav</td>\n",
       "    </tr>\n",
       "    <tr>\n",
       "      <th>681457</th>\n",
       "      <td>1355</td>\n",
       "      <td>ID0009W0078</td>\n",
       "      <td>wav/D0009/ID0009W0078.wav</td>\n",
       "    </tr>\n",
       "    <tr>\n",
       "      <th>521823</th>\n",
       "      <td>1046</td>\n",
       "      <td>IC9053W0129</td>\n",
       "      <td>wav/C9053/IC9053W0129.wav</td>\n",
       "    </tr>\n",
       "  </tbody>\n",
       "</table>\n",
       "</div>"
      ],
      "text/plain": [
       "        label       folder                       file\n",
       "373742    751  IC0754W0215  wav/C0754/IC0754W0215.wav\n",
       "369257    742  IC0745W0215  wav/C0745/IC0745W0215.wav\n",
       "277018    556  IC0559W0105  wav/C0559/IC0559W0105.wav\n",
       "644178   1283  IC9316W0031  wav/C9316/IC9316W0031.wav\n",
       "401453    806  IC0810W0471  wav/C0810/IC0810W0471.wav\n",
       "639720   1274  IC9307W0242  wav/C9307/IC9307W0242.wav\n",
       "906602   1791  ID0446W0250  wav/D0446/ID0446W0250.wav\n",
       "381361    766  IC0769W0345  wav/C0769/IC0769W0345.wav\n",
       "681457   1355  ID0009W0078  wav/D0009/ID0009W0078.wav\n",
       "521823   1046  IC9053W0129  wav/C9053/IC9053W0129.wav"
      ]
     },
     "execution_count": 103,
     "metadata": {},
     "output_type": "execute_result"
    }
   ],
   "source": [
    "shuffered_wav[:10]"
   ]
  },
  {
   "cell_type": "code",
   "execution_count": 104,
   "metadata": {},
   "outputs": [],
   "source": [
    "# insert phase to shuffered_wav\n",
    "shuffered_wav.insert(0, 'phase', phase)"
   ]
  },
  {
   "cell_type": "code",
   "execution_count": 105,
   "metadata": {},
   "outputs": [
    {
     "data": {
      "text/plain": [
       "1009223"
      ]
     },
     "execution_count": 105,
     "metadata": {},
     "output_type": "execute_result"
    }
   ],
   "source": [
    "len(shuffered_wav)"
   ]
  },
  {
   "cell_type": "code",
   "execution_count": 106,
   "metadata": {},
   "outputs": [
    {
     "data": {
      "text/html": [
       "<div>\n",
       "<style scoped>\n",
       "    .dataframe tbody tr th:only-of-type {\n",
       "        vertical-align: middle;\n",
       "    }\n",
       "\n",
       "    .dataframe tbody tr th {\n",
       "        vertical-align: top;\n",
       "    }\n",
       "\n",
       "    .dataframe thead th {\n",
       "        text-align: right;\n",
       "    }\n",
       "</style>\n",
       "<table border=\"1\" class=\"dataframe\">\n",
       "  <thead>\n",
       "    <tr style=\"text-align: right;\">\n",
       "      <th></th>\n",
       "      <th>phase</th>\n",
       "      <th>label</th>\n",
       "      <th>folder</th>\n",
       "      <th>file</th>\n",
       "    </tr>\n",
       "  </thead>\n",
       "  <tbody>\n",
       "    <tr>\n",
       "      <th>373742</th>\n",
       "      <td>1</td>\n",
       "      <td>751</td>\n",
       "      <td>IC0754W0215</td>\n",
       "      <td>wav/C0754/IC0754W0215.wav</td>\n",
       "    </tr>\n",
       "    <tr>\n",
       "      <th>369257</th>\n",
       "      <td>1</td>\n",
       "      <td>742</td>\n",
       "      <td>IC0745W0215</td>\n",
       "      <td>wav/C0745/IC0745W0215.wav</td>\n",
       "    </tr>\n",
       "    <tr>\n",
       "      <th>277018</th>\n",
       "      <td>1</td>\n",
       "      <td>556</td>\n",
       "      <td>IC0559W0105</td>\n",
       "      <td>wav/C0559/IC0559W0105.wav</td>\n",
       "    </tr>\n",
       "    <tr>\n",
       "      <th>644178</th>\n",
       "      <td>1</td>\n",
       "      <td>1283</td>\n",
       "      <td>IC9316W0031</td>\n",
       "      <td>wav/C9316/IC9316W0031.wav</td>\n",
       "    </tr>\n",
       "    <tr>\n",
       "      <th>401453</th>\n",
       "      <td>1</td>\n",
       "      <td>806</td>\n",
       "      <td>IC0810W0471</td>\n",
       "      <td>wav/C0810/IC0810W0471.wav</td>\n",
       "    </tr>\n",
       "    <tr>\n",
       "      <th>639720</th>\n",
       "      <td>1</td>\n",
       "      <td>1274</td>\n",
       "      <td>IC9307W0242</td>\n",
       "      <td>wav/C9307/IC9307W0242.wav</td>\n",
       "    </tr>\n",
       "    <tr>\n",
       "      <th>906602</th>\n",
       "      <td>1</td>\n",
       "      <td>1791</td>\n",
       "      <td>ID0446W0250</td>\n",
       "      <td>wav/D0446/ID0446W0250.wav</td>\n",
       "    </tr>\n",
       "    <tr>\n",
       "      <th>381361</th>\n",
       "      <td>1</td>\n",
       "      <td>766</td>\n",
       "      <td>IC0769W0345</td>\n",
       "      <td>wav/C0769/IC0769W0345.wav</td>\n",
       "    </tr>\n",
       "    <tr>\n",
       "      <th>681457</th>\n",
       "      <td>1</td>\n",
       "      <td>1355</td>\n",
       "      <td>ID0009W0078</td>\n",
       "      <td>wav/D0009/ID0009W0078.wav</td>\n",
       "    </tr>\n",
       "    <tr>\n",
       "      <th>521823</th>\n",
       "      <td>1</td>\n",
       "      <td>1046</td>\n",
       "      <td>IC9053W0129</td>\n",
       "      <td>wav/C9053/IC9053W0129.wav</td>\n",
       "    </tr>\n",
       "  </tbody>\n",
       "</table>\n",
       "</div>"
      ],
      "text/plain": [
       "        phase  label       folder                       file\n",
       "373742      1    751  IC0754W0215  wav/C0754/IC0754W0215.wav\n",
       "369257      1    742  IC0745W0215  wav/C0745/IC0745W0215.wav\n",
       "277018      1    556  IC0559W0105  wav/C0559/IC0559W0105.wav\n",
       "644178      1   1283  IC9316W0031  wav/C9316/IC9316W0031.wav\n",
       "401453      1    806  IC0810W0471  wav/C0810/IC0810W0471.wav\n",
       "639720      1   1274  IC9307W0242  wav/C9307/IC9307W0242.wav\n",
       "906602      1   1791  ID0446W0250  wav/D0446/ID0446W0250.wav\n",
       "381361      1    766  IC0769W0345  wav/C0769/IC0769W0345.wav\n",
       "681457      1   1355  ID0009W0078  wav/D0009/ID0009W0078.wav\n",
       "521823      1   1046  IC9053W0129  wav/C9053/IC9053W0129.wav"
      ]
     },
     "execution_count": 106,
     "metadata": {},
     "output_type": "execute_result"
    }
   ],
   "source": [
    "shuffered_wav[:10]"
   ]
  },
  {
   "cell_type": "code",
   "execution_count": 107,
   "metadata": {},
   "outputs": [],
   "source": [
    "## sort shuffered_wav\n",
    "new_wav = shuffered_wav.sort_index()"
   ]
  },
  {
   "cell_type": "code",
   "execution_count": 108,
   "metadata": {},
   "outputs": [
    {
     "data": {
      "text/plain": [
       "1009223"
      ]
     },
     "execution_count": 108,
     "metadata": {},
     "output_type": "execute_result"
    }
   ],
   "source": [
    "len(new_wav)"
   ]
  },
  {
   "cell_type": "code",
   "execution_count": 109,
   "metadata": {},
   "outputs": [
    {
     "data": {
      "text/html": [
       "<div>\n",
       "<style scoped>\n",
       "    .dataframe tbody tr th:only-of-type {\n",
       "        vertical-align: middle;\n",
       "    }\n",
       "\n",
       "    .dataframe tbody tr th {\n",
       "        vertical-align: top;\n",
       "    }\n",
       "\n",
       "    .dataframe thead th {\n",
       "        text-align: right;\n",
       "    }\n",
       "</style>\n",
       "<table border=\"1\" class=\"dataframe\">\n",
       "  <thead>\n",
       "    <tr style=\"text-align: right;\">\n",
       "      <th></th>\n",
       "      <th>phase</th>\n",
       "      <th>label</th>\n",
       "      <th>folder</th>\n",
       "      <th>file</th>\n",
       "    </tr>\n",
       "  </thead>\n",
       "  <tbody>\n",
       "    <tr>\n",
       "      <th>0</th>\n",
       "      <td>1</td>\n",
       "      <td>0</td>\n",
       "      <td>IC0001W0001</td>\n",
       "      <td>wav/C0001/IC0001W0001.wav</td>\n",
       "    </tr>\n",
       "    <tr>\n",
       "      <th>1</th>\n",
       "      <td>1</td>\n",
       "      <td>0</td>\n",
       "      <td>IC0001W0002</td>\n",
       "      <td>wav/C0001/IC0001W0002.wav</td>\n",
       "    </tr>\n",
       "    <tr>\n",
       "      <th>2</th>\n",
       "      <td>1</td>\n",
       "      <td>0</td>\n",
       "      <td>IC0001W0003</td>\n",
       "      <td>wav/C0001/IC0001W0003.wav</td>\n",
       "    </tr>\n",
       "    <tr>\n",
       "      <th>3</th>\n",
       "      <td>1</td>\n",
       "      <td>0</td>\n",
       "      <td>IC0001W0004</td>\n",
       "      <td>wav/C0001/IC0001W0004.wav</td>\n",
       "    </tr>\n",
       "    <tr>\n",
       "      <th>4</th>\n",
       "      <td>1</td>\n",
       "      <td>0</td>\n",
       "      <td>IC0001W0005</td>\n",
       "      <td>wav/C0001/IC0001W0005.wav</td>\n",
       "    </tr>\n",
       "    <tr>\n",
       "      <th>5</th>\n",
       "      <td>1</td>\n",
       "      <td>0</td>\n",
       "      <td>IC0001W0006</td>\n",
       "      <td>wav/C0001/IC0001W0006.wav</td>\n",
       "    </tr>\n",
       "    <tr>\n",
       "      <th>6</th>\n",
       "      <td>1</td>\n",
       "      <td>0</td>\n",
       "      <td>IC0001W0007</td>\n",
       "      <td>wav/C0001/IC0001W0007.wav</td>\n",
       "    </tr>\n",
       "    <tr>\n",
       "      <th>7</th>\n",
       "      <td>2</td>\n",
       "      <td>0</td>\n",
       "      <td>IC0001W0008</td>\n",
       "      <td>wav/C0001/IC0001W0008.wav</td>\n",
       "    </tr>\n",
       "    <tr>\n",
       "      <th>8</th>\n",
       "      <td>2</td>\n",
       "      <td>0</td>\n",
       "      <td>IC0001W0009</td>\n",
       "      <td>wav/C0001/IC0001W0009.wav</td>\n",
       "    </tr>\n",
       "    <tr>\n",
       "      <th>9</th>\n",
       "      <td>2</td>\n",
       "      <td>0</td>\n",
       "      <td>IC0001W0010</td>\n",
       "      <td>wav/C0001/IC0001W0010.wav</td>\n",
       "    </tr>\n",
       "  </tbody>\n",
       "</table>\n",
       "</div>"
      ],
      "text/plain": [
       "   phase  label       folder                       file\n",
       "0      1      0  IC0001W0001  wav/C0001/IC0001W0001.wav\n",
       "1      1      0  IC0001W0002  wav/C0001/IC0001W0002.wav\n",
       "2      1      0  IC0001W0003  wav/C0001/IC0001W0003.wav\n",
       "3      1      0  IC0001W0004  wav/C0001/IC0001W0004.wav\n",
       "4      1      0  IC0001W0005  wav/C0001/IC0001W0005.wav\n",
       "5      1      0  IC0001W0006  wav/C0001/IC0001W0006.wav\n",
       "6      1      0  IC0001W0007  wav/C0001/IC0001W0007.wav\n",
       "7      2      0  IC0001W0008  wav/C0001/IC0001W0008.wav\n",
       "8      2      0  IC0001W0009  wav/C0001/IC0001W0009.wav\n",
       "9      2      0  IC0001W0010  wav/C0001/IC0001W0010.wav"
      ]
     },
     "execution_count": 109,
     "metadata": {},
     "output_type": "execute_result"
    }
   ],
   "source": [
    "new_wav[:10]"
   ]
  },
  {
   "cell_type": "code",
   "execution_count": 110,
   "metadata": {},
   "outputs": [
    {
     "data": {
      "text/html": [
       "<div>\n",
       "<style scoped>\n",
       "    .dataframe tbody tr th:only-of-type {\n",
       "        vertical-align: middle;\n",
       "    }\n",
       "\n",
       "    .dataframe tbody tr th {\n",
       "        vertical-align: top;\n",
       "    }\n",
       "\n",
       "    .dataframe thead th {\n",
       "        text-align: right;\n",
       "    }\n",
       "</style>\n",
       "<table border=\"1\" class=\"dataframe\">\n",
       "  <thead>\n",
       "    <tr style=\"text-align: right;\">\n",
       "      <th></th>\n",
       "      <th>phase</th>\n",
       "      <th>label</th>\n",
       "      <th>folder</th>\n",
       "      <th>file</th>\n",
       "    </tr>\n",
       "  </thead>\n",
       "  <tbody>\n",
       "    <tr>\n",
       "      <th>1000</th>\n",
       "      <td>1</td>\n",
       "      <td>2</td>\n",
       "      <td>IC0003W0003</td>\n",
       "      <td>wav/C0003/IC0003W0003.wav</td>\n",
       "    </tr>\n",
       "  </tbody>\n",
       "</table>\n",
       "</div>"
      ],
      "text/plain": [
       "      phase  label       folder                       file\n",
       "1000      1      2  IC0003W0003  wav/C0003/IC0003W0003.wav"
      ]
     },
     "execution_count": 110,
     "metadata": {},
     "output_type": "execute_result"
    }
   ],
   "source": [
    "new_wav[1000:1001]"
   ]
  },
  {
   "cell_type": "code",
   "execution_count": 111,
   "metadata": {},
   "outputs": [
    {
     "data": {
      "text/html": [
       "<div>\n",
       "<style scoped>\n",
       "    .dataframe tbody tr th:only-of-type {\n",
       "        vertical-align: middle;\n",
       "    }\n",
       "\n",
       "    .dataframe tbody tr th {\n",
       "        vertical-align: top;\n",
       "    }\n",
       "\n",
       "    .dataframe thead th {\n",
       "        text-align: right;\n",
       "    }\n",
       "</style>\n",
       "<table border=\"1\" class=\"dataframe\">\n",
       "  <thead>\n",
       "    <tr style=\"text-align: right;\">\n",
       "      <th></th>\n",
       "      <th>label</th>\n",
       "      <th>folder</th>\n",
       "      <th>file</th>\n",
       "    </tr>\n",
       "  </thead>\n",
       "  <tbody>\n",
       "    <tr>\n",
       "      <th>1000</th>\n",
       "      <td>2</td>\n",
       "      <td>IC0003W0003</td>\n",
       "      <td>wav/C0003/IC0003W0003.wav</td>\n",
       "    </tr>\n",
       "  </tbody>\n",
       "</table>\n",
       "</div>"
      ],
      "text/plain": [
       "      label       folder                       file\n",
       "1000      2  IC0003W0003  wav/C0003/IC0003W0003.wav"
      ]
     },
     "execution_count": 111,
     "metadata": {},
     "output_type": "execute_result"
    }
   ],
   "source": [
    "wav[1000:1001]"
   ]
  },
  {
   "cell_type": "code",
   "execution_count": 112,
   "metadata": {},
   "outputs": [],
   "source": [
    "## save to csv\n",
    "dataframe = pd.DataFrame({'phase':new_wav.phase,'label':new_wav.label, 'folder':new_wav.folder, 'file':new_wav.file})\n",
    "dataframe.to_csv(\"wav91.csv\", index = False, sep=',')"
   ]
  },
  {
   "cell_type": "code",
   "execution_count": 113,
   "metadata": {},
   "outputs": [],
   "source": [
    "wwav = pd.read_csv('wav91.csv', sep=',')"
   ]
  },
  {
   "cell_type": "code",
   "execution_count": 114,
   "metadata": {},
   "outputs": [
    {
     "data": {
      "text/html": [
       "<div>\n",
       "<style scoped>\n",
       "    .dataframe tbody tr th:only-of-type {\n",
       "        vertical-align: middle;\n",
       "    }\n",
       "\n",
       "    .dataframe tbody tr th {\n",
       "        vertical-align: top;\n",
       "    }\n",
       "\n",
       "    .dataframe thead th {\n",
       "        text-align: right;\n",
       "    }\n",
       "</style>\n",
       "<table border=\"1\" class=\"dataframe\">\n",
       "  <thead>\n",
       "    <tr style=\"text-align: right;\">\n",
       "      <th></th>\n",
       "      <th>phase</th>\n",
       "      <th>label</th>\n",
       "      <th>folder</th>\n",
       "      <th>file</th>\n",
       "    </tr>\n",
       "  </thead>\n",
       "  <tbody>\n",
       "    <tr>\n",
       "      <th>0</th>\n",
       "      <td>1</td>\n",
       "      <td>0</td>\n",
       "      <td>IC0001W0001</td>\n",
       "      <td>wav/C0001/IC0001W0001.wav</td>\n",
       "    </tr>\n",
       "    <tr>\n",
       "      <th>1</th>\n",
       "      <td>1</td>\n",
       "      <td>0</td>\n",
       "      <td>IC0001W0002</td>\n",
       "      <td>wav/C0001/IC0001W0002.wav</td>\n",
       "    </tr>\n",
       "    <tr>\n",
       "      <th>2</th>\n",
       "      <td>1</td>\n",
       "      <td>0</td>\n",
       "      <td>IC0001W0003</td>\n",
       "      <td>wav/C0001/IC0001W0003.wav</td>\n",
       "    </tr>\n",
       "    <tr>\n",
       "      <th>3</th>\n",
       "      <td>1</td>\n",
       "      <td>0</td>\n",
       "      <td>IC0001W0004</td>\n",
       "      <td>wav/C0001/IC0001W0004.wav</td>\n",
       "    </tr>\n",
       "    <tr>\n",
       "      <th>4</th>\n",
       "      <td>1</td>\n",
       "      <td>0</td>\n",
       "      <td>IC0001W0005</td>\n",
       "      <td>wav/C0001/IC0001W0005.wav</td>\n",
       "    </tr>\n",
       "    <tr>\n",
       "      <th>5</th>\n",
       "      <td>1</td>\n",
       "      <td>0</td>\n",
       "      <td>IC0001W0006</td>\n",
       "      <td>wav/C0001/IC0001W0006.wav</td>\n",
       "    </tr>\n",
       "    <tr>\n",
       "      <th>6</th>\n",
       "      <td>1</td>\n",
       "      <td>0</td>\n",
       "      <td>IC0001W0007</td>\n",
       "      <td>wav/C0001/IC0001W0007.wav</td>\n",
       "    </tr>\n",
       "    <tr>\n",
       "      <th>7</th>\n",
       "      <td>2</td>\n",
       "      <td>0</td>\n",
       "      <td>IC0001W0008</td>\n",
       "      <td>wav/C0001/IC0001W0008.wav</td>\n",
       "    </tr>\n",
       "    <tr>\n",
       "      <th>8</th>\n",
       "      <td>2</td>\n",
       "      <td>0</td>\n",
       "      <td>IC0001W0009</td>\n",
       "      <td>wav/C0001/IC0001W0009.wav</td>\n",
       "    </tr>\n",
       "    <tr>\n",
       "      <th>9</th>\n",
       "      <td>2</td>\n",
       "      <td>0</td>\n",
       "      <td>IC0001W0010</td>\n",
       "      <td>wav/C0001/IC0001W0010.wav</td>\n",
       "    </tr>\n",
       "  </tbody>\n",
       "</table>\n",
       "</div>"
      ],
      "text/plain": [
       "   phase  label       folder                       file\n",
       "0      1      0  IC0001W0001  wav/C0001/IC0001W0001.wav\n",
       "1      1      0  IC0001W0002  wav/C0001/IC0001W0002.wav\n",
       "2      1      0  IC0001W0003  wav/C0001/IC0001W0003.wav\n",
       "3      1      0  IC0001W0004  wav/C0001/IC0001W0004.wav\n",
       "4      1      0  IC0001W0005  wav/C0001/IC0001W0005.wav\n",
       "5      1      0  IC0001W0006  wav/C0001/IC0001W0006.wav\n",
       "6      1      0  IC0001W0007  wav/C0001/IC0001W0007.wav\n",
       "7      2      0  IC0001W0008  wav/C0001/IC0001W0008.wav\n",
       "8      2      0  IC0001W0009  wav/C0001/IC0001W0009.wav\n",
       "9      2      0  IC0001W0010  wav/C0001/IC0001W0010.wav"
      ]
     },
     "execution_count": 114,
     "metadata": {},
     "output_type": "execute_result"
    }
   ],
   "source": [
    "wwav[:10]"
   ]
  },
  {
   "cell_type": "code",
   "execution_count": 288,
   "metadata": {},
   "outputs": [],
   "source": [
    "lt = wwav.loc[wwav['file'] == 'wav/C0001/IC0001W0004.wav'].label"
   ]
  },
  {
   "cell_type": "code",
   "execution_count": 289,
   "metadata": {},
   "outputs": [
    {
     "data": {
      "text/plain": [
       "3    0\n",
       "Name: label, dtype: int64"
      ]
     },
     "execution_count": 289,
     "metadata": {},
     "output_type": "execute_result"
    }
   ],
   "source": [
    "lt"
   ]
  },
  {
   "cell_type": "code",
   "execution_count": 290,
   "metadata": {},
   "outputs": [
    {
     "data": {
      "text/plain": [
       "pandas.core.series.Series"
      ]
     },
     "execution_count": 290,
     "metadata": {},
     "output_type": "execute_result"
    }
   ],
   "source": [
    "type(lt)"
   ]
  },
  {
   "cell_type": "code",
   "execution_count": 286,
   "metadata": {},
   "outputs": [],
   "source": [
    "llt = np.array(lt)"
   ]
  },
  {
   "cell_type": "code",
   "execution_count": 287,
   "metadata": {},
   "outputs": [
    {
     "data": {
      "text/plain": [
       "numpy.ndarray"
      ]
     },
     "execution_count": 287,
     "metadata": {},
     "output_type": "execute_result"
    }
   ],
   "source": [
    "type(llt)"
   ]
  },
  {
   "cell_type": "code",
   "execution_count": 291,
   "metadata": {},
   "outputs": [
    {
     "data": {
      "text/plain": [
       "0"
      ]
     },
     "execution_count": 291,
     "metadata": {},
     "output_type": "execute_result"
    }
   ],
   "source": [
    "int(lt)"
   ]
  },
  {
   "cell_type": "code",
   "execution_count": 24,
   "metadata": {},
   "outputs": [],
   "source": [
    "import numpy as np\n",
    "s = np.random.randint(0, 1, size=3)"
   ]
  },
  {
   "cell_type": "code",
   "execution_count": 20,
   "metadata": {},
   "outputs": [
    {
     "data": {
      "text/plain": [
       "array([0, 0, 0])"
      ]
     },
     "execution_count": 20,
     "metadata": {},
     "output_type": "execute_result"
    }
   ],
   "source": [
    "s"
   ]
  },
  {
   "cell_type": "code",
   "execution_count": 21,
   "metadata": {},
   "outputs": [],
   "source": [
    "e = s + 3"
   ]
  },
  {
   "cell_type": "code",
   "execution_count": 22,
   "metadata": {},
   "outputs": [
    {
     "data": {
      "text/plain": [
       "array([3, 3, 3])"
      ]
     },
     "execution_count": 22,
     "metadata": {},
     "output_type": "execute_result"
    }
   ],
   "source": [
    "e"
   ]
  },
  {
   "cell_type": "code",
   "execution_count": 17,
   "metadata": {},
   "outputs": [
    {
     "data": {
      "text/plain": [
       "4"
      ]
     },
     "execution_count": 17,
     "metadata": {},
     "output_type": "execute_result"
    }
   ],
   "source": [
    "e[0]"
   ]
  },
  {
   "cell_type": "code",
   "execution_count": 26,
   "metadata": {},
   "outputs": [
    {
     "data": {
      "text/plain": [
       "1"
      ]
     },
     "execution_count": 26,
     "metadata": {},
     "output_type": "execute_result"
    }
   ],
   "source": [
    "np.random.randint(1, 2)"
   ]
  },
  {
   "cell_type": "code",
   "execution_count": 28,
   "metadata": {},
   "outputs": [
    {
     "data": {
      "text/plain": [
       "0"
      ]
     },
     "execution_count": 28,
     "metadata": {},
     "output_type": "execute_result"
    }
   ],
   "source": [
    "np.random.choice()"
   ]
  },
  {
   "cell_type": "code",
   "execution_count": 30,
   "metadata": {},
   "outputs": [],
   "source": [
    "import os\n",
    "p = 'a'\n",
    "epoch_num = 2\n",
    "pa = os.path.join(p, 'model_snapshot_{}.pkl'.format(epoch_num+1))"
   ]
  },
  {
   "cell_type": "code",
   "execution_count": 31,
   "metadata": {},
   "outputs": [
    {
     "data": {
      "text/plain": [
       "'a/model_snapshot_3.pkl'"
      ]
     },
     "execution_count": 31,
     "metadata": {},
     "output_type": "execute_result"
    }
   ],
   "source": [
    "pa"
   ]
  },
  {
   "cell_type": "code",
   "execution_count": null,
   "metadata": {},
   "outputs": [],
   "source": []
  }
 ],
 "metadata": {
  "kernelspec": {
   "display_name": "Python 3",
   "language": "python",
   "name": "python3"
  },
  "language_info": {
   "codemirror_mode": {
    "name": "ipython",
    "version": 3
   },
   "file_extension": ".py",
   "mimetype": "text/x-python",
   "name": "python",
   "nbconvert_exporter": "python",
   "pygments_lexer": "ipython3",
   "version": "3.6.6"
  }
 },
 "nbformat": 4,
 "nbformat_minor": 2
}
