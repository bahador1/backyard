{
  "nbformat": 4,
  "nbformat_minor": 0,
  "metadata": {
    "colab": {
      "name": "Map, Filter, and Reduce Functions.ipynb",
      "version": "0.3.2",
      "provenance": [],
      "collapsed_sections": []
    },
    "kernelspec": {
      "name": "python3",
      "display_name": "Python 3"
    }
  },
  "cells": [
    {
      "cell_type": "markdown",
      "metadata": {
        "id": "ImieLbXR2zjd",
        "colab_type": "text"
      },
      "source": [
        "# Map, Filter, and Reduce Functions\n",
        "## https://www.youtube.com/watch?v=hUes6y2b--0"
      ]
    },
    {
      "cell_type": "code",
      "metadata": {
        "id": "x7BNP12C2xqd",
        "colab_type": "code",
        "colab": {}
      },
      "source": [
        "# 计算一系列半径的圆的面积"
      ],
      "execution_count": 0,
      "outputs": []
    },
    {
      "cell_type": "code",
      "metadata": {
        "id": "eIYNF9W93Cvt",
        "colab_type": "code",
        "colab": {}
      },
      "source": [
        "import math"
      ],
      "execution_count": 0,
      "outputs": []
    },
    {
      "cell_type": "code",
      "metadata": {
        "id": "BVrY7q-G3FSi",
        "colab_type": "code",
        "colab": {}
      },
      "source": [
        "# 计算面积\n",
        "def area(r):\n",
        "    \"\"\"area of a circle with radius 'r'.\"\"\"\n",
        "    return math.pi * (r**2)"
      ],
      "execution_count": 0,
      "outputs": []
    },
    {
      "cell_type": "code",
      "metadata": {
        "id": "JMdsGElG3Qq6",
        "colab_type": "code",
        "colab": {}
      },
      "source": [
        "# 半径\n",
        "radii = [2, 5, 7,1 ,0.3, 10]"
      ],
      "execution_count": 0,
      "outputs": []
    },
    {
      "cell_type": "code",
      "metadata": {
        "id": "ROGZ-_VN3bol",
        "colab_type": "code",
        "colab": {
          "base_uri": "https://localhost:8080/",
          "height": 125
        },
        "outputId": "285675f7-ca0f-4e82-a88d-5729a0e6c855"
      },
      "source": [
        "# method 1\n",
        "areas = []\n",
        "for r in radii:\n",
        "    a = area(r)\n",
        "    areas.append(a)\n",
        "\n",
        "areas"
      ],
      "execution_count": 4,
      "outputs": [
        {
          "output_type": "execute_result",
          "data": {
            "text/plain": [
              "[12.566370614359172,\n",
              " 78.53981633974483,\n",
              " 153.93804002589985,\n",
              " 3.141592653589793,\n",
              " 0.2827433388230814,\n",
              " 314.1592653589793]"
            ]
          },
          "metadata": {
            "tags": []
          },
          "execution_count": 4
        }
      ]
    },
    {
      "cell_type": "code",
      "metadata": {
        "id": "EtJecZey3ltp",
        "colab_type": "code",
        "colab": {
          "base_uri": "https://localhost:8080/",
          "height": 125
        },
        "outputId": "18a3b1e4-3da1-4057-a76c-715a1caa4f77"
      },
      "source": [
        "# method 2\n",
        "[area(r) for r in radii]"
      ],
      "execution_count": 5,
      "outputs": [
        {
          "output_type": "execute_result",
          "data": {
            "text/plain": [
              "[12.566370614359172,\n",
              " 78.53981633974483,\n",
              " 153.93804002589985,\n",
              " 3.141592653589793,\n",
              " 0.2827433388230814,\n",
              " 314.1592653589793]"
            ]
          },
          "metadata": {
            "tags": []
          },
          "execution_count": 5
        }
      ]
    },
    {
      "cell_type": "code",
      "metadata": {
        "id": "iWRRrsnx3rEB",
        "colab_type": "code",
        "colab": {
          "base_uri": "https://localhost:8080/",
          "height": 35
        },
        "outputId": "dffe659c-1d83-46f1-ec0c-22f8fbdd0a97"
      },
      "source": [
        "# method 3, with map function, map take 2 arguments, first is function, second is list/tuple or other iterable object\n",
        "map(area, radii)"
      ],
      "execution_count": 6,
      "outputs": [
        {
          "output_type": "execute_result",
          "data": {
            "text/plain": [
              "<map at 0x7f1fb3c0f940>"
            ]
          },
          "metadata": {
            "tags": []
          },
          "execution_count": 6
        }
      ]
    },
    {
      "cell_type": "code",
      "metadata": {
        "id": "TTpM7LnV4GGZ",
        "colab_type": "code",
        "colab": {
          "base_uri": "https://localhost:8080/",
          "height": 125
        },
        "outputId": "3c645c36-c1ef-49a7-943e-afee9f17156b"
      },
      "source": [
        "list(map(area, radii))"
      ],
      "execution_count": 7,
      "outputs": [
        {
          "output_type": "execute_result",
          "data": {
            "text/plain": [
              "[12.566370614359172,\n",
              " 78.53981633974483,\n",
              " 153.93804002589985,\n",
              " 3.141592653589793,\n",
              " 0.2827433388230814,\n",
              " 314.1592653589793]"
            ]
          },
          "metadata": {
            "tags": []
          },
          "execution_count": 7
        }
      ]
    },
    {
      "cell_type": "code",
      "metadata": {
        "id": "EakOFc--4IO5",
        "colab_type": "code",
        "colab": {
          "base_uri": "https://localhost:8080/",
          "height": 161
        },
        "outputId": "35962c2e-eadd-47ba-b310-018b242d960a"
      },
      "source": [
        "# more examples\n",
        "\n",
        "temps = [(\"Berlin\", 29), (\"Cairo\", 36), (\"Buenos Aires\", 19), (\"Los Angeles\", 26), (\"Tokyo\", 27), (\"New York\", 28), (\"London\", 22), (\"Bejing\", 32)]\n",
        "\n",
        "c_to_f = lambda data: (data[0], (9/5)*data[1] + 32)\n",
        "\n",
        "list(map(c_to_f, temps))"
      ],
      "execution_count": 8,
      "outputs": [
        {
          "output_type": "execute_result",
          "data": {
            "text/plain": [
              "[('Berlin', 84.2),\n",
              " ('Cairo', 96.8),\n",
              " ('Buenos Aires', 66.2),\n",
              " ('Los Angeles', 78.80000000000001),\n",
              " ('Tokyo', 80.6),\n",
              " ('New York', 82.4),\n",
              " ('London', 71.6),\n",
              " ('Bejing', 89.6)]"
            ]
          },
          "metadata": {
            "tags": []
          },
          "execution_count": 8
        }
      ]
    },
    {
      "cell_type": "markdown",
      "metadata": {
        "id": "j2QE6i5n7X5q",
        "colab_type": "text"
      },
      "source": [
        "### filter function is used to select certain pieces of data from a list/tuple or other collection of data."
      ]
    },
    {
      "cell_type": "code",
      "metadata": {
        "id": "weQkldzr5LhI",
        "colab_type": "code",
        "colab": {}
      },
      "source": [
        "# let's select all data that above the mean"
      ],
      "execution_count": 0,
      "outputs": []
    },
    {
      "cell_type": "code",
      "metadata": {
        "id": "61PKGNKG7u3K",
        "colab_type": "code",
        "colab": {}
      },
      "source": [
        "import statistics"
      ],
      "execution_count": 0,
      "outputs": []
    },
    {
      "cell_type": "code",
      "metadata": {
        "id": "Se5dRZnw7xQ-",
        "colab_type": "code",
        "colab": {}
      },
      "source": [
        "data = [1.3, 2.7, 0.8, 4.1, 4.3, -0.1]"
      ],
      "execution_count": 0,
      "outputs": []
    },
    {
      "cell_type": "code",
      "metadata": {
        "id": "7pSvbQvt73r5",
        "colab_type": "code",
        "colab": {
          "base_uri": "https://localhost:8080/",
          "height": 35
        },
        "outputId": "1517462c-20ed-453b-e221-ba4684c32a6d"
      },
      "source": [
        "avg = statistics.mean(data);avg"
      ],
      "execution_count": 11,
      "outputs": [
        {
          "output_type": "execute_result",
          "data": {
            "text/plain": [
              "2.183333333333333"
            ]
          },
          "metadata": {
            "tags": []
          },
          "execution_count": 11
        }
      ]
    },
    {
      "cell_type": "code",
      "metadata": {
        "id": "ID4Q7s5g77dF",
        "colab_type": "code",
        "colab": {
          "base_uri": "https://localhost:8080/",
          "height": 35
        },
        "outputId": "f8705efc-5160-4ff1-d765-766ccaf1f510"
      },
      "source": [
        "# like map. filter 1st take a function, 2nd take a list/tuple...\n",
        "filter(lambda x: x>avg, data)"
      ],
      "execution_count": 12,
      "outputs": [
        {
          "output_type": "execute_result",
          "data": {
            "text/plain": [
              "<filter at 0x7f1fb3c23048>"
            ]
          },
          "metadata": {
            "tags": []
          },
          "execution_count": 12
        }
      ]
    },
    {
      "cell_type": "code",
      "metadata": {
        "id": "PBtmgzgS8Nbr",
        "colab_type": "code",
        "colab": {
          "base_uri": "https://localhost:8080/",
          "height": 35
        },
        "outputId": "2983d819-8bad-4c2e-a9bf-33ced4cd3457"
      },
      "source": [
        "list(filter(lambda x: x>avg, data))"
      ],
      "execution_count": 13,
      "outputs": [
        {
          "output_type": "execute_result",
          "data": {
            "text/plain": [
              "[2.7, 4.1, 4.3]"
            ]
          },
          "metadata": {
            "tags": []
          },
          "execution_count": 13
        }
      ]
    },
    {
      "cell_type": "code",
      "metadata": {
        "id": "rwsRophh8TPj",
        "colab_type": "code",
        "colab": {
          "base_uri": "https://localhost:8080/",
          "height": 35
        },
        "outputId": "2b56deba-dbc1-43b4-9d03-50dce85f85d1"
      },
      "source": [
        "list(filter(lambda x: x<avg, data))"
      ],
      "execution_count": 14,
      "outputs": [
        {
          "output_type": "execute_result",
          "data": {
            "text/plain": [
              "[1.3, 0.8, -0.1]"
            ]
          },
          "metadata": {
            "tags": []
          },
          "execution_count": 14
        }
      ]
    },
    {
      "cell_type": "code",
      "metadata": {
        "id": "mf1pIWY58ZQx",
        "colab_type": "code",
        "colab": {}
      },
      "source": [
        "# remove empty data\n",
        "countries = [\"\", \"China\", \"USA\", \"Chile\", \"\", \"\", \"Brazil\"]"
      ],
      "execution_count": 0,
      "outputs": []
    },
    {
      "cell_type": "code",
      "metadata": {
        "id": "YdytHqsJ8mwl",
        "colab_type": "code",
        "colab": {
          "base_uri": "https://localhost:8080/",
          "height": 35
        },
        "outputId": "cb887a8d-666a-4b41-cb30-dc93105042d6"
      },
      "source": [
        "list(filter(None, countries))"
      ],
      "execution_count": 17,
      "outputs": [
        {
          "output_type": "execute_result",
          "data": {
            "text/plain": [
              "['China', 'USA', 'Chile', 'Brazil']"
            ]
          },
          "metadata": {
            "tags": []
          },
          "execution_count": 17
        }
      ]
    },
    {
      "cell_type": "markdown",
      "metadata": {
        "id": "S6BT00359cmQ",
        "colab_type": "text"
      },
      "source": [
        "### reduce"
      ]
    },
    {
      "cell_type": "code",
      "metadata": {
        "id": "ZAGP9KZX8yes",
        "colab_type": "code",
        "colab": {}
      },
      "source": [
        "# data: [a1, a2, a3, ....., an]\n",
        "# function: f(x, y)\n",
        "\n",
        "# reduce(f, data):\n",
        "#    step 1: val1 = f(a1, a2)\n",
        "#    step 2: val2 = f(val1, a3)\n",
        "#    step 3: val3 = f(val2, a4)\n",
        "#    ......\n",
        "#    step n-1: valn-1= f(valn-2, an)\n",
        "# return valn-1"
      ],
      "execution_count": 0,
      "outputs": []
    },
    {
      "cell_type": "code",
      "metadata": {
        "id": "cUCR8Mr_-B83",
        "colab_type": "code",
        "colab": {}
      },
      "source": [
        "from functools import reduce"
      ],
      "execution_count": 0,
      "outputs": []
    },
    {
      "cell_type": "code",
      "metadata": {
        "id": "ZdMypy6H-HbD",
        "colab_type": "code",
        "colab": {}
      },
      "source": [
        "# multiply all numbers in a list\n",
        "\n",
        "data = [2, 3, 5, 7, 11, 13, 17, 19, 23, 29]"
      ],
      "execution_count": 0,
      "outputs": []
    },
    {
      "cell_type": "code",
      "metadata": {
        "id": "-OAmqGMZ-SCD",
        "colab_type": "code",
        "colab": {}
      },
      "source": [
        "multiplier = lambda x, y: x*y"
      ],
      "execution_count": 0,
      "outputs": []
    },
    {
      "cell_type": "code",
      "metadata": {
        "id": "RfD-UCuL-WqD",
        "colab_type": "code",
        "colab": {
          "base_uri": "https://localhost:8080/",
          "height": 35
        },
        "outputId": "9c50d2e0-c53f-4b94-db72-8e2ee544f4fe"
      },
      "source": [
        "reduce(multiplier, data)"
      ],
      "execution_count": 21,
      "outputs": [
        {
          "output_type": "execute_result",
          "data": {
            "text/plain": [
              "6469693230"
            ]
          },
          "metadata": {
            "tags": []
          },
          "execution_count": 21
        }
      ]
    },
    {
      "cell_type": "code",
      "metadata": {
        "id": "R-X4U44p-bZD",
        "colab_type": "code",
        "colab": {
          "base_uri": "https://localhost:8080/",
          "height": 35
        },
        "outputId": "709435a3-46bb-4276-b36c-dea222a933f3"
      },
      "source": [
        "# use for loop instead\n",
        "product = 1\n",
        "for i in data:\n",
        "    product = product * i\n",
        "product"
      ],
      "execution_count": 22,
      "outputs": [
        {
          "output_type": "execute_result",
          "data": {
            "text/plain": [
              "6469693230"
            ]
          },
          "metadata": {
            "tags": []
          },
          "execution_count": 22
        }
      ]
    },
    {
      "cell_type": "code",
      "metadata": {
        "id": "7aBgj4FC-pk7",
        "colab_type": "code",
        "colab": {
          "base_uri": "https://localhost:8080/",
          "height": 35
        },
        "outputId": "9266fe6a-7269-467b-b1b1-7d161ec68b20"
      },
      "source": [
        "# sum\n",
        "sum(data)"
      ],
      "execution_count": 23,
      "outputs": [
        {
          "output_type": "execute_result",
          "data": {
            "text/plain": [
              "129"
            ]
          },
          "metadata": {
            "tags": []
          },
          "execution_count": 23
        }
      ]
    },
    {
      "cell_type": "code",
      "metadata": {
        "id": "q4yj1fpc--AD",
        "colab_type": "code",
        "colab": {
          "base_uri": "https://localhost:8080/",
          "height": 35
        },
        "outputId": "eee32470-84ac-4982-b552-adae3baae86f"
      },
      "source": [
        "# use reduce tosum\n",
        "reduce(lambda x, y:x+y, data)"
      ],
      "execution_count": 24,
      "outputs": [
        {
          "output_type": "execute_result",
          "data": {
            "text/plain": [
              "129"
            ]
          },
          "metadata": {
            "tags": []
          },
          "execution_count": 24
        }
      ]
    },
    {
      "cell_type": "code",
      "metadata": {
        "id": "9BQLARNM_FIj",
        "colab_type": "code",
        "colab": {}
      },
      "source": [
        ""
      ],
      "execution_count": 0,
      "outputs": []
    }
  ]
}