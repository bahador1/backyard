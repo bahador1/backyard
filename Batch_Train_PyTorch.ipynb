{
 "cells": [
  {
   "cell_type": "code",
   "execution_count": 7,
   "metadata": {
    "collapsed": true
   },
   "outputs": [],
   "source": [
    "import torch\n",
    "from torch.autograd import Variable\n",
    "import torch.nn.functional as F\n",
    "import matplotlib.pyplot as plt\n",
    "import torch.utils.data as Data"
   ]
  },
  {
   "cell_type": "code",
   "execution_count": 9,
   "metadata": {},
   "outputs": [
    {
     "name": "stdout",
     "output_type": "stream",
     "text": [
      "Epoch:  0 | Step:  0 | batch x:  [ 1.  2.  3.  4.  5.] | batch y:  [ 10.   9.   8.   7.   6.]\n",
      "Epoch:  0 | Step:  1 | batch x:  [  6.   7.   8.   9.  10.] | batch y:  [ 5.  4.  3.  2.  1.]\n",
      "Epoch:  1 | Step:  0 | batch x:  [ 1.  2.  3.  4.  5.] | batch y:  [ 10.   9.   8.   7.   6.]\n",
      "Epoch:  1 | Step:  1 | batch x:  [  6.   7.   8.   9.  10.] | batch y:  [ 5.  4.  3.  2.  1.]\n",
      "Epoch:  2 | Step:  0 | batch x:  [ 1.  2.  3.  4.  5.] | batch y:  [ 10.   9.   8.   7.   6.]\n",
      "Epoch:  2 | Step:  1 | batch x:  [  6.   7.   8.   9.  10.] | batch y:  [ 5.  4.  3.  2.  1.]\n"
     ]
    }
   ],
   "source": [
    "torch.manual_seed(1)    # reproducible\n",
    "\n",
    "BATCH_SIZE = 5\n",
    "# BATCH_SIZE = 8\n",
    "\n",
    "x = torch.linspace(1, 10, 10)       # this is x data (torch tensor)\n",
    "y = torch.linspace(10, 1, 10)       # this is y data (torch tensor)\n",
    "\n",
    "torch_dataset = Data.TensorDataset(data_tensor=x, target_tensor=y)\n",
    "loader = Data.DataLoader(\n",
    "    dataset=torch_dataset,      # torch TensorDataset format\n",
    "    batch_size=BATCH_SIZE,      # mini batch size\n",
    "    shuffle=False,               # random shuffle for training\n",
    "    num_workers=2,              # subprocesses for loading data\n",
    ")\n",
    "\n",
    "for epoch in range(3):   # train entire dataset 3 times\n",
    "    for step, (batch_x, batch_y) in enumerate(loader):  # for each training step\n",
    "        # train your data...\n",
    "        print('Epoch: ', epoch, '| Step: ', step, '| batch x: ',\n",
    "              batch_x.numpy(), '| batch y: ', batch_y.numpy())"
   ]
  },
  {
   "cell_type": "code",
   "execution_count": null,
   "metadata": {
    "collapsed": true
   },
   "outputs": [],
   "source": []
  }
 ],
 "metadata": {
  "kernelspec": {
   "display_name": "Python 3",
   "language": "python",
   "name": "python3"
  },
  "language_info": {
   "codemirror_mode": {
    "name": "ipython",
    "version": 3
   },
   "file_extension": ".py",
   "mimetype": "text/x-python",
   "name": "python",
   "nbconvert_exporter": "python",
   "pygments_lexer": "ipython3",
   "version": "3.6.1"
  }
 },
 "nbformat": 4,
 "nbformat_minor": 2
}
