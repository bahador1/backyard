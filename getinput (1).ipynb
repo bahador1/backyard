{
 "cells": [
  {
   "cell_type": "code",
   "execution_count": 5,
   "metadata": {},
   "outputs": [],
   "source": [
    "import librosa\n",
    "import math\n",
    "import numpy as np\n",
    "import decimal\n",
    "from scipy.signal import lfilter, butter"
   ]
  },
  {
   "cell_type": "code",
   "execution_count": 6,
   "metadata": {},
   "outputs": [],
   "source": [
    "window   = [0, 1]\n",
    "fs       = 16000\n",
    "Tw       = 25\n",
    "Ts       = 10         \n",
    "alpha    = 0.97\n",
    "R        = []\n",
    "M        = 40\n",
    "C        = []        \n",
    "L        = []    \n",
    "\n",
    "buckets = [100, 200, 300, 400, 500, 600, 700, 800, 900, 1000]"
   ]
  },
  {
   "cell_type": "code",
   "execution_count": 7,
   "metadata": {},
   "outputs": [],
   "source": [
    "def load_wav(filename, sample_rate):\n",
    "    audio, sr = librosa.load(filename, sr=sample_rate, mono=True)\n",
    "    audio = audio.flatten()\n",
    "    return audio"
   ]
  },
  {
   "cell_type": "code",
   "execution_count": 60,
   "metadata": {},
   "outputs": [],
   "source": [
    "def load_wav1(filename, start, end, sample_rate):\n",
    "    audio, sr = librosa.load(filename, sr=sample_rate, mono=True)\n",
    "    audio = audio.flatten()\n",
    "    return audio[start:end]"
   ]
  },
  {
   "cell_type": "code",
   "execution_count": 49,
   "metadata": {},
   "outputs": [],
   "source": [
    "audio = load_wav(\"E:/condaDev/matconvnet/contrib/VGGVox/testfiles/verif/8jEAjG6SegY_0000008.wav\", 16000)"
   ]
  },
  {
   "cell_type": "code",
   "execution_count": 50,
   "metadata": {},
   "outputs": [
    {
     "data": {
      "text/plain": [
       "(108801,)"
      ]
     },
     "execution_count": 50,
     "metadata": {},
     "output_type": "execute_result"
    }
   ],
   "source": [
    "audio.shape"
   ]
  },
  {
   "cell_type": "code",
   "execution_count": 52,
   "metadata": {},
   "outputs": [
    {
     "data": {
      "text/plain": [
       "6.8000625"
      ]
     },
     "execution_count": 52,
     "metadata": {},
     "output_type": "execute_result"
    }
   ],
   "source": [
    "librosa.get_duration(audio, sr=16000)#  get_duration s"
   ]
  },
  {
   "cell_type": "code",
   "execution_count": 10,
   "metadata": {},
   "outputs": [],
   "source": [
    "def nextpow2(x):  \n",
    "    return 1 if x == 0 else 2**(x - 1).bit_length()"
   ]
  },
  {
   "cell_type": "code",
   "execution_count": 11,
   "metadata": {},
   "outputs": [],
   "source": [
    "def hz2mel(hz):\n",
    "    \"\"\"Convert a value in Hertz to Mels\n",
    "    :param hz: a value in Hz. This can also be a numpy array, conversion proceeds element-wise.\n",
    "    :returns: a value in Mels. If an array was passed in, an identical sized array is returned.\n",
    "    https://github.com/jameslyons/python_speech_features/blob/master/python_speech_features/base.py\n",
    "    \"\"\"\n",
    "    #return 2595 * numpy.log10(1+hz/700.)\n",
    "    return 1127 * numpy.log(1+hz/700.)"
   ]
  },
  {
   "cell_type": "code",
   "execution_count": 12,
   "metadata": {},
   "outputs": [],
   "source": [
    "def mel2hz(mel):\n",
    "    \"\"\"Convert a value in Mels to Hertz\n",
    "    :param mel: a value in Mels. This can also be a numpy array, conversion proceeds element-wise.\n",
    "    :returns: a value in Hertz. If an array was passed in, an identical sized array is returned.\n",
    "    \"\"\"\n",
    "    #return 700*(10**(mel/2595.0)-1)\n",
    "    return 700*(exp**(mel/1127.0)-1)"
   ]
  },
  {
   "cell_type": "code",
   "execution_count": 13,
   "metadata": {},
   "outputs": [],
   "source": [
    "def lifter(cepstra, L=22):\n",
    "    \"\"\"Apply a cepstral lifter the the matrix of cepstra. This has the effect of increasing the\n",
    "    magnitude of the high frequency DCT coeffs.\n",
    "    :param cepstra: the matrix of mel-cepstra, will be numframes * numcep in size.\n",
    "    :param L: the liftering coefficient to use. Default is 22. L <= 0 disables lifter.\n",
    "    \"\"\"\n",
    "    if L > 0:\n",
    "        nframes,ncoeff = numpy.shape(cepstra)\n",
    "        n = numpy.arange(ncoeff)\n",
    "        lift = 1 + (L/2.)*numpy.sin(numpy.pi*n/L)\n",
    "        return lift*cepstra\n",
    "    else:\n",
    "        # values of L <= 0, do nothing\n",
    "        return cepstra"
   ]
  },
  {
   "cell_type": "code",
   "execution_count": 14,
   "metadata": {},
   "outputs": [],
   "source": [
    "def remove_dc_and_dither(sin, sample_rate):\n",
    "    if sample_rate == 16e3:\n",
    "        alpha = 0.9900\n",
    "    elif sample_rate == 8e3:\n",
    "        alpha = 0.999\n",
    "    else:\n",
    "        print(\"Sample rate must be 16kHz or 8kHz only\")\n",
    "        exit(1)\n",
    "    sin = lfilter([1, -1], [1, -alpha], sin, axis=0)\n",
    "    dither = np.random.random_sample(len(sin)) + np.random.random_sample(len(sin)) - 1\n",
    "    #dither = np.random.random_sample(sin.shape) + np.random.random_sample(sin.shape) - 1\n",
    "    #spow = np.std(dither)\n",
    "    spow = np.std(sin)  #626.9666984589156\n",
    "    sout = sin + 1e-6 * spow * dither\n",
    "    #print(sin) the same to matlab\n",
    "    #print(dither)\n",
    "    return sout"
   ]
  },
  {
   "cell_type": "code",
   "execution_count": 15,
   "metadata": {},
   "outputs": [],
   "source": [
    "def round_half_up(number):\n",
    "    return int(decimal.Decimal(number).quantize(decimal.Decimal('1'), rounding=decimal.ROUND_HALF_UP))"
   ]
  },
  {
   "cell_type": "code",
   "execution_count": 16,
   "metadata": {},
   "outputs": [],
   "source": [
    "def rolling_window(a, window, step=1):\n",
    "    # http://ellisvalentiner.com/post/2017-03-21-np-strides-trick\n",
    "    shape = a.shape[:-1] + (a.shape[-1] - window + 1, window)\n",
    "    strides = a.strides + (a.strides[-1],)\n",
    "    return np.lib.stride_tricks.as_strided(a, shape=shape, strides=strides)[::step]"
   ]
  },
  {
   "cell_type": "code",
   "execution_count": 17,
   "metadata": {},
   "outputs": [],
   "source": [
    "def framesig(sig, frame_len, frame_step, winfunc=lambda x: np.ones((x,)), stride_trick=True):\n",
    "    \"\"\"Frame a signal into overlapping frames.\n",
    "    :param sig: the audio signal to frame.\n",
    "    :param frame_len: length of each frame measured in samples.\n",
    "    :param frame_step: number of samples after the start of the previous frame that the next frame should begin.\n",
    "    :param winfunc: the analysis window to apply to each frame. By default no window is applied.\n",
    "    :param stride_trick: use stride trick to compute the rolling window and window multiplication faster\n",
    "    :returns: an array of frames. Size is NUMFRAMES by frame_len.\n",
    "    \"\"\"\n",
    "    slen = len(sig)\n",
    "    frame_len = int(round_half_up(frame_len))\n",
    "    frame_step = int(round_half_up(frame_step))\n",
    "    if slen <= frame_len:\n",
    "        numframes = 1\n",
    "    else:\n",
    "        numframes = 1 + int(math.ceil((1.0 * slen - frame_len) / frame_step)) # LV\n",
    "\n",
    "    padlen = int((numframes - 1) * frame_step + frame_len)\n",
    "\n",
    "    zeros = np.zeros((padlen - slen,))\n",
    "    padsignal = np.concatenate((sig, zeros))\n",
    "    if stride_trick:\n",
    "        win = winfunc(frame_len)\n",
    "        frames = rolling_window(padsignal, window=frame_len, step=frame_step)\n",
    "    else:\n",
    "        indices = np.tile(np.arange(0, frame_len), (numframes, 1)) + np.tile(\n",
    "            np.arange(0, numframes * frame_step, frame_step), (frame_len, 1)).T\n",
    "        indices = np.array(indices, dtype=np.int32)\n",
    "        frames = padsignal[indices]\n",
    "        win = np.tile(winfunc(frame_len), (numframes, 1))\n",
    "\n",
    "    return frames * win"
   ]
  },
  {
   "cell_type": "code",
   "execution_count": 18,
   "metadata": {},
   "outputs": [],
   "source": [
    "def runSpec( speech, window, fs,Tw, Ts, alpha, R, M, C, L ):\n",
    "    N = C\n",
    "    hamming = np.hamming\n",
    "    SPEC = mfccspec(speech, fs, Tw, Ts, alpha, hamming, R, M, N, L )\n",
    "    return SPEC"
   ]
  },
  {
   "cell_type": "code",
   "execution_count": 19,
   "metadata": {},
   "outputs": [],
   "source": [
    "def mfccspec( speech, fs, Tw, Ts, alpha, window, R, M, N, L ):\n",
    "    if max(abs(speech))<=1:\n",
    "        speech = speech * 2**15\n",
    "    \n",
    "    Nw = round( 1E-3*Tw*fs ) #400\n",
    "    Ns = round( 1E-3*Ts*fs ) #160\n",
    "    \n",
    "    nfft = 2**nextpow2(Nw)\n",
    "    K = nfft/2+1\n",
    "    speech = remove_dc_and_dither(speech, fs)\n",
    "    #print(speech) #same to matlab\n",
    "    speech = lfilter( [1, -alpha], 1, speech, axis=0 )\n",
    "    #print(speech) #same to matlab\n",
    "    frames = framesig(speech, frame_len=Nw, frame_step=Ns, winfunc=np.hamming)\n",
    "    #print(frames.shape) # 679*400, however, matlab has 400*678\n",
    "    #modify frames\n",
    "    frames = frames[:-1,:]\n",
    "    #print(frames.shape)\n",
    "    #print(frames)\n",
    "    fft = abs(np.fft.fft(frames, n=512))\n",
    "    #print(fft.shape) #(678, 512)\n",
    "    #print(fft) same to matlab, only dim anginst (512, 678)\n",
    "    return fft"
   ]
  },
  {
   "cell_type": "code",
   "execution_count": 20,
   "metadata": {},
   "outputs": [],
   "source": [
    "def normalize_frames(m, epsilon=1e-12):\n",
    "    return np.array([(v - np.mean(v)) / max(np.std(v), epsilon) for v in m])"
   ]
  },
  {
   "cell_type": "code",
   "execution_count": 28,
   "metadata": {},
   "outputs": [],
   "source": [
    "def getinput(image, window, fs,Tw, Ts, alpha, R, M, C, L, buckets):\n",
    "    z = load_wav(image, fs)\n",
    "    #print(z.shape) (108801,)\n",
    "    #rand crop  \n",
    "    SPEC = runSpec(z, window, fs,Tw, Ts, alpha, R, M, C, L)\n",
    "    #print(SPEC.shape) #(678, 512)\n",
    "    fft_norm = normalize_frames(SPEC.T)\n",
    "    #print(fft_norm.shape) #(512, 10879), however, should be (512, 679)\n",
    "    #print(fft_norm) #same, only a litter diff of numic\n",
    "    rsize = max(k for k in buckets if k <= fft_norm.shape[1])\n",
    "    rstart = int((fft_norm.shape[1]-rsize)/2)\n",
    "    #print(rsize, rstart) #same\n",
    "    out = fft_norm[:, rstart-1:rstart+rsize-1] #numpy index from 0, matlab from 1\n",
    "    \n",
    "    return out"
   ]
  },
  {
   "cell_type": "code",
   "execution_count": 202,
   "metadata": {},
   "outputs": [],
   "source": [
    "def getinput1(image):\n",
    "    #z = load_wav(image, fs)\n",
    "    \n",
    "    tmp         = load_wav(image, fs)\n",
    "    secs        = round(len(tmp) / fs)\n",
    "    if secs>3:\n",
    "        start       = np.random.randint(1, secs - 2)\n",
    "        edn         = start + 4*fs\n",
    "        z           = load_wav1(image, start, edn, fs)\n",
    "    else:\n",
    "        z = tmp\n",
    "    \n",
    "    #print(z.shape) (108801,)\n",
    "    SPEC = runSpec(z, window, fs,Tw, Ts, alpha, R, M, C, L)\n",
    "    #print(SPEC.shape) (10879, 512), however, should be (512, 679)\n",
    "    fft_norm = normalize_frames(SPEC.T)\n",
    "    #print(fft_norm.shape) (512, 10879), however, should be (512, 679)\n",
    "    rsize = max(k for k in buckets if k <= fft_norm.shape[1])\n",
    "    rstart = int((fft_norm.shape[1]-rsize)/2)\n",
    "    out = fft_norm[:, rstart-1:rstart+rsize-1]\n",
    "    \n",
    "    return out"
   ]
  },
  {
   "cell_type": "code",
   "execution_count": 29,
   "metadata": {},
   "outputs": [
    {
     "name": "stderr",
     "output_type": "stream",
     "text": [
      "C:\\Users\\Max\\AppData\\Roaming\\Python\\Python36\\site-packages\\scipy\\signal\\signaltools.py:1344: FutureWarning: Using a non-tuple sequence for multidimensional indexing is deprecated; use `arr[tuple(seq)]` instead of `arr[seq]`. In the future this will be interpreted as an array index, `arr[np.array(seq)]`, which will result either in an error or a different result.\n",
      "  out = out_full[ind]\n"
     ]
    }
   ],
   "source": [
    "dpath = \"E:/condaDev/matconvnet/contrib/VGGVox/testfiles/verif/8jEAjG6SegY_0000008.wav\" #6s\n",
    "out = getinput(dpath, window, fs,Tw, Ts, alpha, R, M, C, L, buckets) #(512, 600)"
   ]
  },
  {
   "cell_type": "code",
   "execution_count": 30,
   "metadata": {},
   "outputs": [
    {
     "data": {
      "text/plain": [
       "array([[ 0.44108236, -0.8016216 , -1.02536772, ..., -0.94148977,\n",
       "         1.26221851,  0.70205146],\n",
       "       [ 0.55967609,  0.18363559, -0.04929088, ..., -0.07682288,\n",
       "        -0.04769165,  0.90833958],\n",
       "       [ 1.18025216, -1.6052382 , -0.51399049, ...,  0.53235141,\n",
       "         0.72272994,  1.68329833],\n",
       "       ...,\n",
       "       [ 0.3717399 , -1.34228945, -0.16782582, ...,  0.007528  ,\n",
       "        -0.40360683,  1.0304803 ],\n",
       "       [ 1.18025216, -1.6052382 , -0.51399049, ...,  0.53235141,\n",
       "         0.72272994,  1.68329833],\n",
       "       [ 0.55967609,  0.18363559, -0.04929088, ..., -0.07682288,\n",
       "        -0.04769165,  0.90833958]])"
      ]
     },
     "execution_count": 30,
     "metadata": {},
     "output_type": "execute_result"
    }
   ],
   "source": [
    "out"
   ]
  },
  {
   "cell_type": "code",
   "execution_count": 31,
   "metadata": {},
   "outputs": [
    {
     "data": {
      "text/plain": [
       "(512, 600)"
      ]
     },
     "execution_count": 31,
     "metadata": {},
     "output_type": "execute_result"
    }
   ],
   "source": [
    "out.shape"
   ]
  },
  {
   "cell_type": "code",
   "execution_count": 101,
   "metadata": {},
   "outputs": [
    {
     "name": "stderr",
     "output_type": "stream",
     "text": [
      "C:\\Users\\Max\\AppData\\Roaming\\Python\\Python36\\site-packages\\scipy\\signal\\signaltools.py:1344: FutureWarning: Using a non-tuple sequence for multidimensional indexing is deprecated; use `arr[tuple(seq)]` instead of `arr[seq]`. In the future this will be interpreted as an array index, `arr[np.array(seq)]`, which will result either in an error or a different result.\n",
      "  out = out_full[ind]\n"
     ]
    }
   ],
   "source": [
    "dpath = \"00017.m4a\" #9s\n",
    "out = getinput(dpath, window, fs,Tw, Ts, alpha, R, M, C, L, buckets) #(512, 900)"
   ]
  },
  {
   "cell_type": "code",
   "execution_count": 33,
   "metadata": {},
   "outputs": [
    {
     "data": {
      "text/plain": [
       "array([[-0.783403  , -0.51954836, -0.58191498, ...,  0.79765069,\n",
       "        -0.39024087, -0.64948959],\n",
       "       [-0.75805685, -0.18497139, -0.84595793, ..., -0.22836417,\n",
       "        -1.02695199, -0.59022806],\n",
       "       [-0.9739787 , -1.11904487, -0.49457537, ..., -1.35856473,\n",
       "        -1.13780135, -1.20666339],\n",
       "       ...,\n",
       "       [-1.13067814, -0.92721171, -0.55173385, ..., -1.33499884,\n",
       "        -1.1755232 , -0.895696  ],\n",
       "       [-0.9739787 , -1.11904487, -0.49457537, ..., -1.35856473,\n",
       "        -1.13780135, -1.20666339],\n",
       "       [-0.75805685, -0.18497139, -0.84595793, ..., -0.22836417,\n",
       "        -1.02695199, -0.59022806]])"
      ]
     },
     "execution_count": 33,
     "metadata": {},
     "output_type": "execute_result"
    }
   ],
   "source": [
    "out"
   ]
  },
  {
   "cell_type": "code",
   "execution_count": 34,
   "metadata": {},
   "outputs": [
    {
     "data": {
      "text/plain": [
       "(512, 900)"
      ]
     },
     "execution_count": 34,
     "metadata": {},
     "output_type": "execute_result"
    }
   ],
   "source": [
    "out.shape"
   ]
  },
  {
   "cell_type": "code",
   "execution_count": 58,
   "metadata": {},
   "outputs": [],
   "source": [
    "import keras\n",
    "y = [2,3,4,6,7]\n",
    "l = keras.utils.to_categorical(y, num_classes=8)"
   ]
  },
  {
   "cell_type": "code",
   "execution_count": 59,
   "metadata": {},
   "outputs": [
    {
     "data": {
      "text/plain": [
       "array([[0., 0., 1., 0., 0., 0., 0., 0.],\n",
       "       [0., 0., 0., 1., 0., 0., 0., 0.],\n",
       "       [0., 0., 0., 0., 1., 0., 0., 0.],\n",
       "       [0., 0., 0., 0., 0., 0., 1., 0.],\n",
       "       [0., 0., 0., 0., 0., 0., 0., 1.]], dtype=float32)"
      ]
     },
     "execution_count": 59,
     "metadata": {},
     "output_type": "execute_result"
    }
   ],
   "source": [
    "l"
   ]
  },
  {
   "cell_type": "code",
   "execution_count": 61,
   "metadata": {},
   "outputs": [
    {
     "data": {
      "text/plain": [
       "'00017.m4a'"
      ]
     },
     "execution_count": 61,
     "metadata": {},
     "output_type": "execute_result"
    }
   ],
   "source": [
    "dpath"
   ]
  },
  {
   "cell_type": "code",
   "execution_count": 64,
   "metadata": {},
   "outputs": [
    {
     "name": "stderr",
     "output_type": "stream",
     "text": [
      "C:\\Users\\Max\\AppData\\Roaming\\Python\\Python36\\site-packages\\scipy\\signal\\signaltools.py:1344: FutureWarning: Using a non-tuple sequence for multidimensional indexing is deprecated; use `arr[tuple(seq)]` instead of `arr[seq]`. In the future this will be interpreted as an array index, `arr[np.array(seq)]`, which will result either in an error or a different result.\n",
      "  out = out_full[ind]\n"
     ]
    }
   ],
   "source": [
    "out = getinput1(dpath)"
   ]
  },
  {
   "cell_type": "code",
   "execution_count": 66,
   "metadata": {},
   "outputs": [
    {
     "data": {
      "text/plain": [
       "(512, 300)"
      ]
     },
     "execution_count": 66,
     "metadata": {},
     "output_type": "execute_result"
    }
   ],
   "source": [
    "out.shape"
   ]
  },
  {
   "cell_type": "code",
   "execution_count": 200,
   "metadata": {},
   "outputs": [],
   "source": [
    "def inputt(image):\n",
    "    \n",
    "    tmp         = load_wav(image, fs)\n",
    "    secs        = round(librosa.get_duration(tmp, fs))\n",
    "    if secs>3:\n",
    "        start       = np.random.randint(1, secs - 2)\n",
    "        edn         = start + 3*fs + 300\n",
    "        #z           = load_wav1(image, start, edn, fs)\n",
    "        z          = tmp[start:edn]\n",
    "    else:\n",
    "        z = tmp\n",
    "    SPEC = runSpec(z, window, fs,Tw, Ts, alpha, R, M, C, L)\n",
    "    fft_norm = normalize_frames(SPEC.T)\n",
    "    #rsize = max(k for k in buckets if k <= fft_norm.shape[1])\n",
    "    #rstart = int((fft_norm.shape[1]-rsize)/2)\n",
    "    #out = fft_norm[:, rstart-1:rstart+rsize-1]\n",
    "    out = fft_norm\n",
    "    \n",
    "    return out"
   ]
  },
  {
   "cell_type": "code",
   "execution_count": 203,
   "metadata": {},
   "outputs": [
    {
     "name": "stdout",
     "output_type": "stream",
     "text": [
      "Time used: 0.5682828002263705\n"
     ]
    },
    {
     "name": "stderr",
     "output_type": "stream",
     "text": [
      "C:\\Users\\Max\\AppData\\Roaming\\Python\\Python36\\site-packages\\scipy\\signal\\signaltools.py:1344: FutureWarning: Using a non-tuple sequence for multidimensional indexing is deprecated; use `arr[tuple(seq)]` instead of `arr[seq]`. In the future this will be interpreted as an array index, `arr[np.array(seq)]`, which will result either in an error or a different result.\n",
      "  out = out_full[ind]\n"
     ]
    }
   ],
   "source": [
    "import time\n",
    " \n",
    "start = time.clock()\n",
    "\n",
    "out = getinput1(dpath)\n",
    "#print(round(len(load_wav(dpath, 16000)) / 16000))\n",
    "\n",
    "\n",
    "elapsed = (time.clock() - start)\n",
    "print(\"Time used:\",elapsed)"
   ]
  },
  {
   "cell_type": "code",
   "execution_count": 204,
   "metadata": {},
   "outputs": [
    {
     "name": "stdout",
     "output_type": "stream",
     "text": [
      "Time used: 0.1341517119008131\n"
     ]
    },
    {
     "name": "stderr",
     "output_type": "stream",
     "text": [
      "C:\\Users\\Max\\AppData\\Roaming\\Python\\Python36\\site-packages\\scipy\\signal\\signaltools.py:1344: FutureWarning: Using a non-tuple sequence for multidimensional indexing is deprecated; use `arr[tuple(seq)]` instead of `arr[seq]`. In the future this will be interpreted as an array index, `arr[np.array(seq)]`, which will result either in an error or a different result.\n",
      "  out = out_full[ind]\n"
     ]
    }
   ],
   "source": [
    "import time\n",
    " \n",
    "start = time.clock()\n",
    "\n",
    "#print(round(librosa.get_duration(load_wav(dpath, 16000), 16000)))\n",
    "#out = getinput(dpath,window, fs,Tw, Ts, alpha, R, M, C, L, buckets)\n",
    "out = inputt(dpath)\n",
    "\n",
    "elapsed = (time.clock() - start)\n",
    "print(\"Time used:\",elapsed)"
   ]
  },
  {
   "cell_type": "code",
   "execution_count": 122,
   "metadata": {},
   "outputs": [],
   "source": [
    "tmp         = load_wav(dpath, fs)"
   ]
  },
  {
   "cell_type": "code",
   "execution_count": 123,
   "metadata": {},
   "outputs": [
    {
     "data": {
      "text/plain": [
       "(151552,)"
      ]
     },
     "execution_count": 123,
     "metadata": {},
     "output_type": "execute_result"
    }
   ],
   "source": [
    "tmp.shape"
   ]
  },
  {
   "cell_type": "code",
   "execution_count": 124,
   "metadata": {},
   "outputs": [
    {
     "data": {
      "text/plain": [
       "9.472"
      ]
     },
     "execution_count": 124,
     "metadata": {},
     "output_type": "execute_result"
    }
   ],
   "source": [
    "librosa.get_duration(tmp, fs)"
   ]
  },
  {
   "cell_type": "code",
   "execution_count": 125,
   "metadata": {},
   "outputs": [
    {
     "data": {
      "text/plain": [
       "9.472"
      ]
     },
     "execution_count": 125,
     "metadata": {},
     "output_type": "execute_result"
    }
   ],
   "source": [
    "151552/fs"
   ]
  },
  {
   "cell_type": "code",
   "execution_count": 131,
   "metadata": {},
   "outputs": [
    {
     "data": {
      "text/plain": [
       "2"
      ]
     },
     "execution_count": 131,
     "metadata": {},
     "output_type": "execute_result"
    }
   ],
   "source": [
    "np.random.randint(1, 7)"
   ]
  },
  {
   "cell_type": "code",
   "execution_count": 188,
   "metadata": {},
   "outputs": [],
   "source": [
    "t = load_wav1(dpath, 2, 3*fs+300, fs)"
   ]
  },
  {
   "cell_type": "code",
   "execution_count": 189,
   "metadata": {},
   "outputs": [
    {
     "data": {
      "text/plain": [
       "48298"
      ]
     },
     "execution_count": 189,
     "metadata": {},
     "output_type": "execute_result"
    }
   ],
   "source": [
    "len(t)"
   ]
  },
  {
   "cell_type": "code",
   "execution_count": 190,
   "metadata": {},
   "outputs": [
    {
     "data": {
      "text/plain": [
       "3.018625"
      ]
     },
     "execution_count": 190,
     "metadata": {},
     "output_type": "execute_result"
    }
   ],
   "source": [
    "len(t)/fs"
   ]
  },
  {
   "cell_type": "code",
   "execution_count": 191,
   "metadata": {},
   "outputs": [
    {
     "name": "stderr",
     "output_type": "stream",
     "text": [
      "C:\\Users\\Max\\AppData\\Roaming\\Python\\Python36\\site-packages\\scipy\\signal\\signaltools.py:1344: FutureWarning: Using a non-tuple sequence for multidimensional indexing is deprecated; use `arr[tuple(seq)]` instead of `arr[seq]`. In the future this will be interpreted as an array index, `arr[np.array(seq)]`, which will result either in an error or a different result.\n",
      "  out = out_full[ind]\n"
     ]
    }
   ],
   "source": [
    "SPEC = runSpec(t, window, fs,Tw, Ts, alpha, R, M, C, L)"
   ]
  },
  {
   "cell_type": "code",
   "execution_count": 192,
   "metadata": {},
   "outputs": [
    {
     "data": {
      "text/plain": [
       "(300, 512)"
      ]
     },
     "execution_count": 192,
     "metadata": {},
     "output_type": "execute_result"
    }
   ],
   "source": [
    "SPEC.shape"
   ]
  },
  {
   "cell_type": "code",
   "execution_count": 155,
   "metadata": {},
   "outputs": [],
   "source": [
    "fft_norm = normalize_frames(SPEC.T)"
   ]
  },
  {
   "cell_type": "code",
   "execution_count": 156,
   "metadata": {},
   "outputs": [
    {
     "data": {
      "text/plain": [
       "(512, 298)"
      ]
     },
     "execution_count": 156,
     "metadata": {},
     "output_type": "execute_result"
    }
   ],
   "source": [
    "fft_norm.shape"
   ]
  },
  {
   "cell_type": "code",
   "execution_count": 208,
   "metadata": {},
   "outputs": [
    {
     "data": {
      "text/plain": [
       "(298, 512)"
      ]
     },
     "execution_count": 208,
     "metadata": {},
     "output_type": "execute_result"
    }
   ],
   "source": [
    "fft_norm.transpose().shape"
   ]
  },
  {
   "cell_type": "code",
   "execution_count": 6,
   "metadata": {},
   "outputs": [],
   "source": [
    "import numpy as np"
   ]
  },
  {
   "cell_type": "code",
   "execution_count": 28,
   "metadata": {},
   "outputs": [],
   "source": [
    "t = {'a':1,'b':3,'c':2,'d':3,'e':8,'f':6}"
   ]
  },
  {
   "cell_type": "code",
   "execution_count": 2,
   "metadata": {},
   "outputs": [],
   "source": [
    "tt = t.values()"
   ]
  },
  {
   "cell_type": "code",
   "execution_count": 7,
   "metadata": {},
   "outputs": [
    {
     "data": {
      "text/plain": [
       "dict_values([1, 3, 2, 3, 8, 6])"
      ]
     },
     "execution_count": 7,
     "metadata": {},
     "output_type": "execute_result"
    }
   ],
   "source": [
    "tt"
   ]
  },
  {
   "cell_type": "code",
   "execution_count": 8,
   "metadata": {},
   "outputs": [],
   "source": [
    "tl =np.array(list(tt))"
   ]
  },
  {
   "cell_type": "code",
   "execution_count": 9,
   "metadata": {},
   "outputs": [
    {
     "data": {
      "text/plain": [
       "array([1, 3, 2, 3, 8, 6])"
      ]
     },
     "execution_count": 9,
     "metadata": {},
     "output_type": "execute_result"
    }
   ],
   "source": [
    "tl"
   ]
  },
  {
   "cell_type": "code",
   "execution_count": 14,
   "metadata": {},
   "outputs": [],
   "source": [
    "index = np.where(tl == tu[2])"
   ]
  },
  {
   "cell_type": "code",
   "execution_count": 15,
   "metadata": {},
   "outputs": [
    {
     "data": {
      "text/plain": [
       "(array([1, 3]),)"
      ]
     },
     "execution_count": 15,
     "metadata": {},
     "output_type": "execute_result"
    }
   ],
   "source": [
    "index"
   ]
  },
  {
   "cell_type": "code",
   "execution_count": 16,
   "metadata": {},
   "outputs": [],
   "source": [
    "tl[index] = 2"
   ]
  },
  {
   "cell_type": "code",
   "execution_count": 17,
   "metadata": {},
   "outputs": [
    {
     "data": {
      "text/plain": [
       "array([1, 2, 2, 2, 8, 6])"
      ]
     },
     "execution_count": 17,
     "metadata": {},
     "output_type": "execute_result"
    }
   ],
   "source": [
    "tl"
   ]
  },
  {
   "cell_type": "code",
   "execution_count": 366,
   "metadata": {},
   "outputs": [],
   "source": [
    "tl.sort()"
   ]
  },
  {
   "cell_type": "code",
   "execution_count": 11,
   "metadata": {},
   "outputs": [
    {
     "data": {
      "text/plain": [
       "array([1, 3, 2, 3, 8, 6])"
      ]
     },
     "execution_count": 11,
     "metadata": {},
     "output_type": "execute_result"
    }
   ],
   "source": [
    "tl"
   ]
  },
  {
   "cell_type": "code",
   "execution_count": 19,
   "metadata": {},
   "outputs": [],
   "source": [
    "tu = np.unique(tl)"
   ]
  },
  {
   "cell_type": "code",
   "execution_count": 20,
   "metadata": {},
   "outputs": [
    {
     "data": {
      "text/plain": [
       "array([1, 2, 6, 8])"
      ]
     },
     "execution_count": 20,
     "metadata": {},
     "output_type": "execute_result"
    }
   ],
   "source": [
    "tu"
   ]
  },
  {
   "cell_type": "code",
   "execution_count": null,
   "metadata": {},
   "outputs": [],
   "source": [
    "def process_labels(labels):\n",
    "    # labels processing, relabel the labels from min to max\n",
    "    labels_values = list(labels.values())\n",
    "    List_of_unique_labels = np.unique(labels_values)\n",
    "    List_of_unique_labels.sort()\n",
    "    \n",
    "    new_labels = labels.copy()\n",
    "    for i in range(len(labels_values)):\n",
    "        index = np.where(List_of_unique_labels == labels_values[i])\n",
    "        for k, v in labels.items():\n",
    "            if v == labels_values[i]:\n",
    "                new_labels[k] = index\n",
    "    \n",
    "    np.testing.assert_array_equal(len(List_of_unique_labels), int(max(list(new_labels.values()))[0])+1) #checking\n",
    "                \n",
    "    return new_labels"
   ]
  },
  {
   "cell_type": "code",
   "execution_count": 47,
   "metadata": {},
   "outputs": [],
   "source": [
    "def process_labels1(labels):\n",
    "    # labels processing, relabel the labels from min to max\n",
    "    labels_values = np.array(list(labels.values()))\n",
    "    List_of_unique_labels = np.unique(labels_values)\n",
    "    List_of_unique_labels.sort()\n",
    "    \n",
    "    new_label_vals = labels_values.copy()\n",
    "    for i in range(len(List_of_unique_labels)):\n",
    "        index = np.where(new_label_vals == List_of_unique_labels[i])\n",
    "        new_label_vals[index] = i\n",
    "        \n",
    "    new_labels = dict(zip(labels.keys(), new_label_vals))\n",
    "    #print(max(list(new_labels.values())))\n",
    "    np.testing.assert_array_equal(len(List_of_unique_labels), int(max(list(new_labels.values())))+1)\n",
    "                \n",
    "    return new_labels"
   ]
  },
  {
   "cell_type": "code",
   "execution_count": 48,
   "metadata": {},
   "outputs": [
    {
     "data": {
      "text/plain": [
       "{'a': 0, 'b': 2, 'c': 1, 'd': 2, 'e': 4, 'f': 3}"
      ]
     },
     "execution_count": 48,
     "metadata": {},
     "output_type": "execute_result"
    }
   ],
   "source": [
    "res = process_labels1(t)\n",
    "res"
   ]
  },
  {
   "cell_type": "code",
   "execution_count": 21,
   "metadata": {},
   "outputs": [
    {
     "data": {
      "text/plain": [
       "dict_keys(['a', 'b', 'c', 'd', 'e', 'f'])"
      ]
     },
     "execution_count": 21,
     "metadata": {},
     "output_type": "execute_result"
    }
   ],
   "source": [
    "t.keys()"
   ]
  },
  {
   "cell_type": "code",
   "execution_count": 25,
   "metadata": {},
   "outputs": [],
   "source": [
    "dictionary = dict(zip(t.keys(), res))"
   ]
  },
  {
   "cell_type": "code",
   "execution_count": 26,
   "metadata": {},
   "outputs": [
    {
     "data": {
      "text/plain": [
       "{'a': 0, 'b': 2, 'c': 1, 'd': 2, 'e': 4, 'f': 3}"
      ]
     },
     "execution_count": 26,
     "metadata": {},
     "output_type": "execute_result"
    }
   ],
   "source": [
    "dictionary"
   ]
  },
  {
   "cell_type": "code",
   "execution_count": 317,
   "metadata": {},
   "outputs": [],
   "source": [
    "fw = open(\"test.txt\",'w+')\n",
    "fw.write(str(t))     \n",
    "fw.close()"
   ]
  },
  {
   "cell_type": "code",
   "execution_count": 318,
   "metadata": {},
   "outputs": [
    {
     "name": "stdout",
     "output_type": "stream",
     "text": [
      "{'a': 1, 'b': 3, 'c': 2, 'd': 3, 'e': 8, 'f': 6}\n"
     ]
    }
   ],
   "source": [
    "fr = open(\"test.txt\",'r+')\n",
    "dic = eval(fr.read()) \n",
    "print(dic)\n",
    "fr.close()"
   ]
  },
  {
   "cell_type": "code",
   "execution_count": null,
   "metadata": {},
   "outputs": [],
   "source": []
  }
 ],
 "metadata": {
  "kernelspec": {
   "display_name": "Python 3",
   "language": "python",
   "name": "python3"
  },
  "language_info": {
   "codemirror_mode": {
    "name": "ipython",
    "version": 3
   },
   "file_extension": ".py",
   "mimetype": "text/x-python",
   "name": "python",
   "nbconvert_exporter": "python",
   "pygments_lexer": "ipython3",
   "version": "3.6.5"
  }
 },
 "nbformat": 4,
 "nbformat_minor": 2
}
