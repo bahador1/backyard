{
  "nbformat": 4,
  "nbformat_minor": 0,
  "metadata": {
    "colab": {
      "name": "lamdba.ipynb",
      "version": "0.3.2",
      "provenance": [],
      "collapsed_sections": []
    },
    "kernelspec": {
      "name": "python3",
      "display_name": "Python 3"
    }
  },
  "cells": [
    {
      "cell_type": "markdown",
      "metadata": {
        "id": "YYIojfRG5YhE",
        "colab_type": "text"
      },
      "source": [
        "# lamdba function\n",
        "### https://www.youtube.com/watch?v=25ovCm9jKfA"
      ]
    },
    {
      "cell_type": "code",
      "metadata": {
        "id": "fUMC6M_W5UDq",
        "colab_type": "code",
        "colab": {}
      },
      "source": [
        "# normal function\n",
        "\n",
        "def f(x):\n",
        "    return x*3 + 1"
      ],
      "execution_count": 0,
      "outputs": []
    },
    {
      "cell_type": "code",
      "metadata": {
        "id": "MyR-b30x5l7A",
        "colab_type": "code",
        "colab": {
          "base_uri": "https://localhost:8080/",
          "height": 35
        },
        "outputId": "7d4fbd16-cb12-4569-9892-587b599ab94e"
      },
      "source": [
        "f(2)"
      ],
      "execution_count": 2,
      "outputs": [
        {
          "output_type": "execute_result",
          "data": {
            "text/plain": [
              "7"
            ]
          },
          "metadata": {
            "tags": []
          },
          "execution_count": 2
        }
      ]
    },
    {
      "cell_type": "code",
      "metadata": {
        "id": "4oke2_Iz5nu_",
        "colab_type": "code",
        "colab": {
          "base_uri": "https://localhost:8080/",
          "height": 35
        },
        "outputId": "01c0750c-8e0a-44e0-d7a9-a51c5f6106b5"
      },
      "source": [
        "# lamdba\n",
        "\n",
        "lambda x: x*3 + 1"
      ],
      "execution_count": 3,
      "outputs": [
        {
          "output_type": "execute_result",
          "data": {
            "text/plain": [
              "<function __main__.<lambda>>"
            ]
          },
          "metadata": {
            "tags": []
          },
          "execution_count": 3
        }
      ]
    },
    {
      "cell_type": "code",
      "metadata": {
        "id": "uC0rU3Zd5uIP",
        "colab_type": "code",
        "colab": {}
      },
      "source": [
        "g = lambda x: x*3 + 1"
      ],
      "execution_count": 0,
      "outputs": []
    },
    {
      "cell_type": "code",
      "metadata": {
        "id": "wKo4d6yL502H",
        "colab_type": "code",
        "colab": {
          "base_uri": "https://localhost:8080/",
          "height": 35
        },
        "outputId": "0158c59a-e367-481c-b2d6-c3e0fc3cdce3"
      },
      "source": [
        "g(2)"
      ],
      "execution_count": 5,
      "outputs": [
        {
          "output_type": "execute_result",
          "data": {
            "text/plain": [
              "7"
            ]
          },
          "metadata": {
            "tags": []
          },
          "execution_count": 5
        }
      ]
    },
    {
      "cell_type": "code",
      "metadata": {
        "id": "f_robgsv51on",
        "colab_type": "code",
        "colab": {}
      },
      "source": [
        "full_name = lambda fn, ln: fn.strip().title() + \" \" + ln.strip().title()"
      ],
      "execution_count": 0,
      "outputs": []
    },
    {
      "cell_type": "code",
      "metadata": {
        "id": "iiu_LzyR6GT2",
        "colab_type": "code",
        "colab": {
          "base_uri": "https://localhost:8080/",
          "height": 35
        },
        "outputId": "5ce6ebd5-ca56-4d40-e09b-a13cfa47e778"
      },
      "source": [
        "full_name(\" leonhard\", \"EULER\")"
      ],
      "execution_count": 7,
      "outputs": [
        {
          "output_type": "execute_result",
          "data": {
            "text/plain": [
              "'Leonhard Euler'"
            ]
          },
          "metadata": {
            "tags": []
          },
          "execution_count": 7
        }
      ]
    },
    {
      "cell_type": "code",
      "metadata": {
        "id": "AMbcYkFU6LsP",
        "colab_type": "code",
        "colab": {}
      },
      "source": [
        "scifi_authors = [\"Isca Aff\", \"Rafs Rfa\", \"Rkjk Ga\", \"Af Cgr\", \"Ofe Caf\", \"Df Afg\"]"
      ],
      "execution_count": 0,
      "outputs": []
    },
    {
      "cell_type": "code",
      "metadata": {
        "id": "8sHYeZLq6g3S",
        "colab_type": "code",
        "colab": {
          "base_uri": "https://localhost:8080/",
          "height": 107
        },
        "outputId": "e3ea1c44-3ac7-4df3-c5c2-3863c74307f2"
      },
      "source": [
        "help(scifi_authors.sort)"
      ],
      "execution_count": 9,
      "outputs": [
        {
          "output_type": "stream",
          "text": [
            "Help on built-in function sort:\n",
            "\n",
            "sort(...) method of builtins.list instance\n",
            "    L.sort(key=None, reverse=False) -> None -- stable sort *IN PLACE*\n",
            "\n"
          ],
          "name": "stdout"
        }
      ]
    },
    {
      "cell_type": "code",
      "metadata": {
        "id": "zZ0qxVYj6jHn",
        "colab_type": "code",
        "colab": {}
      },
      "source": [
        "scifi_authors.sort(key=lambda name: name.split(\" \")[-1].lower())"
      ],
      "execution_count": 0,
      "outputs": []
    },
    {
      "cell_type": "code",
      "metadata": {
        "id": "GOOR0LF56sim",
        "colab_type": "code",
        "colab": {
          "base_uri": "https://localhost:8080/",
          "height": 35
        },
        "outputId": "984355b3-a92f-4a03-d0a1-745dc7eb5d7d"
      },
      "source": [
        "scifi_authors"
      ],
      "execution_count": 11,
      "outputs": [
        {
          "output_type": "execute_result",
          "data": {
            "text/plain": [
              "['Isca Aff', 'Df Afg', 'Ofe Caf', 'Af Cgr', 'Rkjk Ga', 'Rafs Rfa']"
            ]
          },
          "metadata": {
            "tags": []
          },
          "execution_count": 11
        }
      ]
    },
    {
      "cell_type": "code",
      "metadata": {
        "id": "8Cbo6HNV6wQ6",
        "colab_type": "code",
        "colab": {}
      },
      "source": [
        "# make fun make funs\n",
        "\n",
        "def buildf(a, b, c):\n",
        "    return lambda x: a*x**2 + b*x + c"
      ],
      "execution_count": 0,
      "outputs": []
    },
    {
      "cell_type": "code",
      "metadata": {
        "id": "jjeXPoMs67BG",
        "colab_type": "code",
        "colab": {}
      },
      "source": [
        "f = buildf(2, 3, -5)"
      ],
      "execution_count": 0,
      "outputs": []
    },
    {
      "cell_type": "code",
      "metadata": {
        "id": "oWCSi0Th7DXO",
        "colab_type": "code",
        "colab": {
          "base_uri": "https://localhost:8080/",
          "height": 35
        },
        "outputId": "d2f7fe9c-7e60-4bb0-a083-cddae32dc6b4"
      },
      "source": [
        "f(0)"
      ],
      "execution_count": 16,
      "outputs": [
        {
          "output_type": "execute_result",
          "data": {
            "text/plain": [
              "-5"
            ]
          },
          "metadata": {
            "tags": []
          },
          "execution_count": 16
        }
      ]
    },
    {
      "cell_type": "code",
      "metadata": {
        "id": "EAxnwcsl7EOW",
        "colab_type": "code",
        "colab": {
          "base_uri": "https://localhost:8080/",
          "height": 35
        },
        "outputId": "15eb0090-4158-495c-8272-06cb7e7a1229"
      },
      "source": [
        "f(1)"
      ],
      "execution_count": 17,
      "outputs": [
        {
          "output_type": "execute_result",
          "data": {
            "text/plain": [
              "0"
            ]
          },
          "metadata": {
            "tags": []
          },
          "execution_count": 17
        }
      ]
    },
    {
      "cell_type": "code",
      "metadata": {
        "id": "WYtowoiU7FCW",
        "colab_type": "code",
        "colab": {
          "base_uri": "https://localhost:8080/",
          "height": 35
        },
        "outputId": "86a8643f-de92-4b8e-8494-4990be513727"
      },
      "source": [
        "f(2)"
      ],
      "execution_count": 18,
      "outputs": [
        {
          "output_type": "execute_result",
          "data": {
            "text/plain": [
              "9"
            ]
          },
          "metadata": {
            "tags": []
          },
          "execution_count": 18
        }
      ]
    },
    {
      "cell_type": "code",
      "metadata": {
        "id": "97e0AsK_7F_e",
        "colab_type": "code",
        "colab": {
          "base_uri": "https://localhost:8080/",
          "height": 35
        },
        "outputId": "5d2028d5-16f0-451b-9793-67a2fc3c857e"
      },
      "source": [
        "# also\n",
        "\n",
        "buildf(3, 0, 1)(2)"
      ],
      "execution_count": 19,
      "outputs": [
        {
          "output_type": "execute_result",
          "data": {
            "text/plain": [
              "13"
            ]
          },
          "metadata": {
            "tags": []
          },
          "execution_count": 19
        }
      ]
    },
    {
      "cell_type": "code",
      "metadata": {
        "id": "WMK81bBz7Mrm",
        "colab_type": "code",
        "colab": {}
      },
      "source": [
        ""
      ],
      "execution_count": 0,
      "outputs": []
    }
  ]
}