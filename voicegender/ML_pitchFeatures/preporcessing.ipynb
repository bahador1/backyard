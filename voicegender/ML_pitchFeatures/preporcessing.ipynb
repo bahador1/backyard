{
 "cells": [
  {
   "cell_type": "code",
   "execution_count": 2,
   "metadata": {},
   "outputs": [],
   "source": [
    "import librosa\n",
    "import os\n",
    "from scipy.io.wavfile import read"
   ]
  },
  {
   "cell_type": "code",
   "execution_count": 7,
   "metadata": {},
   "outputs": [],
   "source": [
    "sr,audio = read('E:/data/speakergender/dataset/vad/train/c/_20171217171050574662.wav')"
   ]
  },
  {
   "cell_type": "code",
   "execution_count": 8,
   "metadata": {},
   "outputs": [
    {
     "data": {
      "text/plain": [
       "16000"
      ]
     },
     "execution_count": 8,
     "metadata": {},
     "output_type": "execute_result"
    }
   ],
   "source": [
    "sr"
   ]
  },
  {
   "cell_type": "code",
   "execution_count": 9,
   "metadata": {},
   "outputs": [
    {
     "data": {
      "text/plain": [
       "array([-752, -684, -568, ...,  328,  408,  320], dtype=int16)"
      ]
     },
     "execution_count": 9,
     "metadata": {},
     "output_type": "execute_result"
    }
   ],
   "source": [
    "audio"
   ]
  },
  {
   "cell_type": "code",
   "execution_count": 21,
   "metadata": {},
   "outputs": [
    {
     "data": {
      "text/plain": [
       "30240"
      ]
     },
     "execution_count": 21,
     "metadata": {},
     "output_type": "execute_result"
    }
   ],
   "source": [
    "len(audio)"
   ]
  },
  {
   "cell_type": "code",
   "execution_count": 25,
   "metadata": {},
   "outputs": [],
   "source": [
    "p = ['E:/data/speakergender/dataset/vad/train/c/', 'E:/data/speakergender/dataset/vad/train/f/', 'E:/data/speakergender/dataset/vad/train/m/', 'E:/data/speakergender/dataset/vad/test/c/', \n",
    "    'E:/data/speakergender/dataset/vad/test/f/', 'E:/data/speakergender/dataset/vad/test/m/']"
   ]
  },
  {
   "cell_type": "code",
   "execution_count": 4,
   "metadata": {},
   "outputs": [
    {
     "name": "stdout",
     "output_type": "stream",
     "text": [
      "delete E:/data/speakergender/dataset/vad/train/c/_20171217182425987792.wav\n",
      "delete E:/data/speakergender/dataset/vad/train/c/_20171217211451337543.wav\n",
      "delete E:/data/speakergender/dataset/vad/train/c/_20171218082821682094.wav\n",
      "delete E:/data/speakergender/dataset/vad/train/c/_20171221184802993607.wav\n",
      "delete E:/data/speakergender/dataset/vad/train/c/_20180101133222323048.wav\n",
      "delete E:/data/speakergender/dataset/vad/train/f/_20171219181216056900.wav\n",
      "delete E:/data/speakergender/dataset/vad/train/f/_20171221153624804898.wav\n",
      "delete E:/data/speakergender/dataset/vad/train/f/_20180101134252832093.wav\n",
      "delete E:/data/speakergender/dataset/vad/train/f/_20180101140056274688.wav\n",
      "delete E:/data/speakergender/dataset/vad/train/f/_20180101162950250550.wav\n",
      "delete E:/data/speakergender/dataset/vad/train/f/_20180101195108005546.wav\n",
      "delete E:/data/speakergender/dataset/vad/train/f/_20180102091158966315.wav\n",
      "delete E:/data/speakergender/dataset/vad/train/f/_20180102094616830719.wav\n",
      "delete E:/data/speakergender/dataset/vad/train/f/_20180102101649313729.wav\n",
      "delete E:/data/speakergender/dataset/vad/train/f/_20180102114329420877.wav\n",
      "delete E:/data/speakergender/dataset/vad/train/f/_20180102144923687086.wav\n",
      "delete E:/data/speakergender/dataset/vad/train/f/_20180102183326239150.wav\n",
      "delete E:/data/speakergender/dataset/vad/train/f/_20180103154146607831.wav\n",
      "delete E:/data/speakergender/dataset/vad/train/f/_20180104085646271810.wav\n",
      "delete E:/data/speakergender/dataset/vad/train/f/_20180104141935589505.wav\n",
      "delete E:/data/speakergender/dataset/vad/train/f/_20180104143035390712.wav\n",
      "delete E:/data/speakergender/dataset/vad/train/m/_20171218151918011312.wav\n",
      "delete E:/data/speakergender/dataset/vad/train/m/_20180101101503681973.wav\n",
      "delete E:/data/speakergender/dataset/vad/train/m/_20180101144851965286.wav\n",
      "delete E:/data/speakergender/dataset/vad/train/m/_20180101145556256880.wav\n",
      "delete E:/data/speakergender/dataset/vad/train/m/_20180102095752500912.wav\n",
      "delete E:/data/speakergender/dataset/vad/train/m/_20180102190933311585.wav\n",
      "delete E:/data/speakergender/dataset/vad/train/m/_20180103115711446841.wav\n",
      "delete E:/data/speakergender/dataset/vad/train/m/_20180103154108626863.wav\n",
      "delete E:/data/speakergender/dataset/vad/train/m/_20180103180148091346.wav\n",
      "delete E:/data/speakergender/dataset/vad/train/m/_20180103183254247558.wav\n",
      "delete E:/data/speakergender/dataset/vad/test/c/_20171226155728285528.wav\n",
      "delete E:/data/speakergender/dataset/vad/test/c/_20180101081111580694.wav\n",
      "delete E:/data/speakergender/dataset/vad/test/c/_20180101092632627315.wav\n",
      "delete E:/data/speakergender/dataset/vad/test/f/_20171202124454395180.wav\n",
      "delete E:/data/speakergender/dataset/vad/test/f/_20171230165810367866.wav\n",
      "delete E:/data/speakergender/dataset/vad/test/m/_20171129232410108990.wav\n",
      "delete E:/data/speakergender/dataset/vad/test/m/_20171205013559439510.wav\n",
      "delete E:/data/speakergender/dataset/vad/test/m/_20171208092553287024.wav\n",
      "delete E:/data/speakergender/dataset/vad/test/m/_20171209160050454452.wav\n",
      "delete E:/data/speakergender/dataset/vad/test/m/_20171223201659396734.wav\n"
     ]
    }
   ],
   "source": [
    "# 删除空wav\n",
    "for path in p:\n",
    "    files = os.listdir(path)\n",
    "    for file in files:\n",
    "        pth = os.path.join(path, file)\n",
    "        sr, audio = read(pth)\n",
    "        if len(audio) == 0:\n",
    "            print('delete {}'.format(pth))\n",
    "            try:\n",
    "                os.remove(pth)\n",
    "            except:\n",
    "                print('delete {} with error.'.format(pth))"
   ]
  },
  {
   "cell_type": "code",
   "execution_count": 4,
   "metadata": {},
   "outputs": [
    {
     "data": {
      "text/plain": [
       "array([-752, -684, -568, ...,  328,  408,  320], dtype=int16)"
      ]
     },
     "execution_count": 4,
     "metadata": {},
     "output_type": "execute_result"
    }
   ],
   "source": [
    "audio1"
   ]
  },
  {
   "cell_type": "code",
   "execution_count": 5,
   "metadata": {},
   "outputs": [
    {
     "data": {
      "text/plain": [
       "array([ 256,  244,  212, ...,   -4, 2984, 2160], dtype=int16)"
      ]
     },
     "execution_count": 5,
     "metadata": {},
     "output_type": "execute_result"
    }
   ],
   "source": [
    "audio2"
   ]
  },
  {
   "cell_type": "code",
   "execution_count": 9,
   "metadata": {},
   "outputs": [
    {
     "name": "stderr",
     "output_type": "stream",
     "text": [
      "C:\\Users\\Max\\Anaconda3\\envs\\torch\\lib\\site-packages\\ipykernel_launcher.py:1: DeprecationWarning: elementwise comparison failed; this will raise an error in the future.\n",
      "  \"\"\"Entry point for launching an IPython kernel.\n"
     ]
    },
    {
     "data": {
      "text/plain": [
       "False"
      ]
     },
     "execution_count": 9,
     "metadata": {},
     "output_type": "execute_result"
    }
   ],
   "source": [
    "audio1 == audio2"
   ]
  },
  {
   "cell_type": "code",
   "execution_count": 14,
   "metadata": {},
   "outputs": [
    {
     "data": {
      "text/plain": [
       "True"
      ]
     },
     "execution_count": 14,
     "metadata": {},
     "output_type": "execute_result"
    }
   ],
   "source": [
    "audio1.all() == audio2.all()"
   ]
  },
  {
   "cell_type": "code",
   "execution_count": 20,
   "metadata": {},
   "outputs": [
    {
     "data": {
      "text/plain": [
       "False"
      ]
     },
     "execution_count": 20,
     "metadata": {},
     "output_type": "execute_result"
    }
   ],
   "source": [
    "np.array_equal(audio1,audio2)"
   ]
  },
  {
   "cell_type": "code",
   "execution_count": 26,
   "metadata": {},
   "outputs": [
    {
     "name": "stdout",
     "output_type": "stream",
     "text": [
      "E:/data/speakergender/dataset/vad/train/c/_20171224192213488097.wav\n",
      "E:/data/speakergender/dataset/vad/train/c/_20171226194706902004.wav\n",
      "E:/data/speakergender/dataset/vad/train/c/_20180101131941121196.wav\n",
      "E:/data/speakergender/dataset/vad/train/f/_20180101114139736291.wav\n",
      "E:/data/speakergender/dataset/vad/test/c/_20180101114729070481.wav\n"
     ]
    }
   ],
   "source": [
    "# 删除重复样本\n",
    "for path in p:\n",
    "    files = os.listdir(path)\n",
    "    for file in files:\n",
    "        pth = os.path.join(path, file)\n",
    "        #sr, audio = read(pth)\n",
    "        dur = librosa.get_duration(filename=pth)\n",
    "        if dur > 20:\n",
    "            print('{}'.format(pth))"
   ]
  }
 ],
 "metadata": {
  "kernelspec": {
   "display_name": "Python 3",
   "language": "python",
   "name": "python3"
  },
  "language_info": {
   "codemirror_mode": {
    "name": "ipython",
    "version": 3
   },
   "file_extension": ".py",
   "mimetype": "text/x-python",
   "name": "python",
   "nbconvert_exporter": "python",
   "pygments_lexer": "ipython3",
   "version": "3.7.3"
  }
 },
 "nbformat": 4,
 "nbformat_minor": 2
}
