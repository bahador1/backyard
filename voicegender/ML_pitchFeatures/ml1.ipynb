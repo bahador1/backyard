{
 "cells": [
  {
   "cell_type": "markdown",
   "metadata": {},
   "source": [
    "#### https://www.kaggle.com/snowsky/gender-recognition-by-voice"
   ]
  },
  {
   "cell_type": "code",
   "execution_count": 39,
   "metadata": {},
   "outputs": [],
   "source": [
    "import numpy as np\n",
    "import pandas as pd\n",
    "from subprocess import check_output\n",
    "from sklearn import preprocessing, neighbors\n",
    "from sklearn.model_selection import train_test_split\n",
    "from sklearn.linear_model import LogisticRegression\n",
    "from sklearn.metrics import confusion_matrix\n",
    "from sklearn.metrics import accuracy_score\n",
    "import seaborn as sns\n",
    "import matplotlib.pyplot as plt"
   ]
  },
  {
   "cell_type": "code",
   "execution_count": 17,
   "metadata": {},
   "outputs": [],
   "source": [
    "csv_files = {'train':'train_vad.csv', 'test':'test_vad.csv'}"
   ]
  },
  {
   "cell_type": "code",
   "execution_count": 18,
   "metadata": {},
   "outputs": [
    {
     "data": {
      "text/html": [
       "<div>\n",
       "<style scoped>\n",
       "    .dataframe tbody tr th:only-of-type {\n",
       "        vertical-align: middle;\n",
       "    }\n",
       "\n",
       "    .dataframe tbody tr th {\n",
       "        vertical-align: top;\n",
       "    }\n",
       "\n",
       "    .dataframe thead th {\n",
       "        text-align: right;\n",
       "    }\n",
       "</style>\n",
       "<table border=\"1\" class=\"dataframe\">\n",
       "  <thead>\n",
       "    <tr style=\"text-align: right;\">\n",
       "      <th></th>\n",
       "      <th>meanfreq</th>\n",
       "      <th>sd</th>\n",
       "      <th>median</th>\n",
       "      <th>Q25</th>\n",
       "      <th>Q75</th>\n",
       "      <th>IQR</th>\n",
       "      <th>skew</th>\n",
       "      <th>kurt</th>\n",
       "      <th>sp.ent</th>\n",
       "      <th>sfm</th>\n",
       "      <th>...</th>\n",
       "      <th>centroid</th>\n",
       "      <th>meanfun</th>\n",
       "      <th>minfun</th>\n",
       "      <th>maxfun</th>\n",
       "      <th>meandom</th>\n",
       "      <th>mindom</th>\n",
       "      <th>maxdom</th>\n",
       "      <th>dfrange</th>\n",
       "      <th>modindx</th>\n",
       "      <th>label</th>\n",
       "    </tr>\n",
       "  </thead>\n",
       "  <tbody>\n",
       "    <tr>\n",
       "      <th>0</th>\n",
       "      <td>0.069760</td>\n",
       "      <td>0.092657</td>\n",
       "      <td>0.020465</td>\n",
       "      <td>0.005581</td>\n",
       "      <td>0.109767</td>\n",
       "      <td>0.104186</td>\n",
       "      <td>5.431045</td>\n",
       "      <td>39.811680</td>\n",
       "      <td>0.826134</td>\n",
       "      <td>0.418953</td>\n",
       "      <td>...</td>\n",
       "      <td>0.069760</td>\n",
       "      <td>0.172705</td>\n",
       "      <td>0.036117</td>\n",
       "      <td>0.202532</td>\n",
       "      <td>0.551758</td>\n",
       "      <td>0.304688</td>\n",
       "      <td>1.171875</td>\n",
       "      <td>0.867188</td>\n",
       "      <td>0.292149</td>\n",
       "      <td>child</td>\n",
       "    </tr>\n",
       "    <tr>\n",
       "      <th>1</th>\n",
       "      <td>0.107726</td>\n",
       "      <td>0.095311</td>\n",
       "      <td>0.099281</td>\n",
       "      <td>0.012353</td>\n",
       "      <td>0.190784</td>\n",
       "      <td>0.178431</td>\n",
       "      <td>5.473482</td>\n",
       "      <td>38.987176</td>\n",
       "      <td>0.929011</td>\n",
       "      <td>0.690661</td>\n",
       "      <td>...</td>\n",
       "      <td>0.107726</td>\n",
       "      <td>0.226449</td>\n",
       "      <td>0.136752</td>\n",
       "      <td>0.275862</td>\n",
       "      <td>0.813879</td>\n",
       "      <td>0.445312</td>\n",
       "      <td>1.281250</td>\n",
       "      <td>0.835938</td>\n",
       "      <td>0.377921</td>\n",
       "      <td>child</td>\n",
       "    </tr>\n",
       "    <tr>\n",
       "      <th>2</th>\n",
       "      <td>0.135659</td>\n",
       "      <td>0.080247</td>\n",
       "      <td>0.106821</td>\n",
       "      <td>0.076069</td>\n",
       "      <td>0.209326</td>\n",
       "      <td>0.133256</td>\n",
       "      <td>1.081528</td>\n",
       "      <td>3.508639</td>\n",
       "      <td>0.963765</td>\n",
       "      <td>0.764865</td>\n",
       "      <td>...</td>\n",
       "      <td>0.135659</td>\n",
       "      <td>0.181064</td>\n",
       "      <td>0.041344</td>\n",
       "      <td>0.266667</td>\n",
       "      <td>1.051432</td>\n",
       "      <td>0.414062</td>\n",
       "      <td>1.734375</td>\n",
       "      <td>1.320312</td>\n",
       "      <td>0.423669</td>\n",
       "      <td>child</td>\n",
       "    </tr>\n",
       "    <tr>\n",
       "      <th>3</th>\n",
       "      <td>0.208981</td>\n",
       "      <td>0.081661</td>\n",
       "      <td>0.241552</td>\n",
       "      <td>0.188060</td>\n",
       "      <td>0.268299</td>\n",
       "      <td>0.080239</td>\n",
       "      <td>3.414386</td>\n",
       "      <td>17.344207</td>\n",
       "      <td>0.886398</td>\n",
       "      <td>0.506294</td>\n",
       "      <td>...</td>\n",
       "      <td>0.208981</td>\n",
       "      <td>0.188685</td>\n",
       "      <td>0.126984</td>\n",
       "      <td>0.222222</td>\n",
       "      <td>0.471354</td>\n",
       "      <td>0.351562</td>\n",
       "      <td>0.757812</td>\n",
       "      <td>0.406250</td>\n",
       "      <td>0.399038</td>\n",
       "      <td>child</td>\n",
       "    </tr>\n",
       "    <tr>\n",
       "      <th>4</th>\n",
       "      <td>0.208771</td>\n",
       "      <td>0.072472</td>\n",
       "      <td>0.234876</td>\n",
       "      <td>0.186281</td>\n",
       "      <td>0.263802</td>\n",
       "      <td>0.077521</td>\n",
       "      <td>2.755505</td>\n",
       "      <td>11.134364</td>\n",
       "      <td>0.883219</td>\n",
       "      <td>0.503064</td>\n",
       "      <td>...</td>\n",
       "      <td>0.208771</td>\n",
       "      <td>0.162924</td>\n",
       "      <td>0.028881</td>\n",
       "      <td>0.190476</td>\n",
       "      <td>0.812500</td>\n",
       "      <td>0.585938</td>\n",
       "      <td>1.101562</td>\n",
       "      <td>0.515625</td>\n",
       "      <td>0.460606</td>\n",
       "      <td>child</td>\n",
       "    </tr>\n",
       "  </tbody>\n",
       "</table>\n",
       "<p>5 rows × 21 columns</p>\n",
       "</div>"
      ],
      "text/plain": [
       "   meanfreq        sd    median       Q25       Q75       IQR      skew  \\\n",
       "0  0.069760  0.092657  0.020465  0.005581  0.109767  0.104186  5.431045   \n",
       "1  0.107726  0.095311  0.099281  0.012353  0.190784  0.178431  5.473482   \n",
       "2  0.135659  0.080247  0.106821  0.076069  0.209326  0.133256  1.081528   \n",
       "3  0.208981  0.081661  0.241552  0.188060  0.268299  0.080239  3.414386   \n",
       "4  0.208771  0.072472  0.234876  0.186281  0.263802  0.077521  2.755505   \n",
       "\n",
       "        kurt    sp.ent       sfm  ...  centroid   meanfun    minfun    maxfun  \\\n",
       "0  39.811680  0.826134  0.418953  ...  0.069760  0.172705  0.036117  0.202532   \n",
       "1  38.987176  0.929011  0.690661  ...  0.107726  0.226449  0.136752  0.275862   \n",
       "2   3.508639  0.963765  0.764865  ...  0.135659  0.181064  0.041344  0.266667   \n",
       "3  17.344207  0.886398  0.506294  ...  0.208981  0.188685  0.126984  0.222222   \n",
       "4  11.134364  0.883219  0.503064  ...  0.208771  0.162924  0.028881  0.190476   \n",
       "\n",
       "    meandom    mindom    maxdom   dfrange   modindx  label  \n",
       "0  0.551758  0.304688  1.171875  0.867188  0.292149  child  \n",
       "1  0.813879  0.445312  1.281250  0.835938  0.377921  child  \n",
       "2  1.051432  0.414062  1.734375  1.320312  0.423669  child  \n",
       "3  0.471354  0.351562  0.757812  0.406250  0.399038  child  \n",
       "4  0.812500  0.585938  1.101562  0.515625  0.460606  child  \n",
       "\n",
       "[5 rows x 21 columns]"
      ]
     },
     "execution_count": 18,
     "metadata": {},
     "output_type": "execute_result"
    }
   ],
   "source": [
    "df_train = pd.read_csv(csv_files['train'])\n",
    "df_train = df_train.drop(columns=['sound.files', 'duration'])\n",
    "df_train.head(5)"
   ]
  },
  {
   "cell_type": "code",
   "execution_count": 19,
   "metadata": {},
   "outputs": [
    {
     "data": {
      "text/html": [
       "<div>\n",
       "<style scoped>\n",
       "    .dataframe tbody tr th:only-of-type {\n",
       "        vertical-align: middle;\n",
       "    }\n",
       "\n",
       "    .dataframe tbody tr th {\n",
       "        vertical-align: top;\n",
       "    }\n",
       "\n",
       "    .dataframe thead th {\n",
       "        text-align: right;\n",
       "    }\n",
       "</style>\n",
       "<table border=\"1\" class=\"dataframe\">\n",
       "  <thead>\n",
       "    <tr style=\"text-align: right;\">\n",
       "      <th></th>\n",
       "      <th>meanfreq</th>\n",
       "      <th>sd</th>\n",
       "      <th>median</th>\n",
       "      <th>Q25</th>\n",
       "      <th>Q75</th>\n",
       "      <th>IQR</th>\n",
       "      <th>skew</th>\n",
       "      <th>kurt</th>\n",
       "      <th>sp.ent</th>\n",
       "      <th>sfm</th>\n",
       "      <th>...</th>\n",
       "      <th>centroid</th>\n",
       "      <th>meanfun</th>\n",
       "      <th>minfun</th>\n",
       "      <th>maxfun</th>\n",
       "      <th>meandom</th>\n",
       "      <th>mindom</th>\n",
       "      <th>maxdom</th>\n",
       "      <th>dfrange</th>\n",
       "      <th>modindx</th>\n",
       "      <th>label</th>\n",
       "    </tr>\n",
       "  </thead>\n",
       "  <tbody>\n",
       "    <tr>\n",
       "      <th>0</th>\n",
       "      <td>0.225199</td>\n",
       "      <td>0.066435</td>\n",
       "      <td>0.249773</td>\n",
       "      <td>0.219545</td>\n",
       "      <td>0.267803</td>\n",
       "      <td>0.048258</td>\n",
       "      <td>2.927013</td>\n",
       "      <td>12.167927</td>\n",
       "      <td>0.858395</td>\n",
       "      <td>0.417524</td>\n",
       "      <td>...</td>\n",
       "      <td>0.225199</td>\n",
       "      <td>0.188293</td>\n",
       "      <td>0.031250</td>\n",
       "      <td>0.275862</td>\n",
       "      <td>1.004972</td>\n",
       "      <td>0.000000</td>\n",
       "      <td>5.718750</td>\n",
       "      <td>5.718750</td>\n",
       "      <td>0.144657</td>\n",
       "      <td>child</td>\n",
       "    </tr>\n",
       "    <tr>\n",
       "      <th>1</th>\n",
       "      <td>0.253216</td>\n",
       "      <td>0.038139</td>\n",
       "      <td>0.264252</td>\n",
       "      <td>0.249273</td>\n",
       "      <td>0.274239</td>\n",
       "      <td>0.024966</td>\n",
       "      <td>3.723604</td>\n",
       "      <td>18.817111</td>\n",
       "      <td>0.766713</td>\n",
       "      <td>0.150553</td>\n",
       "      <td>...</td>\n",
       "      <td>0.253216</td>\n",
       "      <td>0.208720</td>\n",
       "      <td>0.023155</td>\n",
       "      <td>0.275862</td>\n",
       "      <td>0.968359</td>\n",
       "      <td>0.000000</td>\n",
       "      <td>3.531250</td>\n",
       "      <td>3.531250</td>\n",
       "      <td>0.222287</td>\n",
       "      <td>child</td>\n",
       "    </tr>\n",
       "    <tr>\n",
       "      <th>2</th>\n",
       "      <td>0.205868</td>\n",
       "      <td>0.072096</td>\n",
       "      <td>0.233010</td>\n",
       "      <td>0.203945</td>\n",
       "      <td>0.249481</td>\n",
       "      <td>0.045536</td>\n",
       "      <td>3.074780</td>\n",
       "      <td>13.509514</td>\n",
       "      <td>0.866908</td>\n",
       "      <td>0.391388</td>\n",
       "      <td>...</td>\n",
       "      <td>0.205868</td>\n",
       "      <td>0.224472</td>\n",
       "      <td>0.128000</td>\n",
       "      <td>0.271186</td>\n",
       "      <td>0.897949</td>\n",
       "      <td>0.234375</td>\n",
       "      <td>4.851562</td>\n",
       "      <td>4.617188</td>\n",
       "      <td>0.180598</td>\n",
       "      <td>child</td>\n",
       "    </tr>\n",
       "    <tr>\n",
       "      <th>3</th>\n",
       "      <td>0.197341</td>\n",
       "      <td>0.064822</td>\n",
       "      <td>0.224982</td>\n",
       "      <td>0.176351</td>\n",
       "      <td>0.237263</td>\n",
       "      <td>0.060912</td>\n",
       "      <td>3.740208</td>\n",
       "      <td>19.817440</td>\n",
       "      <td>0.895382</td>\n",
       "      <td>0.497791</td>\n",
       "      <td>...</td>\n",
       "      <td>0.197341</td>\n",
       "      <td>0.197281</td>\n",
       "      <td>0.057971</td>\n",
       "      <td>0.250000</td>\n",
       "      <td>1.431250</td>\n",
       "      <td>0.453125</td>\n",
       "      <td>6.484375</td>\n",
       "      <td>6.031250</td>\n",
       "      <td>0.284974</td>\n",
       "      <td>child</td>\n",
       "    </tr>\n",
       "    <tr>\n",
       "      <th>4</th>\n",
       "      <td>0.205682</td>\n",
       "      <td>0.060251</td>\n",
       "      <td>0.228571</td>\n",
       "      <td>0.200000</td>\n",
       "      <td>0.236923</td>\n",
       "      <td>0.036923</td>\n",
       "      <td>4.294896</td>\n",
       "      <td>25.418551</td>\n",
       "      <td>0.869554</td>\n",
       "      <td>0.438868</td>\n",
       "      <td>...</td>\n",
       "      <td>0.205682</td>\n",
       "      <td>0.206830</td>\n",
       "      <td>0.102564</td>\n",
       "      <td>0.250000</td>\n",
       "      <td>0.791360</td>\n",
       "      <td>0.242188</td>\n",
       "      <td>3.203125</td>\n",
       "      <td>2.960938</td>\n",
       "      <td>0.164248</td>\n",
       "      <td>child</td>\n",
       "    </tr>\n",
       "  </tbody>\n",
       "</table>\n",
       "<p>5 rows × 21 columns</p>\n",
       "</div>"
      ],
      "text/plain": [
       "   meanfreq        sd    median       Q25       Q75       IQR      skew  \\\n",
       "0  0.225199  0.066435  0.249773  0.219545  0.267803  0.048258  2.927013   \n",
       "1  0.253216  0.038139  0.264252  0.249273  0.274239  0.024966  3.723604   \n",
       "2  0.205868  0.072096  0.233010  0.203945  0.249481  0.045536  3.074780   \n",
       "3  0.197341  0.064822  0.224982  0.176351  0.237263  0.060912  3.740208   \n",
       "4  0.205682  0.060251  0.228571  0.200000  0.236923  0.036923  4.294896   \n",
       "\n",
       "        kurt    sp.ent       sfm  ...  centroid   meanfun    minfun    maxfun  \\\n",
       "0  12.167927  0.858395  0.417524  ...  0.225199  0.188293  0.031250  0.275862   \n",
       "1  18.817111  0.766713  0.150553  ...  0.253216  0.208720  0.023155  0.275862   \n",
       "2  13.509514  0.866908  0.391388  ...  0.205868  0.224472  0.128000  0.271186   \n",
       "3  19.817440  0.895382  0.497791  ...  0.197341  0.197281  0.057971  0.250000   \n",
       "4  25.418551  0.869554  0.438868  ...  0.205682  0.206830  0.102564  0.250000   \n",
       "\n",
       "    meandom    mindom    maxdom   dfrange   modindx  label  \n",
       "0  1.004972  0.000000  5.718750  5.718750  0.144657  child  \n",
       "1  0.968359  0.000000  3.531250  3.531250  0.222287  child  \n",
       "2  0.897949  0.234375  4.851562  4.617188  0.180598  child  \n",
       "3  1.431250  0.453125  6.484375  6.031250  0.284974  child  \n",
       "4  0.791360  0.242188  3.203125  2.960938  0.164248  child  \n",
       "\n",
       "[5 rows x 21 columns]"
      ]
     },
     "execution_count": 19,
     "metadata": {},
     "output_type": "execute_result"
    }
   ],
   "source": [
    "df_test = pd.read_csv(csv_files['test'])\n",
    "df_test = df_test.drop(columns=['sound.files', 'duration'])\n",
    "df_test.head(5)"
   ]
  },
  {
   "cell_type": "code",
   "execution_count": 12,
   "metadata": {},
   "outputs": [
    {
     "data": {
      "text/plain": [
       "<matplotlib.axes._subplots.AxesSubplot at 0xed7c58550>"
      ]
     },
     "execution_count": 12,
     "metadata": {},
     "output_type": "execute_result"
    },
    {
     "data": {
      "image/png": "[encoded data removed]",
      "text/plain": [
       "<Figure size 432x288 with 2 Axes>"
      ]
     },
     "metadata": {
      "needs_background": "light"
     },
     "output_type": "display_data"
    }
   ],
   "source": [
    "corrmat=df_train.corr()\n",
    "sns.heatmap(corrmat,linewidths=0.25,vmax=1.0, square=True, cmap=\"YlGnBu\", linecolor='black')"
   ]
  },
  {
   "cell_type": "code",
   "execution_count": 13,
   "metadata": {},
   "outputs": [
    {
     "data": {
      "text/plain": [
       "<matplotlib.axes._subplots.AxesSubplot at 0xed885a128>"
      ]
     },
     "execution_count": 13,
     "metadata": {},
     "output_type": "execute_result"
    },
    {
     "data": {
      "image/png": "[encoded data removed]",
      "text/plain": [
       "<Figure size 432x288 with 2 Axes>"
      ]
     },
     "metadata": {
      "needs_background": "light"
     },
     "output_type": "display_data"
    }
   ],
   "source": [
    "corrmat=df_test.corr()\n",
    "sns.heatmap(corrmat,linewidths=0.25,vmax=1.0, square=True, cmap=\"YlGnBu\", linecolor='black')"
   ]
  },
  {
   "cell_type": "code",
   "execution_count": 15,
   "metadata": {},
   "outputs": [
    {
     "name": "stdout",
     "output_type": "stream",
     "text": [
      "['meanfreq', 'sd', 'median', 'Q25', 'Q75', 'IQR', 'skew', 'kurt', 'sp.ent', 'sfm', 'mode', 'centroid', 'meanfun', 'minfun', 'maxfun', 'meandom', 'mindom', 'maxdom', 'dfrange', 'modindx', 'label']\n",
      "<class 'numpy.ndarray'>\n"
     ]
    }
   ],
   "source": [
    "# Name of the columns\n",
    "col_names = list(df_train.columns.values)\n",
    "print(col_names)\n",
    "print (type(df_train.columns.values))"
   ]
  },
  {
   "cell_type": "code",
   "execution_count": 40,
   "metadata": {},
   "outputs": [],
   "source": [
    "def plot_cm(y_true, y_pred, desc = None):\n",
    "    labels = [\"child\", \"female\", \"male\"]\n",
    "    mat = confusion_matrix(y_true, y_pred, labels=labels)\n",
    "    accuracy = accuracy_score(y_true, y_pred)\n",
    "    sns.heatmap(mat.T, square=True, annot=True, fmt='d', cbar=False,\n",
    "                xticklabels=labels,\n",
    "                yticklabels=labels)\n",
    "    if desc != None:\n",
    "        plt.title('{}:{}'.format(desc, accuracy))\n",
    "    plt.xlabel('true label')\n",
    "    plt.ylabel('predicted label');\n",
    "    plt.show()"
   ]
  },
  {
   "cell_type": "code",
   "execution_count": 41,
   "metadata": {},
   "outputs": [
    {
     "name": "stderr",
     "output_type": "stream",
     "text": [
      "C:\\Users\\Max\\Anaconda3\\envs\\torch\\lib\\site-packages\\sklearn\\linear_model\\logistic.py:433: FutureWarning: Default solver will be changed to 'lbfgs' in 0.22. Specify a solver to silence this warning.\n",
      "  FutureWarning)\n",
      "C:\\Users\\Max\\Anaconda3\\envs\\torch\\lib\\site-packages\\sklearn\\linear_model\\logistic.py:460: FutureWarning: Default multi_class will be changed to 'auto' in 0.22. Specify the multi_class option to silence this warning.\n",
      "  \"this warning.\", FutureWarning)\n"
     ]
    },
    {
     "data": {
      "image/png": "[encoded data removed]",
      "text/plain": [
       "<Figure size 432x288 with 1 Axes>"
      ]
     },
     "metadata": {
      "needs_background": "light"
     },
     "output_type": "display_data"
    },
    {
     "name": "stdout",
     "output_type": "stream",
     "text": [
      "Accuracy1 : 0.7244900022239744\n",
      "Accuracy2 : 0.6434298440979955\n"
     ]
    }
   ],
   "source": [
    "#Lets use logistic Regression:\n",
    "\n",
    "#Producing X and y\n",
    "X_train = np.array(df_train.drop(['label'], 1))\n",
    "y_train = np.array(df_train['label'])\n",
    "\n",
    "X_test = np.array(df_test.drop(['label'], 1))\n",
    "y_test = np.array(df_test['label'])\n",
    "\n",
    "model=LogisticRegression()\n",
    "model.fit(X_train,y_train)\n",
    "\n",
    "y_pred = model.predict(X_test)\n",
    "plot_cm(y_test, y_pred, desc = 'logistic Regression')\n",
    "print('Accuracy1 :',model.score(X_train,y_train))\n",
    "print('Accuracy2 :',model.score(X_test,y_test))"
   ]
  },
  {
   "cell_type": "code",
   "execution_count": 42,
   "metadata": {},
   "outputs": [
    {
     "name": "stdout",
     "output_type": "stream",
     "text": [
      "Accuracy=0.5287305122494432\n"
     ]
    }
   ],
   "source": [
    "#KNN Classifier\n",
    "#Producing X and y\n",
    "X_train = np.array(df_train.drop(['label'], 1))\n",
    "y_train = np.array(df_train['label'])\n",
    "\n",
    "X_test = np.array(df_test.drop(['label'], 1))\n",
    "y_test = np.array(df_test['label'])\n",
    "\n",
    "model = neighbors.KNeighborsClassifier()\n",
    "model.fit(X_train, y_train)\n",
    "\n",
    "accuracy = model.score(X_test, y_test)\n",
    "print('Accuracy='+str(accuracy))"
   ]
  },
  {
   "cell_type": "code",
   "execution_count": 44,
   "metadata": {},
   "outputs": [
    {
     "data": {
      "image/png": "[encoded data removed]",
      "text/plain": [
       "<Figure size 432x288 with 1 Axes>"
      ]
     },
     "metadata": {
      "needs_background": "light"
     },
     "output_type": "display_data"
    },
    {
     "name": "stdout",
     "output_type": "stream",
     "text": [
      "Accuracy2=0.6619153674832963\n"
     ]
    }
   ],
   "source": [
    "# fine tune KNN\n",
    "df_train1=df_train[['meanfreq','sd','median','meanfun','label']]\n",
    "X_train1 = np.array(df_train1.drop(['label'], 1))\n",
    "y_train1 = np.array(df_train1['label'])\n",
    "\n",
    "df_test1=df_test[['meanfreq','sd','median','meanfun','label']]\n",
    "X_test1 = np.array(df_test1.drop(['label'], 1))\n",
    "y_test1 = np.array(df_test1['label'])\n",
    "\n",
    "\n",
    "model = neighbors.KNeighborsClassifier()\n",
    "model.fit(X_train1, y_train1)\n",
    "\n",
    "y_pred1 = model.predict(X_test1)\n",
    "plot_cm(y_test1, y_pred1, desc = 'KNN')\n",
    "\n",
    "accuracy2 = model.score(X_test1, y_test1)\n",
    "print('Accuracy2='+str(accuracy2))"
   ]
  },
  {
   "cell_type": "code",
   "execution_count": 47,
   "metadata": {},
   "outputs": [
    {
     "data": {
      "image/png": "[encoded data removed]",
      "text/plain": [
       "<Figure size 432x288 with 1 Axes>"
      ]
     },
     "metadata": {
      "needs_background": "light"
     },
     "output_type": "display_data"
    },
    {
     "name": "stdout",
     "output_type": "stream",
     "text": [
      "Accuracy=0.6380846325167038\n"
     ]
    }
   ],
   "source": [
    "df_train2=df_train[['meanfreq','sd','meanfun','label']]\n",
    "X_train2 = np.array(df_train2.drop(['label'], 1))\n",
    "y_train2 = np.array(df_train2['label'])\n",
    "\n",
    "df_test2=df_test[['meanfreq','sd','meanfun','label']]\n",
    "X_test2 = np.array(df_test2.drop(['label'], 1))\n",
    "y_test2 = np.array(df_test2['label'])\n",
    "\n",
    "model = neighbors.KNeighborsClassifier()\n",
    "model.fit(X_train2, y_train2)\n",
    "\n",
    "y_pred2 = model.predict(X_test2)\n",
    "plot_cm(y_test2, y_pred2, desc = 'KNN')\n",
    "\n",
    "accuracy2 = model.score(X_test2, y_test2)\n",
    "print('Accuracy='+str(accuracy2))"
   ]
  },
  {
   "cell_type": "code",
   "execution_count": 48,
   "metadata": {},
   "outputs": [
    {
     "data": {
      "text/html": [
       "<div>\n",
       "<style scoped>\n",
       "    .dataframe tbody tr th:only-of-type {\n",
       "        vertical-align: middle;\n",
       "    }\n",
       "\n",
       "    .dataframe tbody tr th {\n",
       "        vertical-align: top;\n",
       "    }\n",
       "\n",
       "    .dataframe thead th {\n",
       "        text-align: right;\n",
       "    }\n",
       "</style>\n",
       "<table border=\"1\" class=\"dataframe\">\n",
       "  <thead>\n",
       "    <tr style=\"text-align: right;\">\n",
       "      <th></th>\n",
       "      <th>F Score</th>\n",
       "      <th>P Value</th>\n",
       "      <th>Support</th>\n",
       "      <th>Attribute</th>\n",
       "    </tr>\n",
       "  </thead>\n",
       "  <tbody>\n",
       "    <tr>\n",
       "      <th>12</th>\n",
       "      <td>14031.387153</td>\n",
       "      <td>0.000000e+00</td>\n",
       "      <td>True</td>\n",
       "      <td>meanfun</td>\n",
       "    </tr>\n",
       "    <tr>\n",
       "      <th>14</th>\n",
       "      <td>9555.801207</td>\n",
       "      <td>0.000000e+00</td>\n",
       "      <td>True</td>\n",
       "      <td>maxfun</td>\n",
       "    </tr>\n",
       "    <tr>\n",
       "      <th>1</th>\n",
       "      <td>3559.869975</td>\n",
       "      <td>0.000000e+00</td>\n",
       "      <td>True</td>\n",
       "      <td>sd</td>\n",
       "    </tr>\n",
       "    <tr>\n",
       "      <th>0</th>\n",
       "      <td>3492.887715</td>\n",
       "      <td>0.000000e+00</td>\n",
       "      <td>True</td>\n",
       "      <td>meanfreq</td>\n",
       "    </tr>\n",
       "    <tr>\n",
       "      <th>11</th>\n",
       "      <td>3492.887715</td>\n",
       "      <td>0.000000e+00</td>\n",
       "      <td>True</td>\n",
       "      <td>centroid</td>\n",
       "    </tr>\n",
       "    <tr>\n",
       "      <th>3</th>\n",
       "      <td>3352.928578</td>\n",
       "      <td>0.000000e+00</td>\n",
       "      <td>False</td>\n",
       "      <td>Q25</td>\n",
       "    </tr>\n",
       "    <tr>\n",
       "      <th>2</th>\n",
       "      <td>3342.705819</td>\n",
       "      <td>0.000000e+00</td>\n",
       "      <td>False</td>\n",
       "      <td>median</td>\n",
       "    </tr>\n",
       "    <tr>\n",
       "      <th>5</th>\n",
       "      <td>2826.285627</td>\n",
       "      <td>0.000000e+00</td>\n",
       "      <td>False</td>\n",
       "      <td>IQR</td>\n",
       "    </tr>\n",
       "    <tr>\n",
       "      <th>6</th>\n",
       "      <td>2589.689229</td>\n",
       "      <td>0.000000e+00</td>\n",
       "      <td>False</td>\n",
       "      <td>skew</td>\n",
       "    </tr>\n",
       "    <tr>\n",
       "      <th>7</th>\n",
       "      <td>2299.868344</td>\n",
       "      <td>0.000000e+00</td>\n",
       "      <td>False</td>\n",
       "      <td>kurt</td>\n",
       "    </tr>\n",
       "    <tr>\n",
       "      <th>9</th>\n",
       "      <td>2242.769190</td>\n",
       "      <td>0.000000e+00</td>\n",
       "      <td>False</td>\n",
       "      <td>sfm</td>\n",
       "    </tr>\n",
       "    <tr>\n",
       "      <th>4</th>\n",
       "      <td>2153.904505</td>\n",
       "      <td>0.000000e+00</td>\n",
       "      <td>False</td>\n",
       "      <td>Q75</td>\n",
       "    </tr>\n",
       "    <tr>\n",
       "      <th>8</th>\n",
       "      <td>1915.823823</td>\n",
       "      <td>0.000000e+00</td>\n",
       "      <td>False</td>\n",
       "      <td>sp.ent</td>\n",
       "    </tr>\n",
       "    <tr>\n",
       "      <th>15</th>\n",
       "      <td>1786.224335</td>\n",
       "      <td>0.000000e+00</td>\n",
       "      <td>False</td>\n",
       "      <td>meandom</td>\n",
       "    </tr>\n",
       "    <tr>\n",
       "      <th>10</th>\n",
       "      <td>896.941322</td>\n",
       "      <td>0.000000e+00</td>\n",
       "      <td>False</td>\n",
       "      <td>mode</td>\n",
       "    </tr>\n",
       "    <tr>\n",
       "      <th>17</th>\n",
       "      <td>759.916662</td>\n",
       "      <td>0.000000e+00</td>\n",
       "      <td>False</td>\n",
       "      <td>maxdom</td>\n",
       "    </tr>\n",
       "    <tr>\n",
       "      <th>18</th>\n",
       "      <td>671.656980</td>\n",
       "      <td>1.563608e-288</td>\n",
       "      <td>False</td>\n",
       "      <td>dfrange</td>\n",
       "    </tr>\n",
       "    <tr>\n",
       "      <th>16</th>\n",
       "      <td>497.135127</td>\n",
       "      <td>1.731763e-214</td>\n",
       "      <td>False</td>\n",
       "      <td>mindom</td>\n",
       "    </tr>\n",
       "    <tr>\n",
       "      <th>19</th>\n",
       "      <td>474.925350</td>\n",
       "      <td>4.990570e-205</td>\n",
       "      <td>False</td>\n",
       "      <td>modindx</td>\n",
       "    </tr>\n",
       "    <tr>\n",
       "      <th>13</th>\n",
       "      <td>170.015704</td>\n",
       "      <td>2.604838e-74</td>\n",
       "      <td>False</td>\n",
       "      <td>minfun</td>\n",
       "    </tr>\n",
       "  </tbody>\n",
       "</table>\n",
       "</div>"
      ],
      "text/plain": [
       "         F Score        P Value  Support Attribute\n",
       "12  14031.387153   0.000000e+00     True   meanfun\n",
       "14   9555.801207   0.000000e+00     True    maxfun\n",
       "1    3559.869975   0.000000e+00     True        sd\n",
       "0    3492.887715   0.000000e+00     True  meanfreq\n",
       "11   3492.887715   0.000000e+00     True  centroid\n",
       "3    3352.928578   0.000000e+00    False       Q25\n",
       "2    3342.705819   0.000000e+00    False    median\n",
       "5    2826.285627   0.000000e+00    False       IQR\n",
       "6    2589.689229   0.000000e+00    False      skew\n",
       "7    2299.868344   0.000000e+00    False      kurt\n",
       "9    2242.769190   0.000000e+00    False       sfm\n",
       "4    2153.904505   0.000000e+00    False       Q75\n",
       "8    1915.823823   0.000000e+00    False    sp.ent\n",
       "15   1786.224335   0.000000e+00    False   meandom\n",
       "10    896.941322   0.000000e+00    False      mode\n",
       "17    759.916662   0.000000e+00    False    maxdom\n",
       "18    671.656980  1.563608e-288    False   dfrange\n",
       "16    497.135127  1.731763e-214    False    mindom\n",
       "19    474.925350  4.990570e-205    False   modindx\n",
       "13    170.015704   2.604838e-74    False    minfun"
      ]
     },
     "execution_count": 48,
     "metadata": {},
     "output_type": "execute_result"
    }
   ],
   "source": [
    "# Improving the model using feature_selection from sklearn\n",
    "from sklearn.feature_selection import SelectKBest, f_classif\n",
    "\n",
    "def select_kbest_clf(data_frame, target, k=5):\n",
    "    \"\"\"\n",
    "    Selecting K-Best features for classification\n",
    "    :param data_frame: A pandas dataFrame with the training data\n",
    "    :param target: target variable name in DataFrame\n",
    "    :param k: desired number of features from the data\n",
    "    :returns feature_scores: scores for each feature in the data as \n",
    "    pandas DataFrame\n",
    "    \"\"\"\n",
    "    feat_selector = SelectKBest(f_classif, k=k)\n",
    "    _ = feat_selector.fit(data_frame.drop(target, axis=1), data_frame[target])\n",
    "    \n",
    "    feat_scores = pd.DataFrame()\n",
    "    feat_scores[\"F Score\"] = feat_selector.scores_\n",
    "    feat_scores[\"P Value\"] = feat_selector.pvalues_\n",
    "    feat_scores[\"Support\"] = feat_selector.get_support()\n",
    "    feat_scores[\"Attribute\"] = data_frame.drop(target, axis=1).columns\n",
    "    \n",
    "    return feat_scores\n",
    "k=select_kbest_clf(df_train, 'label', k=5).sort_values(['F Score'],ascending=False)\n",
    "\n",
    "k"
   ]
  },
  {
   "cell_type": "code",
   "execution_count": 49,
   "metadata": {},
   "outputs": [
    {
     "data": {
      "text/plain": [
       "Text(0.5, 1.0, 'Feature Importance')"
      ]
     },
     "execution_count": 49,
     "metadata": {},
     "output_type": "execute_result"
    },
    {
     "data": {
      "image/png": "[encoded data removed]",
      "text/plain": [
       "<Figure size 432x288 with 1 Axes>"
      ]
     },
     "metadata": {
      "needs_background": "light"
     },
     "output_type": "display_data"
    }
   ],
   "source": [
    "k1=sns.barplot(x=k['F Score'],y=k['Attribute'])\n",
    "k1.set_title('Feature Importance')"
   ]
  },
  {
   "cell_type": "code",
   "execution_count": 53,
   "metadata": {},
   "outputs": [
    {
     "data": {
      "image/png": "[encoded data removed]",
      "text/plain": [
       "<Figure size 432x288 with 1 Axes>"
      ]
     },
     "metadata": {
      "needs_background": "light"
     },
     "output_type": "display_data"
    },
    {
     "name": "stdout",
     "output_type": "stream",
     "text": [
      "Accuracy3=0.6779510022271715\n"
     ]
    }
   ],
   "source": [
    "df_train3=df_train[['meanfun','maxfun', 'sd', 'meanfreq','centroid','Q25','median', 'label']]\n",
    "df_test3=df_test[['meanfun','maxfun', 'sd', 'meanfreq','centroid','Q25','median', 'label']]\n",
    "\n",
    "X_train3 = np.array(df_train3.drop(['label'], 1))\n",
    "y_train3 = np.array(df_train3['label'])\n",
    "\n",
    "X_test3 = np.array(df_test3.drop(['label'], 1))\n",
    "y_test3 = np.array(df_test3['label'])\n",
    "\n",
    "model = neighbors.KNeighborsClassifier()\n",
    "model.fit(X_train3, y_train3)\n",
    "\n",
    "y_pred3 = model.predict(X_test3)\n",
    "plot_cm(y_test3, y_pred3, desc = 'KNN')\n",
    "\n",
    "accuracy3 = model.score(X_test3, y_test3)\n",
    "print('Accuracy3='+str(accuracy3))"
   ]
  },
  {
   "cell_type": "code",
   "execution_count": 65,
   "metadata": {},
   "outputs": [
    {
     "data": {
      "image/png": "[encoded data removed]",
      "text/plain": [
       "<Figure size 432x288 with 1 Axes>"
      ]
     },
     "metadata": {
      "needs_background": "light"
     },
     "output_type": "display_data"
    }
   ],
   "source": [
    "# Decision Tree with Boosting(AdaBoostClassifier)\n",
    "df_train4 = df_train.replace({'child':0, 'male':1,'female':2})\n",
    "df_test4 = df_test.replace({'child':0, 'male':1,'female':2})\n",
    "\n",
    "X_train4 = np.array(df_train4.drop(['label'], 1))\n",
    "y_train4 = np.array(df_train4['label'])\n",
    "\n",
    "X_test4 = np.array(df_test4.drop(['label'], 1))\n",
    "y_test4 = np.array(df_test4['label'])\n",
    "\n",
    "from sklearn.tree import DecisionTreeClassifier\n",
    "from sklearn.metrics import roc_auc_score\n",
    "from sklearn.ensemble import AdaBoostClassifier\n",
    "#DecisionTreeClassifier\n",
    "dt = DecisionTreeClassifier(max_depth=3,min_samples_leaf=int(0.5*len(X_train4)))\n",
    "boosted_dt = AdaBoostClassifier(dt, algorithm='SAMME', n_estimators=800, learning_rate=0.5)\n",
    "boosted_dt.fit(X_train4,y_train4)\n",
    "\n",
    "y_predicted = boosted_dt.predict(X_test4)\n",
    "label = {0:'child', 1:'male', 2:'female'}\n",
    "y_predicted = [label[i] for i in y_predicted]\n",
    "y_test4 = [label[i] for i in y_test4]\n",
    "\n",
    "plot_cm(y_test4, y_predicted, desc = 'Decision Tree')"
   ]
  },
  {
   "cell_type": "code",
   "execution_count": 69,
   "metadata": {},
   "outputs": [],
   "source": [
    "# Support Vector Machine\n",
    "from sklearn import svm\n",
    "\n",
    "df_train5 = df_train.replace({'child':0, 'male':1,'female':2})\n",
    "df_test5 = df_test.replace({'child':0, 'male':1,'female':2})\n",
    "\n",
    "X_train5 = np.array(df_train5.drop(['label'], 1))\n",
    "y_train5 = np.array(df_train5['label'])\n",
    "\n",
    "X_test5 = np.array(df_test5.drop(['label'], 1))\n",
    "y_test5 = np.array(df_test5['label'])"
   ]
  },
  {
   "cell_type": "code",
   "execution_count": 70,
   "metadata": {},
   "outputs": [
    {
     "data": {
      "text/plain": [
       "SVC(C=1.0, cache_size=200, class_weight=None, coef0=0.0,\n",
       "  decision_function_shape='ovo', degree=3, gamma='scale', kernel='rbf',\n",
       "  max_iter=-1, probability=False, random_state=None, shrinking=True,\n",
       "  tol=0.001, verbose=False)"
      ]
     },
     "execution_count": 70,
     "metadata": {},
     "output_type": "execute_result"
    }
   ],
   "source": [
    "#  “one-against-one”\n",
    "clf = svm.SVC(gamma='scale', decision_function_shape='ovo')\n",
    "clf.fit(X_train5, y_train5) "
   ]
  },
  {
   "cell_type": "code",
   "execution_count": 74,
   "metadata": {},
   "outputs": [
    {
     "data": {
      "image/png": "[encoded data removed]",
      "text/plain": [
       "<Figure size 432x288 with 1 Axes>"
      ]
     },
     "metadata": {
      "needs_background": "light"
     },
     "output_type": "display_data"
    }
   ],
   "source": [
    "pred = clf.predict(X_test5)\n",
    "label = {0:'child', 1:'male', 2:'female'}\n",
    "pred = [label[i] for i in pred]\n",
    "y_test5 = [label[i] for i in y_test5]\n",
    "plot_cm(y_test5, pred, desc = 'SVM')"
   ]
  },
  {
   "cell_type": "code",
   "execution_count": 71,
   "metadata": {},
   "outputs": [
    {
     "name": "stderr",
     "output_type": "stream",
     "text": [
      "C:\\Users\\Max\\Anaconda3\\envs\\torch\\lib\\site-packages\\sklearn\\svm\\base.py:931: ConvergenceWarning: Liblinear failed to converge, increase the number of iterations.\n",
      "  \"the number of iterations.\", ConvergenceWarning)\n"
     ]
    },
    {
     "data": {
      "text/plain": [
       "LinearSVC(C=1.0, class_weight=None, dual=True, fit_intercept=True,\n",
       "     intercept_scaling=1, loss='squared_hinge', max_iter=3000,\n",
       "     multi_class='ovr', penalty='l2', random_state=None, tol=0.0001,\n",
       "     verbose=0)"
      ]
     },
     "execution_count": 71,
     "metadata": {},
     "output_type": "execute_result"
    }
   ],
   "source": [
    "#  “one-vs-the-rest”\n",
    "lin_clf = svm.LinearSVC(max_iter = 3000)\n",
    "lin_clf.fit(X_train5, y_train5)"
   ]
  },
  {
   "cell_type": "code",
   "execution_count": 76,
   "metadata": {},
   "outputs": [
    {
     "data": {
      "image/png": "[encoded data removed]",
      "text/plain": [
       "<Figure size 432x288 with 1 Axes>"
      ]
     },
     "metadata": {
      "needs_background": "light"
     },
     "output_type": "display_data"
    }
   ],
   "source": [
    "pred = lin_clf.predict(X_test5)\n",
    "label = {0:'child', 1:'male', 2:'female'}\n",
    "pred = [label[i] for i in pred]\n",
    "plot_cm(y_test5, pred, desc = 'SVM')"
   ]
  },
  {
   "cell_type": "code",
   "execution_count": null,
   "metadata": {},
   "outputs": [],
   "source": []
  }
 ],
 "metadata": {
  "kernelspec": {
   "display_name": "Python 3",
   "language": "python",
   "name": "python3"
  },
  "language_info": {
   "codemirror_mode": {
    "name": "ipython",
    "version": 3
   },
   "file_extension": ".py",
   "mimetype": "text/x-python",
   "name": "python",
   "nbconvert_exporter": "python",
   "pygments_lexer": "ipython3",
   "version": "3.7.3"
  }
 },
 "nbformat": 4,
 "nbformat_minor": 2
}
